{
 "cells": [
  {
   "cell_type": "code",
   "execution_count": 1,
   "metadata": {},
   "outputs": [],
   "source": [
    "IS_COLAB = False\n",
    "try:\n",
    "    import google.colab, torch, os\n",
    "\n",
    "    IS_COLAB = True\n",
    "    os.chdir(\"/content/rome\")\n",
    "    if not torch.cuda.is_available():\n",
    "        raise Exception(\"Change runtime type to include a GPU.\")\n",
    "except ModuleNotFoundError as _:\n",
    "    pass"
   ]
  },
  {
   "cell_type": "markdown",
   "metadata": {},
   "source": [
    "## Causal Tracing\n",
    "\n",
    "A demonstration of the double-intervention causal tracing method.\n",
    "\n",
    "The strategy used by causal tracing is to understand important\n",
    "states within a transfomer by doing two interventions simultaneously:\n",
    "\n",
    "1. Corrupt a subset of the input.  In our paper, we corrupt the subject tokens\n",
    "   to frustrate the ability of the transformer to accurately complete factual\n",
    "   prompts about the subject.\n",
    "2. Restore a subset of the internal hidden states.  In our paper, we scan\n",
    "   hidden states at all layers and all tokens, searching for individual states\n",
    "   that carry the necessary information for the transformer to recover its\n",
    "   capability to complete the factual prompt.\n",
    "\n",
    "The traces of decisive states can be shown on a heatmap.  This notebook\n",
    "demonstrates the code for conducting causal traces and creating these heatmaps."
   ]
  },
  {
   "cell_type": "code",
   "execution_count": 2,
   "metadata": {
    "scrolled": false
   },
   "outputs": [],
   "source": [
    "%load_ext autoreload\n",
    "%autoreload 2"
   ]
  },
  {
   "cell_type": "markdown",
   "metadata": {},
   "source": [
    "The `experiments.causal_trace` module contains a set of functions for running causal traces.\n",
    "\n",
    "In this notebook, we reproduce, demonstrate and discuss the interesting functions.\n",
    "\n",
    "We begin by importing several utility functions that deal with tokens and transformer models."
   ]
  },
  {
   "cell_type": "code",
   "execution_count": 3,
   "metadata": {
    "scrolled": false
   },
   "outputs": [
    {
     "data": {
      "text/plain": [
       "<torch.autograd.grad_mode.set_grad_enabled at 0x14eb6b3d9f70>"
      ]
     },
     "execution_count": 3,
     "metadata": {},
     "output_type": "execute_result"
    }
   ],
   "source": [
    "import os, re, json\n",
    "import torch, numpy\n",
    "from collections import defaultdict\n",
    "from util import nethook\n",
    "from util.globals import DATA_DIR\n",
    "from experiments.causal_trace import (\n",
    "    ModelAndTokenizer,\n",
    "    layername,\n",
    "    guess_subject,\n",
    "    plot_trace_heatmap,\n",
    ")\n",
    "from experiments.causal_trace import (\n",
    "    make_inputs,\n",
    "    decode_tokens,\n",
    "    find_token_range,\n",
    "    predict_token,\n",
    "    predict_from_input,\n",
    "    collect_embedding_std,\n",
    ")\n",
    "from dsets import KnownsDataset\n",
    "\n",
    "torch.set_grad_enabled(False)"
   ]
  },
  {
   "cell_type": "markdown",
   "metadata": {},
   "source": [
    "Now we load a model and tokenizer, and show that it can complete a couple factual statements correctly."
   ]
  },
  {
   "cell_type": "code",
   "execution_count": 4,
   "metadata": {
    "scrolled": true
   },
   "outputs": [],
   "source": [
    "model_name = \"gpt2-xl\"  # or \"EleutherAI/gpt-j-6B\" or \"EleutherAI/gpt-neox-20b\"\n",
    "mt = ModelAndTokenizer(\n",
    "    model_name,\n",
    "    low_cpu_mem_usage=IS_COLAB,\n",
    "    torch_dtype=(torch.float16 if \"20b\" in model_name else None),\n",
    ")"
   ]
  },
  {
   "cell_type": "code",
   "execution_count": 5,
   "metadata": {},
   "outputs": [
    {
     "data": {
      "text/plain": [
       "([' soccer', ' Seattle'], tensor([0.7675, 0.9552], device='cuda:0'))"
      ]
     },
     "execution_count": 5,
     "metadata": {},
     "output_type": "execute_result"
    }
   ],
   "source": [
    "predict_token(\n",
    "    mt,\n",
    "    [\"Megan Rapinoe plays the sport of\", \"The Space Needle is in the city of\"],\n",
    "    return_p=True,\n",
    ")"
   ]
  },
  {
   "cell_type": "markdown",
   "metadata": {},
   "source": [
    "Investigate dataset used by ROME."
   ]
  },
  {
   "cell_type": "code",
   "execution_count": 6,
   "metadata": {},
   "outputs": [
    {
     "name": "stdout",
     "output_type": "stream",
     "text": [
      "Loaded dataset with 1209 elements\n"
     ]
    },
    {
     "data": {
      "text/plain": [
       "{'known_id': 0,\n",
       " 'subject': 'Vinson Massif',\n",
       " 'attribute': 'Antarctica',\n",
       " 'template': '{} is located in the continent',\n",
       " 'prediction': ' of Antarctica. It is the largest of the three',\n",
       " 'prompt': 'Vinson Massif is located in the continent of',\n",
       " 'relation_id': 'P30'}"
      ]
     },
     "execution_count": 6,
     "metadata": {},
     "output_type": "execute_result"
    }
   ],
   "source": [
    "knowns = KnownsDataset(DATA_DIR)  # Dataset of known facts\n",
    "knowns[0]"
   ]
  },
  {
   "cell_type": "code",
   "execution_count": 7,
   "metadata": {},
   "outputs": [
    {
     "data": {
      "text/plain": [
       "1209"
      ]
     },
     "execution_count": 7,
     "metadata": {},
     "output_type": "execute_result"
    }
   ],
   "source": [
    "len(knowns)"
   ]
  },
  {
   "cell_type": "markdown",
   "metadata": {},
   "source": [
    "For our investigation on ParaRel, start with the relations _P19_ _born-in_, _P101_ _works-with_."
   ]
  },
  {
   "cell_type": "code",
   "execution_count": 8,
   "metadata": {},
   "outputs": [],
   "source": [
    "def read_jsonl_file(filename: str):\n",
    "\n",
    "    dataset = []\n",
    "    with open(filename) as f:\n",
    "        for line in f:\n",
    "            loaded_example = json.loads(line)\n",
    "            dataset.append(loaded_example)\n",
    "\n",
    "    return dataset\n",
    "\n",
    "def reformat_pararel2rome(val, relation_id):\n",
    "    template_val = val[\"pattern\"].replace(\"[X]\", \"{}\")\n",
    "    template_val = template_val[:template_val.index(\" [Y]\")]\n",
    "    \n",
    "    return {\"subject\": val[\"sub_label\"],\n",
    "            \"attribute\": val[\"answers\"][0],\n",
    "            \"template\": template_val,\n",
    "            \"prediction\": None,\n",
    "            \"prompt\": template_val.replace(\"{}\", val[\"sub_label\"]),\n",
    "            \"relation_id\": relation_id\n",
    "           }"
   ]
  },
  {
   "cell_type": "code",
   "execution_count": 9,
   "metadata": {},
   "outputs": [
    {
     "name": "stdout",
     "output_type": "stream",
     "text": [
      "Data length for relation P19 including all templates: 10127\n",
      "Data length for relation P101 including all templates: 6747\n"
     ]
    }
   ],
   "source": [
    "relations = [\"P19\", \"P101\"]\n",
    "data = {}\n",
    "data_path_main = \"/cephyr/users/lovhag/Alvis/projects/pararel/data/all_n1_atlas_no_space\"\n",
    "for relation in relations:\n",
    "    data_path_sub = f\"{relation}.jsonl\"\n",
    "    data_tmp = read_jsonl_file(os.path.join(data_path_main, data_path_sub))\n",
    "    print(f\"Data length for relation {relation} including all templates: {len(data_tmp)}\")    \n",
    "    data[relation] = []\n",
    "    for val in data_tmp:\n",
    "        # only add samples for which the pattern is suitable for ARMs\n",
    "        if val[\"pattern\"].replace(\".\",\"\").strip()[-3:]==\"[Y]\":\n",
    "            data[relation].append(reformat_pararel2rome(val, relation))"
   ]
  },
  {
   "cell_type": "code",
   "execution_count": 10,
   "metadata": {},
   "outputs": [
    {
     "data": {
      "text/plain": [
       "[{'subject': 'Allan Peiper',\n",
       "  'attribute': 'Alexandra',\n",
       "  'template': '{} was born in',\n",
       "  'prediction': None,\n",
       "  'prompt': 'Allan Peiper was born in',\n",
       "  'relation_id': 'P19'},\n",
       " {'subject': 'Allan Peiper',\n",
       "  'attribute': 'Alexandra',\n",
       "  'template': '{} is originally from',\n",
       "  'prediction': None,\n",
       "  'prompt': 'Allan Peiper is originally from',\n",
       "  'relation_id': 'P19'},\n",
       " {'subject': 'Allan Peiper',\n",
       "  'attribute': 'Alexandra',\n",
       "  'template': '{} was originally from',\n",
       "  'prediction': None,\n",
       "  'prompt': 'Allan Peiper was originally from',\n",
       "  'relation_id': 'P19'},\n",
       " {'subject': 'Allan Peiper',\n",
       "  'attribute': 'Alexandra',\n",
       "  'template': '{} is native to',\n",
       "  'prediction': None,\n",
       "  'prompt': 'Allan Peiper is native to',\n",
       "  'relation_id': 'P19'},\n",
       " {'subject': 'Allan Peiper',\n",
       "  'attribute': 'Alexandra',\n",
       "  'template': '{} was native to',\n",
       "  'prediction': None,\n",
       "  'prompt': 'Allan Peiper was native to',\n",
       "  'relation_id': 'P19'}]"
      ]
     },
     "execution_count": 10,
     "metadata": {},
     "output_type": "execute_result"
    }
   ],
   "source": [
    "data[\"P19\"][:5]"
   ]
  },
  {
   "cell_type": "code",
   "execution_count": 11,
   "metadata": {},
   "outputs": [
    {
     "name": "stdout",
     "output_type": "stream",
     "text": [
      "Data length for relation P19: 5453\n",
      "Data length for relation P101: 5190\n"
     ]
    }
   ],
   "source": [
    "for rel in data.keys():\n",
    "    print(f\"Data length for relation {rel}: {len(data[rel])}\")"
   ]
  },
  {
   "cell_type": "markdown",
   "metadata": {},
   "source": [
    "## Tracing a single location\n",
    "\n",
    "The core intervention in causal tracing is captured in this function:\n",
    "\n",
    "`trace_with_patch` a single causal trace.\n",
    "\n",
    "It enables running a batch of inferences with two interventions.\n",
    "\n",
    "  1. Random noise can be added to corrupt the inputs of some of the batch.\n",
    "  2. At any point, clean non-noised state can be copied over from an\n",
    "     uncorrupted batch member to other batch members.\n",
    "  \n",
    "The convention used by this function is that the zeroth element of the\n",
    "batch is the uncorrupted run, and the subsequent elements of the batch\n",
    "are the corrupted runs.  The argument tokens_to_mix specifies an\n",
    "be corrupted by adding Gaussian noise to the embedding for the batch\n",
    "inputs other than the first element in the batch.  Alternately,\n",
    "subsequent runs could be corrupted by simply providing different\n",
    "input tokens via the passed input batch.\n",
    "\n",
    "To ensure that corrupted behavior is representative, in practice, we\n",
    "will actually run several (ten) corrupted runs in the same batch,\n",
    "each with its own sample of noise.\n",
    "\n",
    "Then when running, a specified set of hidden states will be uncorrupted\n",
    "by restoring their values to the same vector that they had in the\n",
    "zeroth uncorrupted run.  This set of hidden states is listed in\n",
    "states_to_patch, by listing [(token_index, layername), ...] pairs.\n",
    "To trace the effect of just a single state, this can be just a single\n",
    "token/layer pair.  To trace the effect of restoring a set of states,\n",
    "any number of token indices and layers can be listed.\n",
    "\n",
    "Note that this function is also in experiments.causal_trace; the code\n",
    "is shown here to show the logic."
   ]
  },
  {
   "cell_type": "code",
   "execution_count": 12,
   "metadata": {},
   "outputs": [],
   "source": [
    "def trace_with_patch(\n",
    "    model,  # The model\n",
    "    inp,  # A set of inputs\n",
    "    states_to_patch,  # A list of (token index, layername) triples to restore\n",
    "    answers_t,  # Answer probabilities to collect\n",
    "    tokens_to_mix,  # Range of tokens to corrupt (begin, end)\n",
    "    noise=0.1,  # Level of noise to add\n",
    "    trace_layers=None,  # List of traced outputs to return\n",
    "):\n",
    "    prng = numpy.random.RandomState(1)  # For reproducibility, use pseudorandom noise\n",
    "    patch_spec = defaultdict(list)\n",
    "    for t, l in states_to_patch:\n",
    "        patch_spec[l].append(t)\n",
    "    embed_layername = layername(model, 0, \"embed\")\n",
    "\n",
    "    def untuple(x):\n",
    "        return x[0] if isinstance(x, tuple) else x\n",
    "\n",
    "    # Define the model-patching rule.\n",
    "    def patch_rep(x, layer):\n",
    "        if layer == embed_layername:\n",
    "            # If requested, we corrupt a range of token embeddings on batch items x[1:]\n",
    "            if tokens_to_mix is not None:\n",
    "                b, e = tokens_to_mix\n",
    "                x[1:, b:e] += noise * torch.from_numpy(\n",
    "                    prng.randn(x.shape[0] - 1, e - b, x.shape[2])\n",
    "                ).to(x.device)\n",
    "            return x\n",
    "        if layer not in patch_spec:\n",
    "            return x\n",
    "        # If this layer is in the patch_spec, restore the uncorrupted hidden state\n",
    "        # for selected tokens.\n",
    "        h = untuple(x)\n",
    "        for t in patch_spec[layer]:\n",
    "            h[1:, t] = h[0, t]\n",
    "        return x\n",
    "\n",
    "    # With the patching rules defined, run the patched model in inference.\n",
    "    additional_layers = [] if trace_layers is None else trace_layers\n",
    "    with torch.no_grad(), nethook.TraceDict(\n",
    "        model,\n",
    "        [embed_layername] + list(patch_spec.keys()) + additional_layers,\n",
    "        edit_output=patch_rep,\n",
    "    ) as td:\n",
    "        outputs_exp = model(**inp)\n",
    "\n",
    "    # We report softmax probabilities for the answers_t token predictions of interest.\n",
    "    probs = torch.softmax(outputs_exp.logits[1:, -1, :], dim=1).mean(dim=0)[answers_t]\n",
    "\n",
    "    # If tracing all layers, collect all activations together to return.\n",
    "    if trace_layers is not None:\n",
    "        all_traced = torch.stack(\n",
    "            [untuple(td[layer].output).detach().cpu() for layer in trace_layers], dim=2\n",
    "        )\n",
    "        return probs, all_traced\n",
    "\n",
    "    return probs"
   ]
  },
  {
   "cell_type": "markdown",
   "metadata": {},
   "source": [
    "## Scanning all locations\n",
    "\n",
    "A causal flow heatmap is created by repeating `trace_with_patch` at every individual hidden state, and measuring the impact of restoring state at each location.\n",
    "\n",
    "The `calculate_hidden_flow` function does this loop.  It handles both the case of restoring a single hidden state, and also restoring MLP or attention states.  Because MLP and attention make small residual contributions, to observe a causal effect in those cases, we need to restore several layers of contributions at once, which is done by `trace_important_window`."
   ]
  },
  {
   "cell_type": "code",
   "execution_count": 13,
   "metadata": {},
   "outputs": [],
   "source": [
    "def calculate_hidden_flow(\n",
    "    mt, prompt, subject, samples=10, noise=0.1, window=10, kind=None\n",
    "):\n",
    "    \"\"\"\n",
    "    Runs causal tracing over every token/layer combination in the network\n",
    "    and returns a dictionary numerically summarizing the results.\n",
    "    \"\"\"\n",
    "    inp = make_inputs(mt.tokenizer, [prompt] * (samples + 1))\n",
    "    with torch.no_grad():\n",
    "        answer_t, base_score = [d[0] for d in predict_from_input(mt.model, inp)]\n",
    "    [answer] = decode_tokens(mt.tokenizer, [answer_t])\n",
    "    e_range = find_token_range(mt.tokenizer, inp[\"input_ids\"][0], subject)\n",
    "    low_score = trace_with_patch(\n",
    "        mt.model, inp, [], answer_t, e_range, noise=noise\n",
    "    ).item()\n",
    "    if not kind:\n",
    "        differences = trace_important_states(\n",
    "            mt.model, mt.num_layers, inp, e_range, answer_t, noise=noise\n",
    "        )\n",
    "    else:\n",
    "        differences = trace_important_window(\n",
    "            mt.model,\n",
    "            mt.num_layers,\n",
    "            inp,\n",
    "            e_range,\n",
    "            answer_t,\n",
    "            noise=noise,\n",
    "            window=window,\n",
    "            kind=kind,\n",
    "        )\n",
    "    differences = differences.detach().cpu()\n",
    "    return dict(\n",
    "        scores=differences,\n",
    "        low_score=low_score,\n",
    "        high_score=base_score,\n",
    "        input_ids=inp[\"input_ids\"][0],\n",
    "        input_tokens=decode_tokens(mt.tokenizer, inp[\"input_ids\"][0]),\n",
    "        subject_range=e_range,\n",
    "        answer=answer,\n",
    "        window=window,\n",
    "        kind=kind or \"\",\n",
    "    )\n",
    "\n",
    "\n",
    "def trace_important_states(model, num_layers, inp, e_range, answer_t, noise=0.1):\n",
    "    ntoks = inp[\"input_ids\"].shape[1]\n",
    "    table = []\n",
    "    for tnum in range(ntoks):\n",
    "        row = []\n",
    "        for layer in range(0, num_layers):\n",
    "            r = trace_with_patch(\n",
    "                model,\n",
    "                inp,\n",
    "                [(tnum, layername(model, layer))],\n",
    "                answer_t,\n",
    "                tokens_to_mix=e_range,\n",
    "                noise=noise,\n",
    "            )\n",
    "            row.append(r)\n",
    "        table.append(torch.stack(row))\n",
    "    return torch.stack(table)\n",
    "\n",
    "\n",
    "def trace_important_window(\n",
    "    model, num_layers, inp, e_range, answer_t, kind, window=10, noise=0.1\n",
    "):\n",
    "    ntoks = inp[\"input_ids\"].shape[1]\n",
    "    table = []\n",
    "    for tnum in range(ntoks):\n",
    "        row = []\n",
    "        for layer in range(0, num_layers):\n",
    "            layerlist = [\n",
    "                (tnum, layername(model, L, kind))\n",
    "                for L in range(\n",
    "                    max(0, layer - window // 2), min(num_layers, layer - (-window // 2))\n",
    "                )\n",
    "            ]\n",
    "            r = trace_with_patch(\n",
    "                model, inp, layerlist, answer_t, tokens_to_mix=e_range, noise=noise\n",
    "            )\n",
    "            row.append(r)\n",
    "        table.append(torch.stack(row))\n",
    "    return torch.stack(table)"
   ]
  },
  {
   "cell_type": "markdown",
   "metadata": {},
   "source": [
    "## Plotting the results\n",
    "\n",
    "The `plot_trace_heatmap` function draws the data on a heatmap.  That function is not shown here; it is in `experiments.causal_trace`.\n"
   ]
  },
  {
   "cell_type": "code",
   "execution_count": 14,
   "metadata": {},
   "outputs": [],
   "source": [
    "def plot_hidden_flow(\n",
    "    mt,\n",
    "    prompt,\n",
    "    subject=None,\n",
    "    samples=10,\n",
    "    noise=0.1,\n",
    "    window=10,\n",
    "    kind=None,\n",
    "    modelname=None,\n",
    "    savepdf=None,\n",
    "):\n",
    "    if subject is None:\n",
    "        subject = guess_subject(prompt)\n",
    "    result = calculate_hidden_flow(\n",
    "        mt, prompt, subject, samples=samples, noise=noise, window=window, kind=kind\n",
    "    )\n",
    "    plot_trace_heatmap(result, savepdf, modelname=modelname)\n",
    "\n",
    "\n",
    "def plot_all_flow(mt, prompt, subject=None, noise=0.1, modelname=None):\n",
    "    for kind in [None, \"mlp\", \"attn\"]:\n",
    "        plot_hidden_flow(\n",
    "            mt, prompt, subject, modelname=modelname, noise=noise, kind=kind\n",
    "        )"
   ]
  },
  {
   "cell_type": "markdown",
   "metadata": {},
   "source": [
    "To obfuscate the subject during Causal Tracing, we use noise sampled from a zero-centered spherical Gaussian, whose stddev is 3 times the $\\sigma$ stddev the model's embeddings. Let's compute that value."
   ]
  },
  {
   "cell_type": "code",
   "execution_count": 15,
   "metadata": {},
   "outputs": [
    {
     "name": "stdout",
     "output_type": "stream",
     "text": [
      "Using noise level 0.13484472781419754\n"
     ]
    }
   ],
   "source": [
    "noise_level = 3 * collect_embedding_std(mt, [k[\"subject\"] for k in data[\"P19\"][:100]])\n",
    "print(f\"Using noise level {noise_level}\")"
   ]
  },
  {
   "cell_type": "code",
   "execution_count": 16,
   "metadata": {},
   "outputs": [
    {
     "name": "stdout",
     "output_type": "stream",
     "text": [
      "Using noise level 0.13726337626576424\n"
     ]
    }
   ],
   "source": [
    "noise_level = 3 * collect_embedding_std(mt, [k[\"subject\"] for k in data[\"P101\"][:100]])\n",
    "print(f\"Using noise level {noise_level}\")"
   ]
  },
  {
   "cell_type": "markdown",
   "metadata": {},
   "source": [
    "The following prompt can be changed to any factual statement to trace."
   ]
  },
  {
   "cell_type": "code",
   "execution_count": 17,
   "metadata": {},
   "outputs": [
    {
     "name": "stderr",
     "output_type": "stream",
     "text": [
      "findfont: Font family ['Times New Roman'] not found. Falling back to DejaVu Sans.\n",
      "findfont: Font family ['Times New Roman'] not found. Falling back to DejaVu Sans.\n"
     ]
    },
    {
     "data": {
      "image/png": "[encoded data removed]",
      "text/plain": [
       "<Figure size 700x400 with 2 Axes>"
      ]
     },
     "metadata": {
      "needs_background": "light"
     },
     "output_type": "display_data"
    },
    {
     "data": {
      "image/png": "[encoded data removed]",
      "text/plain": [
       "<Figure size 700x400 with 2 Axes>"
      ]
     },
     "metadata": {
      "needs_background": "light"
     },
     "output_type": "display_data"
    },
    {
     "data": {
      "image/png": "[encoded data removed]",
      "text/plain": [
       "<Figure size 700x400 with 2 Axes>"
      ]
     },
     "metadata": {
      "needs_background": "light"
     },
     "output_type": "display_data"
    }
   ],
   "source": [
    "plot_all_flow(mt, \"The Space Needle is in the city of\", noise=noise_level)"
   ]
  },
  {
   "cell_type": "markdown",
   "metadata": {},
   "source": [
    "Here we trace a few more factual statements from a file of test cases."
   ]
  },
  {
   "cell_type": "code",
   "execution_count": null,
   "metadata": {},
   "outputs": [],
   "source": [
    "for knowledge in data[\"P19\"][:10]:\n",
    "    plot_all_flow(mt, knowledge[\"prompt\"], knowledge[\"subject\"], noise=noise_level)"
   ]
  },
  {
   "cell_type": "code",
   "execution_count": null,
   "metadata": {},
   "outputs": [],
   "source": [
    "for knowledge in data[\"P101\"][:10]:\n",
    "    plot_all_flow(mt, knowledge[\"prompt\"], knowledge[\"subject\"], noise=noise_level)"
   ]
  },
  {
   "cell_type": "markdown",
   "metadata": {},
   "source": [
    "# Investigations"
   ]
  },
  {
   "cell_type": "code",
   "execution_count": 16,
   "metadata": {},
   "outputs": [
    {
     "name": "stdout",
     "output_type": "stream",
     "text": [
      "Brian Boyd was native to\n",
      "Predicted: [' the', ' the']\n",
      "Correct: Belfast\n"
     ]
    }
   ],
   "source": [
    "prompt_ix = 60\n",
    "prompt = data[\"P19\"][prompt_ix][\"prompt\"]\n",
    "inp = make_inputs(mt.tokenizer, [prompt]*2)\n",
    "with torch.no_grad():\n",
    "    answer_t, base_score = predict_from_input(mt.model, inp)\n",
    "answer = decode_tokens(mt.tokenizer, answer_t)\n",
    "print(prompt)\n",
    "print(f\"Predicted: {answer}\")\n",
    "print(f\"Correct: {data['P19'][prompt_ix]['attribute']}\")"
   ]
  },
  {
   "cell_type": "code",
   "execution_count": 17,
   "metadata": {},
   "outputs": [
    {
     "data": {
      "text/plain": [
       "{'input_ids': tensor([[24761, 29897,   373,  6868,   284],\n",
       "         [24761, 29897,   373,  6868,   284]], device='cuda:0'),\n",
       " 'attention_mask': tensor([[1, 1, 1, 1, 1],\n",
       "         [1, 1, 1, 1, 1]], device='cuda:0')}"
      ]
     },
     "execution_count": 17,
     "metadata": {},
     "output_type": "execute_result"
    }
   ],
   "source": [
    "inp"
   ]
  },
  {
   "cell_type": "code",
   "execution_count": 26,
   "metadata": {},
   "outputs": [],
   "source": [
    "out = mt.model(**inp)[\"logits\"]\n",
    "probs = torch.softmax(out[:, -1], dim=1)"
   ]
  },
  {
   "cell_type": "code",
   "execution_count": 29,
   "metadata": {},
   "outputs": [
    {
     "data": {
      "text/plain": [
       "tensor([[7.2020e-06, 6.0150e-06, 2.1707e-07,  ..., 5.0258e-08, 1.9414e-08,\n",
       "         2.6688e-05],\n",
       "        [7.2020e-06, 6.0150e-06, 2.1707e-07,  ..., 5.0258e-08, 1.9414e-08,\n",
       "         2.6688e-05]], device='cuda:0')"
      ]
     },
     "execution_count": 29,
     "metadata": {},
     "output_type": "execute_result"
    }
   ],
   "source": [
    "probs"
   ]
  },
  {
   "cell_type": "code",
   "execution_count": 28,
   "metadata": {},
   "outputs": [
    {
     "data": {
      "text/plain": [
       "tensor([[7.2020e-06, 2.1707e-07],\n",
       "        [7.2020e-06, 2.1707e-07]], device='cuda:0')"
      ]
     },
     "execution_count": 28,
     "metadata": {},
     "output_type": "execute_result"
    }
   ],
   "source": [
    "probs[:,[0,2]]"
   ]
  },
  {
   "cell_type": "code",
   "execution_count": 18,
   "metadata": {},
   "outputs": [],
   "source": [
    "pararel_options_file = os.path.join(\"/cephyr/users/lovhag/Alvis/projects/pararel/data/all_n1_atlas_no_space\", \"P19_options.txt\")\n",
    "with open(pararel_options_file) as f:\n",
    "    options = [line.strip() for line in f.readlines()]   "
   ]
  },
  {
   "cell_type": "code",
   "execution_count": 19,
   "metadata": {},
   "outputs": [
    {
     "data": {
      "text/plain": [
       "['Yorkshire',\n",
       " 'Hamilton',\n",
       " 'Constantinople',\n",
       " 'Oslo',\n",
       " 'Houston',\n",
       " 'Brisbane',\n",
       " 'Bolton',\n",
       " 'Tottenham',\n",
       " 'Angus',\n",
       " 'Brunswick',\n",
       " 'Wilson',\n",
       " 'Barcelona',\n",
       " 'Rutherford',\n",
       " 'Pennsylvania',\n",
       " 'Budapest',\n",
       " 'Mecca',\n",
       " 'Chicago',\n",
       " 'Chennai',\n",
       " 'Bihar',\n",
       " 'Hamburg',\n",
       " 'Alexandria',\n",
       " 'Winnipeg',\n",
       " 'Madagascar',\n",
       " 'Karachi',\n",
       " 'Venice',\n",
       " 'India',\n",
       " 'Minneapolis',\n",
       " 'Dublin',\n",
       " 'Edmonton',\n",
       " 'Stafford',\n",
       " 'Normandy',\n",
       " 'Milwaukee',\n",
       " 'Boston',\n",
       " 'Leeds',\n",
       " 'Windsor',\n",
       " 'Shanghai',\n",
       " 'Greenwood',\n",
       " 'Berlin',\n",
       " 'Philadelphia',\n",
       " 'Portsmouth',\n",
       " 'Jakarta',\n",
       " 'Salem',\n",
       " 'Detroit',\n",
       " 'Tehran',\n",
       " 'Dortmund',\n",
       " 'Sheffield',\n",
       " 'Plymouth',\n",
       " 'Mercedes',\n",
       " 'Ukraine',\n",
       " 'Delhi',\n",
       " 'Bend',\n",
       " 'Derby',\n",
       " 'Toronto',\n",
       " 'Kent',\n",
       " 'Stockholm',\n",
       " 'Hollywood',\n",
       " 'Afghanistan',\n",
       " 'Camden',\n",
       " 'Japan',\n",
       " 'Ireland',\n",
       " 'Manhattan',\n",
       " 'Rome',\n",
       " 'Seattle',\n",
       " 'Maryland',\n",
       " 'Marshall',\n",
       " 'Devon',\n",
       " 'Harlem',\n",
       " 'Jackson',\n",
       " 'Springfield',\n",
       " 'Nice',\n",
       " 'Quincy',\n",
       " 'Columbia',\n",
       " 'Lebanon',\n",
       " 'Riverside',\n",
       " 'Norway',\n",
       " 'Gap',\n",
       " 'Montgomery',\n",
       " 'Luxembourg',\n",
       " 'Germany',\n",
       " 'Dresden',\n",
       " 'Cologne',\n",
       " 'Perth',\n",
       " 'Cornwall',\n",
       " 'Ajax',\n",
       " 'Raymond',\n",
       " 'Gary',\n",
       " 'Helsinki',\n",
       " 'Mumbai',\n",
       " 'Manchester',\n",
       " 'Moscow',\n",
       " 'Baghdad',\n",
       " 'Copenhagen',\n",
       " 'Tokyo',\n",
       " 'Calgary',\n",
       " 'Hawaii',\n",
       " 'Valencia',\n",
       " 'Bangalore',\n",
       " 'Queensland',\n",
       " 'Melbourne',\n",
       " 'Milan',\n",
       " 'Brooklyn',\n",
       " 'Adelaide',\n",
       " 'Albuquerque',\n",
       " 'Lithuania',\n",
       " 'Seoul',\n",
       " 'Montreal',\n",
       " 'Pittsburgh',\n",
       " 'Lamar',\n",
       " 'Tours',\n",
       " 'Nicaragua',\n",
       " 'Scarborough',\n",
       " 'Paris',\n",
       " 'Thailand',\n",
       " 'Vernon',\n",
       " 'Naples',\n",
       " 'California',\n",
       " 'Manila',\n",
       " 'Sussex',\n",
       " 'Istanbul',\n",
       " 'Amsterdam',\n",
       " 'Parsons',\n",
       " 'Essex',\n",
       " 'Fleet',\n",
       " 'Nottingham',\n",
       " 'Georgetown',\n",
       " 'Sydney',\n",
       " 'Edinburgh',\n",
       " 'Denver',\n",
       " 'Lincoln',\n",
       " 'France',\n",
       " 'London',\n",
       " 'Waterloo',\n",
       " 'Norwich',\n",
       " 'Wilmington',\n",
       " 'Salt',\n",
       " 'Leigh',\n",
       " 'Virginia',\n",
       " 'Medina',\n",
       " 'Lund',\n",
       " 'Honolulu',\n",
       " 'Lafayette',\n",
       " 'Halifax',\n",
       " 'Kiev',\n",
       " 'Alexandra',\n",
       " 'Lyon',\n",
       " 'Mobile',\n",
       " 'Spokane',\n",
       " 'Kabul',\n",
       " 'Syracuse',\n",
       " 'Burlington',\n",
       " 'Lisbon',\n",
       " 'Cincinnati',\n",
       " 'Munich',\n",
       " 'Monroe',\n",
       " 'Israel',\n",
       " 'Havana',\n",
       " 'Sacramento',\n",
       " 'Wales',\n",
       " 'Brighton',\n",
       " 'Italy',\n",
       " 'Westminster',\n",
       " 'Vienna',\n",
       " 'Singapore',\n",
       " 'Canada',\n",
       " 'Aleppo',\n",
       " 'Florida',\n",
       " 'Southampton',\n",
       " 'Bradford',\n",
       " 'Wisconsin',\n",
       " 'Jasper',\n",
       " 'Beijing',\n",
       " 'Cambodia',\n",
       " 'Birmingham',\n",
       " 'Jerusalem',\n",
       " 'Jamaica',\n",
       " 'Dover',\n",
       " 'Blackburn',\n",
       " 'Wellington',\n",
       " 'Sudan',\n",
       " 'Madrid',\n",
       " 'Bangkok',\n",
       " 'Spain',\n",
       " 'Angeles',\n",
       " 'Baltimore',\n",
       " 'Miami',\n",
       " 'Fresno',\n",
       " 'Cardiff',\n",
       " 'Athens',\n",
       " 'Nebraska',\n",
       " 'Auckland',\n",
       " 'Norfolk',\n",
       " 'Preston',\n",
       " 'Pasadena',\n",
       " 'Clinton',\n",
       " 'Croatia',\n",
       " 'Frankfurt',\n",
       " 'Atlanta',\n",
       " 'Geneva',\n",
       " 'Cleveland',\n",
       " 'Glasgow',\n",
       " 'Lancaster',\n",
       " 'Morocco',\n",
       " 'Salvador',\n",
       " 'Scotland',\n",
       " 'Fowler',\n",
       " 'Hope',\n",
       " 'Belfast',\n",
       " 'Bristol',\n",
       " 'Florence',\n",
       " 'Suffolk',\n",
       " 'Prague',\n",
       " 'Tacoma',\n",
       " 'Stamford',\n",
       " 'Warsaw',\n",
       " 'Switzerland',\n",
       " 'Vancouver',\n",
       " 'Denmark',\n",
       " 'Lawrence',\n",
       " 'Armenia',\n",
       " 'Egypt',\n",
       " 'Iowa',\n",
       " 'Nigeria',\n",
       " 'Kingston',\n",
       " 'Tampa',\n",
       " 'Santiago',\n",
       " 'Dallas',\n",
       " 'Beirut',\n",
       " 'Ottawa',\n",
       " 'Bree']"
      ]
     },
     "execution_count": 19,
     "metadata": {},
     "output_type": "execute_result"
    }
   ],
   "source": [
    "options"
   ]
  },
  {
   "cell_type": "markdown",
   "metadata": {},
   "source": [
    "    Tokenizer splitting tokens is not a problem for these options! Assuming that we add a space before."
   ]
  },
  {
   "cell_type": "code",
   "execution_count": 30,
   "metadata": {},
   "outputs": [
    {
     "data": {
      "text/plain": [
       "tensor([[31157],\n",
       "        [11582],\n",
       "        [46369],\n",
       "        [39636],\n",
       "        [ 6995],\n",
       "        [26914],\n",
       "        [35293],\n",
       "        [24272],\n",
       "        [41182],\n",
       "        [32211],\n",
       "        [ 8127],\n",
       "        [15142],\n",
       "        [49767],\n",
       "        [ 9589],\n",
       "        [40959],\n",
       "        [35247],\n",
       "        [ 4842],\n",
       "        [47678],\n",
       "        [45301],\n",
       "        [32526],\n",
       "        [27872],\n",
       "        [23434],\n",
       "        [46694],\n",
       "        [46154],\n",
       "        [29702],\n",
       "        [ 3794],\n",
       "        [20455],\n",
       "        [18220],\n",
       "        [21165],\n",
       "        [30596],\n",
       "        [43231],\n",
       "        [16629],\n",
       "        [ 6182],\n",
       "        [29293],\n",
       "        [31561],\n",
       "        [21865],\n",
       "        [42928],\n",
       "        [11307],\n",
       "        [ 8857],\n",
       "        [48823],\n",
       "        [49251],\n",
       "        [31988],\n",
       "        [ 8488],\n",
       "        [20882],\n",
       "        [36888],\n",
       "        [33496],\n",
       "        [42125],\n",
       "        [21279],\n",
       "        [ 7049],\n",
       "        [12517],\n",
       "        [26874],\n",
       "        [22962],\n",
       "        [ 6586],\n",
       "        [ 8758],\n",
       "        [29679],\n",
       "        [ 8502],\n",
       "        [ 8037],\n",
       "        [43084],\n",
       "        [ 2869],\n",
       "        [ 7517],\n",
       "        [13458],\n",
       "        [10598],\n",
       "        [ 7312],\n",
       "        [10769],\n",
       "        [13606],\n",
       "        [36889],\n",
       "        [39735],\n",
       "        [ 6612],\n",
       "        [27874],\n",
       "        [18460],\n",
       "        [46884],\n",
       "        [ 9309],\n",
       "        [16849],\n",
       "        [35597],\n",
       "        [15238],\n",
       "        [33899],\n",
       "        [21532],\n",
       "        [31864],\n",
       "        [ 4486],\n",
       "        [46993],\n",
       "        [34923],\n",
       "        [29913],\n",
       "        [45294],\n",
       "        [46362],\n",
       "        [24238],\n",
       "        [10936],\n",
       "        [47688],\n",
       "        [22917],\n",
       "        [ 9502],\n",
       "        [ 9070],\n",
       "        [19761],\n",
       "        [31104],\n",
       "        [11790],\n",
       "        [17842],\n",
       "        [13708],\n",
       "        [35773],\n",
       "        [46216],\n",
       "        [21105],\n",
       "        [14819],\n",
       "        [21574],\n",
       "        [12232],\n",
       "        [27139],\n",
       "        [38633],\n",
       "        [31295],\n",
       "        [22372],\n",
       "        [12871],\n",
       "        [12767],\n",
       "        [26907],\n",
       "        [42998],\n",
       "        [38252],\n",
       "        [36126],\n",
       "        [ 6342],\n",
       "        [16952],\n",
       "        [27820],\n",
       "        [49404],\n",
       "        [ 3442],\n",
       "        [31721],\n",
       "        [41588],\n",
       "        [25299],\n",
       "        [24377],\n",
       "        [35925],\n",
       "        [38307],\n",
       "        [20001],\n",
       "        [39802],\n",
       "        [31393],\n",
       "        [11852],\n",
       "        [23475],\n",
       "        [10656],\n",
       "        [12406],\n",
       "        [ 4881],\n",
       "        [ 3576],\n",
       "        [36782],\n",
       "        [43586],\n",
       "        [47251],\n",
       "        [13754],\n",
       "        [37907],\n",
       "        [ 6025],\n",
       "        [41946],\n",
       "        [33609],\n",
       "        [43296],\n",
       "        [41388],\n",
       "        [34438],\n",
       "        [22761],\n",
       "        [44075],\n",
       "        [35193],\n",
       "        [12173],\n",
       "        [44302],\n",
       "        [34753],\n",
       "        [29141],\n",
       "        [37090],\n",
       "        [41898],\n",
       "        [16137],\n",
       "        [22418],\n",
       "        [26249],\n",
       "        [ 2692],\n",
       "        [40274],\n",
       "        [19375],\n",
       "        [11769],\n",
       "        [33193],\n",
       "        [ 8031],\n",
       "        [20353],\n",
       "        [23825],\n",
       "        [12551],\n",
       "        [ 3340],\n",
       "        [18593],\n",
       "        [ 4744],\n",
       "        [30035],\n",
       "        [28199],\n",
       "        [ 9279],\n",
       "        [42992],\n",
       "        [11618],\n",
       "        [31057],\n",
       "        [18899],\n",
       "        [10843],\n",
       "        [31620],\n",
       "        [46578],\n",
       "        [42603],\n",
       "        [30597],\n",
       "        [19610],\n",
       "        [14708],\n",
       "        [35007],\n",
       "        [ 8602],\n",
       "        [ 5652],\n",
       "        [10346],\n",
       "        [ 8437],\n",
       "        [39927],\n",
       "        [34910],\n",
       "        [21891],\n",
       "        [18329],\n",
       "        [30422],\n",
       "        [32134],\n",
       "        [34564],\n",
       "        [41010],\n",
       "        [ 2605],\n",
       "        [28975],\n",
       "        [31970],\n",
       "        [ 9371],\n",
       "        [20552],\n",
       "        [10306],\n",
       "        [23995],\n",
       "        [38167],\n",
       "        [29638],\n",
       "        [26482],\n",
       "        [ 8838],\n",
       "        [33693],\n",
       "        [13408],\n",
       "        [29713],\n",
       "        [25040],\n",
       "        [28537],\n",
       "        [45034],\n",
       "        [37079],\n",
       "        [45132],\n",
       "        [47604],\n",
       "        [32955],\n",
       "        [14679],\n",
       "        [10930],\n",
       "        [16490],\n",
       "        [13914],\n",
       "        [32369],\n",
       "        [ 6365],\n",
       "        [ 9406],\n",
       "        [19398],\n",
       "        [34612],\n",
       "        [15528],\n",
       "        [34802],\n",
       "        [ 8533],\n",
       "        [40702],\n",
       "        [14074],\n",
       "        [40110]], device='cuda:0')"
      ]
     },
     "execution_count": 30,
     "metadata": {},
     "output_type": "execute_result"
    }
   ],
   "source": [
    "x = make_inputs(mt.tokenizer, [\" \"+option for option in options])[\"input_ids\"]\n",
    "x"
   ]
  },
  {
   "cell_type": "code",
   "execution_count": 37,
   "metadata": {},
   "outputs": [
    {
     "data": {
      "text/plain": [
       "True"
      ]
     },
     "execution_count": 37,
     "metadata": {},
     "output_type": "execute_result"
    }
   ],
   "source": [
    "x.squeeze().shape==(len(options),)"
   ]
  }
 ],
 "metadata": {
  "accelerator": "GPU",
  "kernelspec": {
   "display_name": "Python 3 (ipykernel)",
   "language": "python",
   "name": "python3"
  },
  "language_info": {
   "codemirror_mode": {
    "name": "ipython",
    "version": 3
   },
   "file_extension": ".py",
   "mimetype": "text/x-python",
   "name": "python",
   "nbconvert_exporter": "python",
   "pygments_lexer": "ipython3",
   "version": "3.9.5"
  },
  "vscode": {
   "interpreter": {
    "hash": "2c3ec9f9cb0aa45979d92499665f4b05f2a3528d3b2ca0efacea2020d32b93f4"
   }
  }
 },
 "nbformat": 4,
 "nbformat_minor": 4
}
