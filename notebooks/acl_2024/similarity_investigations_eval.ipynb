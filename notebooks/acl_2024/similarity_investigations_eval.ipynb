{
 "cells": [
  {
   "cell_type": "markdown",
   "id": "e1015952",
   "metadata": {},
   "source": [
    "## Evaluate similarity metrics for CT patterns"
   ]
  },
  {
   "cell_type": "code",
   "execution_count": 2,
   "id": "0141be97",
   "metadata": {},
   "outputs": [],
   "source": [
    "import json\n",
    "import pandas as pd\n",
    "import numpy as np\n",
    "from matplotlib import pyplot as plt\n",
    "import seaborn as sns\n",
    "import os\n",
    "import math\n",
    "import scipy\n",
    "import random\n",
    "\n",
    "#from experiments.causal_trace import plot_trace_heatmap, plot_trace_heatmap_from_values, plot_normalized_trace_heatmap_from_values"
   ]
  },
  {
   "cell_type": "code",
   "execution_count": 3,
   "id": "52e86b78",
   "metadata": {},
   "outputs": [],
   "source": [
    "query_file = \"/cephyr/users/lovhag/Alvis/projects/rome/data/P19_gpt2_xl_preds.jsonl\"\n",
    "results1_subj_limit = 2314\n",
    "results_folders = [\"/cephyr/users/lovhag/Alvis/projects/rome/data/results/gpt2-xl/P19/causal_trace_pararel_1711765\",\n",
    "                   \"/cephyr/users/lovhag/Alvis/projects/rome/data/results/gpt2-xl/P19/causal_trace_pararel_1815989\"\n",
    "                  ]"
   ]
  },
  {
   "cell_type": "code",
   "execution_count": 4,
   "id": "29ce55f2",
   "metadata": {},
   "outputs": [
    {
     "data": {
      "text/html": [
       "<div>\n",
       "<style scoped>\n",
       "    .dataframe tbody tr th:only-of-type {\n",
       "        vertical-align: middle;\n",
       "    }\n",
       "\n",
       "    .dataframe tbody tr th {\n",
       "        vertical-align: top;\n",
       "    }\n",
       "\n",
       "    .dataframe thead th {\n",
       "        text-align: right;\n",
       "    }\n",
       "</style>\n",
       "<table border=\"1\" class=\"dataframe\">\n",
       "  <thead>\n",
       "    <tr style=\"text-align: right;\">\n",
       "      <th></th>\n",
       "      <th>attribute</th>\n",
       "      <th>candidate_p</th>\n",
       "      <th>candidate_prediction</th>\n",
       "      <th>candidate_rank</th>\n",
       "      <th>gold_p</th>\n",
       "      <th>gold_rank</th>\n",
       "      <th>known_id</th>\n",
       "      <th>prediction</th>\n",
       "      <th>prediction_p</th>\n",
       "      <th>prompt</th>\n",
       "      <th>relation_id</th>\n",
       "      <th>subject</th>\n",
       "      <th>template</th>\n",
       "      <th>top10_tokens</th>\n",
       "      <th>top10_tokens_probs</th>\n",
       "    </tr>\n",
       "  </thead>\n",
       "  <tbody>\n",
       "    <tr>\n",
       "      <th>0</th>\n",
       "      <td>Alexandra</td>\n",
       "      <td>0.024580</td>\n",
       "      <td>London</td>\n",
       "      <td>2.0</td>\n",
       "      <td>0.000011</td>\n",
       "      <td>3197.0</td>\n",
       "      <td>0.0</td>\n",
       "      <td>New</td>\n",
       "      <td>0.038592</td>\n",
       "      <td>Allan Peiper was born in</td>\n",
       "      <td>P19</td>\n",
       "      <td>Allan Peiper</td>\n",
       "      <td>{} was born in</td>\n",
       "      <td>[ New,  the,  London,  18,  Toronto,  Montreal...</td>\n",
       "      <td>[0.03859247639775276, 0.03803418204188347, 0.0...</td>\n",
       "    </tr>\n",
       "    <tr>\n",
       "      <th>1</th>\n",
       "      <td>Alexandra</td>\n",
       "      <td>0.029013</td>\n",
       "      <td>Canada</td>\n",
       "      <td>2.0</td>\n",
       "      <td>0.000011</td>\n",
       "      <td>3354.0</td>\n",
       "      <td>1.0</td>\n",
       "      <td>the</td>\n",
       "      <td>0.077758</td>\n",
       "      <td>Allan Peiper is originally from</td>\n",
       "      <td>P19</td>\n",
       "      <td>Allan Peiper</td>\n",
       "      <td>{} is originally from</td>\n",
       "      <td>[ New,  the,  London,  18,  Toronto,  Montreal...</td>\n",
       "      <td>[0.04142675921320915, 0.07775774598121643, 0.0...</td>\n",
       "    </tr>\n",
       "    <tr>\n",
       "      <th>2</th>\n",
       "      <td>Alexandra</td>\n",
       "      <td>0.023173</td>\n",
       "      <td>Canada</td>\n",
       "      <td>2.0</td>\n",
       "      <td>0.000013</td>\n",
       "      <td>3389.0</td>\n",
       "      <td>2.0</td>\n",
       "      <td>the</td>\n",
       "      <td>0.079163</td>\n",
       "      <td>Allan Peiper was originally from</td>\n",
       "      <td>P19</td>\n",
       "      <td>Allan Peiper</td>\n",
       "      <td>{} was originally from</td>\n",
       "      <td>[ New,  the,  London,  18,  Toronto,  Montreal...</td>\n",
       "      <td>[0.03634488210082054, 0.07916285842657089, 0.0...</td>\n",
       "    </tr>\n",
       "    <tr>\n",
       "      <th>3</th>\n",
       "      <td>Alexandra</td>\n",
       "      <td>0.035623</td>\n",
       "      <td>Canada</td>\n",
       "      <td>2.0</td>\n",
       "      <td>0.000005</td>\n",
       "      <td>4780.0</td>\n",
       "      <td>3.0</td>\n",
       "      <td>the</td>\n",
       "      <td>0.154659</td>\n",
       "      <td>Allan Peiper is native to</td>\n",
       "      <td>P19</td>\n",
       "      <td>Allan Peiper</td>\n",
       "      <td>{} is native to</td>\n",
       "      <td>[ New,  the,  London,  18,  Toronto,  Montreal...</td>\n",
       "      <td>[0.03823259472846985, 0.15465885400772095, 0.0...</td>\n",
       "    </tr>\n",
       "    <tr>\n",
       "      <th>4</th>\n",
       "      <td>Alexandra</td>\n",
       "      <td>0.032304</td>\n",
       "      <td>Canada</td>\n",
       "      <td>1.0</td>\n",
       "      <td>0.000007</td>\n",
       "      <td>4640.0</td>\n",
       "      <td>4.0</td>\n",
       "      <td>the</td>\n",
       "      <td>0.132673</td>\n",
       "      <td>Allan Peiper was native to</td>\n",
       "      <td>P19</td>\n",
       "      <td>Allan Peiper</td>\n",
       "      <td>{} was native to</td>\n",
       "      <td>[ New,  the,  London,  18,  Toronto,  Montreal...</td>\n",
       "      <td>[0.029023099690675735, 0.13267268240451813, 0....</td>\n",
       "    </tr>\n",
       "  </tbody>\n",
       "</table>\n",
       "</div>"
      ],
      "text/plain": [
       "   attribute  candidate_p candidate_prediction  candidate_rank    gold_p  \\\n",
       "0  Alexandra     0.024580               London             2.0  0.000011   \n",
       "1  Alexandra     0.029013               Canada             2.0  0.000011   \n",
       "2  Alexandra     0.023173               Canada             2.0  0.000013   \n",
       "3  Alexandra     0.035623               Canada             2.0  0.000005   \n",
       "4  Alexandra     0.032304               Canada             1.0  0.000007   \n",
       "\n",
       "   gold_rank  known_id prediction  prediction_p  \\\n",
       "0     3197.0       0.0        New      0.038592   \n",
       "1     3354.0       1.0        the      0.077758   \n",
       "2     3389.0       2.0        the      0.079163   \n",
       "3     4780.0       3.0        the      0.154659   \n",
       "4     4640.0       4.0        the      0.132673   \n",
       "\n",
       "                             prompt relation_id       subject  \\\n",
       "0          Allan Peiper was born in         P19  Allan Peiper   \n",
       "1   Allan Peiper is originally from         P19  Allan Peiper   \n",
       "2  Allan Peiper was originally from         P19  Allan Peiper   \n",
       "3         Allan Peiper is native to         P19  Allan Peiper   \n",
       "4        Allan Peiper was native to         P19  Allan Peiper   \n",
       "\n",
       "                 template                                       top10_tokens  \\\n",
       "0          {} was born in  [ New,  the,  London,  18,  Toronto,  Montreal...   \n",
       "1   {} is originally from  [ New,  the,  London,  18,  Toronto,  Montreal...   \n",
       "2  {} was originally from  [ New,  the,  London,  18,  Toronto,  Montreal...   \n",
       "3         {} is native to  [ New,  the,  London,  18,  Toronto,  Montreal...   \n",
       "4        {} was native to  [ New,  the,  London,  18,  Toronto,  Montreal...   \n",
       "\n",
       "                                  top10_tokens_probs  \n",
       "0  [0.03859247639775276, 0.03803418204188347, 0.0...  \n",
       "1  [0.04142675921320915, 0.07775774598121643, 0.0...  \n",
       "2  [0.03634488210082054, 0.07916285842657089, 0.0...  \n",
       "3  [0.03823259472846985, 0.15465885400772095, 0.0...  \n",
       "4  [0.029023099690675735, 0.13267268240451813, 0....  "
      ]
     },
     "execution_count": 4,
     "metadata": {},
     "output_type": "execute_result"
    }
   ],
   "source": [
    "queries = pd.DataFrame()\n",
    "with open(query_file) as f:\n",
    "    for line in f:\n",
    "        queries = queries.append(json.loads(line), ignore_index=True)\n",
    "        \n",
    "queries.head()"
   ]
  },
  {
   "cell_type": "markdown",
   "id": "c8a04664",
   "metadata": {},
   "source": [
    "## Calculate distance values"
   ]
  },
  {
   "cell_type": "code",
   "execution_count": 5,
   "id": "756edef9",
   "metadata": {},
   "outputs": [],
   "source": [
    "from skimage.metrics import structural_similarity, normalized_root_mse, normalized_mutual_information\n",
    "\n",
    "def get_ssim_dist(lama_scores, scores):\n",
    "    #ssim of 1 means completely similar, 0 dissimilar?\n",
    "    return 1-structural_similarity(im1=np.expand_dims(lama_scores, axis=2), \n",
    "                                   im2=np.expand_dims(scores, axis=2), \n",
    "                                   win_size=1,\n",
    "                                   data_range=1,\n",
    "                                   gaussian_weights=True,\n",
    "                                   sigma=1.5,\n",
    "                                   use_sample_covariance=False\n",
    "                                  )\n",
    "\n",
    "def get_norm_root_mse(lama_scores, scores):\n",
    "    return normalized_root_mse(image_true=np.expand_dims(lama_scores, axis=2), image_test=np.expand_dims(scores, axis=2))\n",
    "\n",
    "def get_norm_mutual_info(lama_scores, scores):\n",
    "    # 1 - perfectly uncorrelated and 2 - perfectly correlated\n",
    "    return normalized_mutual_information(image0=np.expand_dims(lama_scores, axis=2), image1=np.expand_dims(scores, axis=2))"
   ]
  },
  {
   "cell_type": "code",
   "execution_count": 6,
   "id": "1e759c4c",
   "metadata": {},
   "outputs": [],
   "source": [
    "def get_cos_dist(lama_scores, scores):\n",
    "    lama_scores = np.nan_to_num(lama_scores/np.linalg.norm(lama_scores, axis=1)[:, np.newaxis])\n",
    "    scores = np.nan_to_num(scores/np.linalg.norm(scores, axis=1)[:, np.newaxis])\n",
    "    sim = np.multiply(lama_scores, scores).sum(axis=1)\n",
    "    return 1-sum(sim)/len(sim)"
   ]
  },
  {
   "cell_type": "code",
   "execution_count": 7,
   "id": "37192957",
   "metadata": {},
   "outputs": [],
   "source": [
    "import ot\n",
    "\n",
    "def get_wasserstein(lama_scores, scores):\n",
    "    return ot.sliced_wasserstein_distance(lama_scores, scores, n_projections=10000, seed=63)\n",
    "\n",
    "def get_wasserstein_norm(lama_scores, scores):\n",
    "    scores = scores/scores.sum()\n",
    "    lama_scores = lama_scores/lama_scores.sum()\n",
    "    return ot.sliced_wasserstein_distance(lama_scores, scores, n_projections=10000, seed=63)\n",
    "\n",
    "def get_wasserstein_norm_min(lama_scores, scores):\n",
    "    scores = (scores-scores.min())\n",
    "    scores = scores/scores.sum()\n",
    "    lama_scores = (lama_scores-lama_scores.min())\n",
    "    lama_scores = lama_scores/lama_scores.sum()\n",
    "    return ot.sliced_wasserstein_distance(lama_scores, scores, n_projections=10000, seed=63)\n",
    "\n",
    "get_ws_dist = get_wasserstein_norm"
   ]
  },
  {
   "cell_type": "code",
   "execution_count": 8,
   "id": "02c0f0b1",
   "metadata": {},
   "outputs": [],
   "source": [
    "def get_kl_div(lama_scores, scores):\n",
    "    scores = get_normalized_scores(scores)\n",
    "    lama_scores = get_normalized_scores(lama_scores)\n",
    "    return sum(scipy.special.rel_entr(scores, lama_scores))\n",
    "    \n",
    "def get_normalized_scores(scores):\n",
    "    delta = 0.000001\n",
    "    scores = (scores.flatten()-scores.flatten().min()+delta)\n",
    "    scores = scores/scores.sum()\n",
    "    \n",
    "    return scores\n",
    "\n",
    "def get_kl_div_no_min(lama_scores, scores):\n",
    "    scores = get_normalized_scores_no_min(scores)\n",
    "    lama_scores = get_normalized_scores_no_min(lama_scores)\n",
    "    return sum(scipy.special.rel_entr(scores, lama_scores))\n",
    "    \n",
    "def get_normalized_scores_no_min(scores):\n",
    "    scores = scores.flatten()\n",
    "    scores = scores/scores.sum()\n",
    "    \n",
    "    return scores\n",
    "\n",
    "#get_kl_div = get_kl_div_no_min"
   ]
  },
  {
   "cell_type": "code",
   "execution_count": 9,
   "id": "5fc52768",
   "metadata": {},
   "outputs": [],
   "source": [
    "def get_results_for_token_ix(results, token_ix, answer_for_token):\n",
    "    results = dict(results)\n",
    "    results[\"scores\"] = results[\"scores\"][:,:,token_ix]\n",
    "    results[\"low_score\"] = results[\"low_score\"][token_ix]\n",
    "    results[\"high_score\"] = results[\"high_score\"][token_ix]\n",
    "    results[\"answer\"] = answer_for_token #a bit hacky to get the answer as argument\n",
    "    return results\n",
    "    \n",
    "def get_results_for_subject(results):\n",
    "    # assumes that results already has been filtered by token_id\n",
    "    results[\"scores\"] = results[\"scores\"][results[\"subject_range\"][0]:results[\"subject_range\"][1],:]\n",
    "    results[\"input_tokens\"] = results[\"input_tokens\"][results[\"subject_range\"][0]:results[\"subject_range\"][1]]\n",
    "    results[\"input_ids\"] = results[\"input_ids\"][results[\"subject_range\"][0]:results[\"subject_range\"][1]]\n",
    "    results[\"subject_range\"] = np.array([0,len(results[\"input_tokens\"])])\n",
    "    return results"
   ]
  },
  {
   "cell_type": "code",
   "execution_count": 10,
   "id": "33ff4a5b",
   "metadata": {},
   "outputs": [],
   "source": [
    "annotated_data = pd.read_csv(\"/cephyr/users/lovhag/Alvis/projects/rome/data/similarity/P19_annotated_val.csv\")"
   ]
  },
  {
   "cell_type": "markdown",
   "id": "39cfe7da",
   "metadata": {},
   "source": [
    "Run similarity metrics"
   ]
  },
  {
   "cell_type": "code",
   "execution_count": 11,
   "id": "69a672af",
   "metadata": {
    "scrolled": true
   },
   "outputs": [
    {
     "data": {
      "text/html": [
       "<div>\n",
       "<style scoped>\n",
       "    .dataframe tbody tr th:only-of-type {\n",
       "        vertical-align: middle;\n",
       "    }\n",
       "\n",
       "    .dataframe tbody tr th {\n",
       "        vertical-align: top;\n",
       "    }\n",
       "\n",
       "    .dataframe thead th {\n",
       "        text-align: right;\n",
       "    }\n",
       "</style>\n",
       "<table border=\"1\" class=\"dataframe\">\n",
       "  <thead>\n",
       "    <tr style=\"text-align: right;\">\n",
       "      <th></th>\n",
       "      <th>lama_ix</th>\n",
       "      <th>sample_ix_1</th>\n",
       "      <th>sample_ix_2</th>\n",
       "      <th>token_type</th>\n",
       "      <th>example_more_similar</th>\n",
       "      <th>metric</th>\n",
       "      <th>ex1</th>\n",
       "      <th>ex2</th>\n",
       "    </tr>\n",
       "  </thead>\n",
       "  <tbody>\n",
       "    <tr>\n",
       "      <th>0</th>\n",
       "      <td>7</td>\n",
       "      <td>9</td>\n",
       "      <td>13</td>\n",
       "      <td>candidate</td>\n",
       "      <td>1</td>\n",
       "      <td>cos</td>\n",
       "      <td>0.004174</td>\n",
       "      <td>0.006637</td>\n",
       "    </tr>\n",
       "    <tr>\n",
       "      <th>1</th>\n",
       "      <td>7</td>\n",
       "      <td>9</td>\n",
       "      <td>13</td>\n",
       "      <td>candidate</td>\n",
       "      <td>1</td>\n",
       "      <td>ws</td>\n",
       "      <td>0.000512</td>\n",
       "      <td>0.000633</td>\n",
       "    </tr>\n",
       "    <tr>\n",
       "      <th>2</th>\n",
       "      <td>7</td>\n",
       "      <td>9</td>\n",
       "      <td>13</td>\n",
       "      <td>candidate</td>\n",
       "      <td>1</td>\n",
       "      <td>kl</td>\n",
       "      <td>0.018716</td>\n",
       "      <td>0.038002</td>\n",
       "    </tr>\n",
       "    <tr>\n",
       "      <th>3</th>\n",
       "      <td>7</td>\n",
       "      <td>9</td>\n",
       "      <td>13</td>\n",
       "      <td>candidate</td>\n",
       "      <td>1</td>\n",
       "      <td>ssim</td>\n",
       "      <td>0.178567</td>\n",
       "      <td>0.593005</td>\n",
       "    </tr>\n",
       "    <tr>\n",
       "      <th>4</th>\n",
       "      <td>7</td>\n",
       "      <td>9</td>\n",
       "      <td>13</td>\n",
       "      <td>candidate</td>\n",
       "      <td>1</td>\n",
       "      <td>nrmse</td>\n",
       "      <td>0.516961</td>\n",
       "      <td>0.849109</td>\n",
       "    </tr>\n",
       "    <tr>\n",
       "      <th>...</th>\n",
       "      <td>...</td>\n",
       "      <td>...</td>\n",
       "      <td>...</td>\n",
       "      <td>...</td>\n",
       "      <td>...</td>\n",
       "      <td>...</td>\n",
       "      <td>...</td>\n",
       "      <td>...</td>\n",
       "    </tr>\n",
       "    <tr>\n",
       "      <th>1189</th>\n",
       "      <td>5432</td>\n",
       "      <td>5438</td>\n",
       "      <td>5435</td>\n",
       "      <td>candidate</td>\n",
       "      <td>1</td>\n",
       "      <td>ws</td>\n",
       "      <td>0.000779</td>\n",
       "      <td>0.001274</td>\n",
       "    </tr>\n",
       "    <tr>\n",
       "      <th>1190</th>\n",
       "      <td>5432</td>\n",
       "      <td>5438</td>\n",
       "      <td>5435</td>\n",
       "      <td>candidate</td>\n",
       "      <td>1</td>\n",
       "      <td>kl</td>\n",
       "      <td>0.106105</td>\n",
       "      <td>0.180781</td>\n",
       "    </tr>\n",
       "    <tr>\n",
       "      <th>1191</th>\n",
       "      <td>5432</td>\n",
       "      <td>5438</td>\n",
       "      <td>5435</td>\n",
       "      <td>candidate</td>\n",
       "      <td>1</td>\n",
       "      <td>ssim</td>\n",
       "      <td>0.077364</td>\n",
       "      <td>0.109190</td>\n",
       "    </tr>\n",
       "    <tr>\n",
       "      <th>1192</th>\n",
       "      <td>5432</td>\n",
       "      <td>5438</td>\n",
       "      <td>5435</td>\n",
       "      <td>candidate</td>\n",
       "      <td>1</td>\n",
       "      <td>nrmse</td>\n",
       "      <td>0.678663</td>\n",
       "      <td>0.793644</td>\n",
       "    </tr>\n",
       "    <tr>\n",
       "      <th>1193</th>\n",
       "      <td>5432</td>\n",
       "      <td>5438</td>\n",
       "      <td>5435</td>\n",
       "      <td>candidate</td>\n",
       "      <td>1</td>\n",
       "      <td>nmi</td>\n",
       "      <td>1.525377</td>\n",
       "      <td>1.486481</td>\n",
       "    </tr>\n",
       "  </tbody>\n",
       "</table>\n",
       "<p>1194 rows × 8 columns</p>\n",
       "</div>"
      ],
      "text/plain": [
       "      lama_ix  sample_ix_1  sample_ix_2 token_type  example_more_similar  \\\n",
       "0           7            9           13  candidate                     1   \n",
       "1           7            9           13  candidate                     1   \n",
       "2           7            9           13  candidate                     1   \n",
       "3           7            9           13  candidate                     1   \n",
       "4           7            9           13  candidate                     1   \n",
       "...       ...          ...          ...        ...                   ...   \n",
       "1189     5432         5438         5435  candidate                     1   \n",
       "1190     5432         5438         5435  candidate                     1   \n",
       "1191     5432         5438         5435  candidate                     1   \n",
       "1192     5432         5438         5435  candidate                     1   \n",
       "1193     5432         5438         5435  candidate                     1   \n",
       "\n",
       "     metric       ex1       ex2  \n",
       "0       cos  0.004174  0.006637  \n",
       "1        ws  0.000512  0.000633  \n",
       "2        kl  0.018716  0.038002  \n",
       "3      ssim  0.178567  0.593005  \n",
       "4     nrmse  0.516961  0.849109  \n",
       "...     ...       ...       ...  \n",
       "1189     ws  0.000779  0.001274  \n",
       "1190     kl  0.106105  0.180781  \n",
       "1191   ssim  0.077364  0.109190  \n",
       "1192  nrmse  0.678663  0.793644  \n",
       "1193    nmi  1.525377  1.486481  \n",
       "\n",
       "[1194 rows x 8 columns]"
      ]
     },
     "execution_count": 11,
     "metadata": {},
     "output_type": "execute_result"
    }
   ],
   "source": [
    "dist_metrics = {\"cos\": get_cos_dist,\n",
    "                \"ws\": get_ws_dist,\n",
    "                \"kl\": get_kl_div,\n",
    "                \"ssim\": get_ssim_dist,\n",
    "                \"nrmse\": get_norm_root_mse,\n",
    "                \"nmi\": get_norm_mutual_info\n",
    "               }\n",
    "\n",
    "dist_results = {key: [] for key in dist_metrics}\n",
    "\n",
    "for ix, row in annotated_data.iterrows():\n",
    "    if row.token_type == \"any\":\n",
    "        token_ix = 0\n",
    "        answer = queries.loc[row.lama_ix][\"top10_tokens\"][token_ix]\n",
    "    elif row.token_type == \"candidate\":\n",
    "        answer = queries.loc[row.lama_ix][\"candidate_prediction\"]\n",
    "        token_ix = queries.loc[row.lama_ix][\"top10_tokens\"].index(answer)\n",
    "        \n",
    "    if row.lama_ix < results1_subj_limit:\n",
    "        results_folder = results_folders[0]\n",
    "    else:\n",
    "        results_folder = results_folders[1]\n",
    "    results_lama = np.load(os.path.join(results_folder, f\"cases/{row.lama_ix}_any_mlp.npz\"), allow_pickle=True)\n",
    "    \n",
    "    dists = {key: {\"metric\": key} for key in dist_metrics}\n",
    "    for ix, sample_ix in enumerate([row.sample_ix_1, row.sample_ix_2]):\n",
    "        proc_results_lama = get_results_for_token_ix(results_lama, token_ix, answer)\n",
    "        proc_results_lama = get_results_for_subject(proc_results_lama)\n",
    "\n",
    "        if sample_ix < results1_subj_limit:\n",
    "            results_folder = results_folders[0]\n",
    "        else:\n",
    "            results_folder = results_folders[1]\n",
    "            \n",
    "        results = np.load(os.path.join(results_folder, f\"cases/{sample_ix}_any_mlp.npz\"), allow_pickle=True)\n",
    "        results = get_results_for_token_ix(results, token_ix, answer)\n",
    "        results = get_results_for_subject(results)\n",
    "\n",
    "        for key in dists:\n",
    "            dists[key][f\"ex{ix+1}\"] = dist_metrics[key](proc_results_lama[\"scores\"], results[\"scores\"])\n",
    "        \n",
    "    for key in dist_results:\n",
    "        dist_results[key].append(dists[key])\n",
    "\n",
    "data = pd.DataFrame()\n",
    "for key, val in dist_results.items():\n",
    "    data = data.append(annotated_data.merge(pd.DataFrame(val), left_index=True, right_index=True, suffixes=(False, False)), ignore_index=True)\n",
    "\n",
    "data = data.sort_values(by=[\"lama_ix\", \"sample_ix_1\", \"sample_ix_2\", \"token_type\"], ignore_index=True)\n",
    "data"
   ]
  },
  {
   "cell_type": "markdown",
   "id": "50ade7b5",
   "metadata": {},
   "source": [
    "## Compare distance values to annotations"
   ]
  },
  {
   "cell_type": "code",
   "execution_count": 12,
   "id": "82cc2ff7",
   "metadata": {},
   "outputs": [
    {
     "data": {
      "text/html": [
       "<div>\n",
       "<style scoped>\n",
       "    .dataframe tbody tr th:only-of-type {\n",
       "        vertical-align: middle;\n",
       "    }\n",
       "\n",
       "    .dataframe tbody tr th {\n",
       "        vertical-align: top;\n",
       "    }\n",
       "\n",
       "    .dataframe thead th {\n",
       "        text-align: right;\n",
       "    }\n",
       "</style>\n",
       "<table border=\"1\" class=\"dataframe\">\n",
       "  <thead>\n",
       "    <tr style=\"text-align: right;\">\n",
       "      <th></th>\n",
       "      <th>lama_ix</th>\n",
       "      <th>sample_ix_1</th>\n",
       "      <th>sample_ix_2</th>\n",
       "      <th>token_type</th>\n",
       "      <th>example_more_similar</th>\n",
       "      <th>metric</th>\n",
       "      <th>ex1</th>\n",
       "      <th>ex2</th>\n",
       "    </tr>\n",
       "  </thead>\n",
       "  <tbody>\n",
       "    <tr>\n",
       "      <th>0</th>\n",
       "      <td>7</td>\n",
       "      <td>9</td>\n",
       "      <td>13</td>\n",
       "      <td>candidate</td>\n",
       "      <td>1</td>\n",
       "      <td>cos</td>\n",
       "      <td>0.004174</td>\n",
       "      <td>0.006637</td>\n",
       "    </tr>\n",
       "    <tr>\n",
       "      <th>1</th>\n",
       "      <td>7</td>\n",
       "      <td>9</td>\n",
       "      <td>13</td>\n",
       "      <td>candidate</td>\n",
       "      <td>1</td>\n",
       "      <td>ws</td>\n",
       "      <td>0.000512</td>\n",
       "      <td>0.000633</td>\n",
       "    </tr>\n",
       "    <tr>\n",
       "      <th>2</th>\n",
       "      <td>7</td>\n",
       "      <td>9</td>\n",
       "      <td>13</td>\n",
       "      <td>candidate</td>\n",
       "      <td>1</td>\n",
       "      <td>kl</td>\n",
       "      <td>0.018716</td>\n",
       "      <td>0.038002</td>\n",
       "    </tr>\n",
       "    <tr>\n",
       "      <th>3</th>\n",
       "      <td>7</td>\n",
       "      <td>9</td>\n",
       "      <td>13</td>\n",
       "      <td>candidate</td>\n",
       "      <td>1</td>\n",
       "      <td>ssim</td>\n",
       "      <td>0.178567</td>\n",
       "      <td>0.593005</td>\n",
       "    </tr>\n",
       "    <tr>\n",
       "      <th>4</th>\n",
       "      <td>7</td>\n",
       "      <td>9</td>\n",
       "      <td>13</td>\n",
       "      <td>candidate</td>\n",
       "      <td>1</td>\n",
       "      <td>nrmse</td>\n",
       "      <td>0.516961</td>\n",
       "      <td>0.849109</td>\n",
       "    </tr>\n",
       "  </tbody>\n",
       "</table>\n",
       "</div>"
      ],
      "text/plain": [
       "   lama_ix  sample_ix_1  sample_ix_2 token_type  example_more_similar metric  \\\n",
       "0        7            9           13  candidate                     1    cos   \n",
       "1        7            9           13  candidate                     1     ws   \n",
       "2        7            9           13  candidate                     1     kl   \n",
       "3        7            9           13  candidate                     1   ssim   \n",
       "4        7            9           13  candidate                     1  nrmse   \n",
       "\n",
       "        ex1       ex2  \n",
       "0  0.004174  0.006637  \n",
       "1  0.000512  0.000633  \n",
       "2  0.018716  0.038002  \n",
       "3  0.178567  0.593005  \n",
       "4  0.516961  0.849109  "
      ]
     },
     "execution_count": 12,
     "metadata": {},
     "output_type": "execute_result"
    }
   ],
   "source": [
    "acc_data = data.copy()\n",
    "acc_data.head()"
   ]
  },
  {
   "cell_type": "code",
   "execution_count": 13,
   "id": "335ef86a",
   "metadata": {},
   "outputs": [
    {
     "data": {
      "text/html": [
       "<div>\n",
       "<style scoped>\n",
       "    .dataframe tbody tr th:only-of-type {\n",
       "        vertical-align: middle;\n",
       "    }\n",
       "\n",
       "    .dataframe tbody tr th {\n",
       "        vertical-align: top;\n",
       "    }\n",
       "\n",
       "    .dataframe thead th {\n",
       "        text-align: right;\n",
       "    }\n",
       "</style>\n",
       "<table border=\"1\" class=\"dataframe\">\n",
       "  <thead>\n",
       "    <tr style=\"text-align: right;\">\n",
       "      <th></th>\n",
       "      <th>lama_ix</th>\n",
       "      <th>sample_ix_1</th>\n",
       "      <th>sample_ix_2</th>\n",
       "      <th>example_more_similar</th>\n",
       "      <th>ex1</th>\n",
       "      <th>ex2</th>\n",
       "    </tr>\n",
       "    <tr>\n",
       "      <th>metric</th>\n",
       "      <th></th>\n",
       "      <th></th>\n",
       "      <th></th>\n",
       "      <th></th>\n",
       "      <th></th>\n",
       "      <th></th>\n",
       "    </tr>\n",
       "  </thead>\n",
       "  <tbody>\n",
       "    <tr>\n",
       "      <th>cos</th>\n",
       "      <td>1807.407035</td>\n",
       "      <td>1810.839196</td>\n",
       "      <td>1810.743719</td>\n",
       "      <td>1.81407</td>\n",
       "      <td>0.014980</td>\n",
       "      <td>0.015940</td>\n",
       "    </tr>\n",
       "    <tr>\n",
       "      <th>kl</th>\n",
       "      <td>1807.407035</td>\n",
       "      <td>1810.839196</td>\n",
       "      <td>1810.743719</td>\n",
       "      <td>1.81407</td>\n",
       "      <td>0.081871</td>\n",
       "      <td>0.098554</td>\n",
       "    </tr>\n",
       "    <tr>\n",
       "      <th>nmi</th>\n",
       "      <td>1807.407035</td>\n",
       "      <td>1810.839196</td>\n",
       "      <td>1810.743719</td>\n",
       "      <td>1.81407</td>\n",
       "      <td>1.550242</td>\n",
       "      <td>1.549734</td>\n",
       "    </tr>\n",
       "    <tr>\n",
       "      <th>nrmse</th>\n",
       "      <td>1807.407035</td>\n",
       "      <td>1810.839196</td>\n",
       "      <td>1810.743719</td>\n",
       "      <td>1.81407</td>\n",
       "      <td>0.848114</td>\n",
       "      <td>0.847016</td>\n",
       "    </tr>\n",
       "    <tr>\n",
       "      <th>ssim</th>\n",
       "      <td>1807.407035</td>\n",
       "      <td>1810.839196</td>\n",
       "      <td>1810.743719</td>\n",
       "      <td>1.81407</td>\n",
       "      <td>0.274879</td>\n",
       "      <td>0.273449</td>\n",
       "    </tr>\n",
       "    <tr>\n",
       "      <th>ws</th>\n",
       "      <td>1807.407035</td>\n",
       "      <td>1810.839196</td>\n",
       "      <td>1810.743719</td>\n",
       "      <td>1.81407</td>\n",
       "      <td>0.001131</td>\n",
       "      <td>0.001113</td>\n",
       "    </tr>\n",
       "  </tbody>\n",
       "</table>\n",
       "</div>"
      ],
      "text/plain": [
       "            lama_ix  sample_ix_1  sample_ix_2  example_more_similar       ex1  \\\n",
       "metric                                                                          \n",
       "cos     1807.407035  1810.839196  1810.743719               1.81407  0.014980   \n",
       "kl      1807.407035  1810.839196  1810.743719               1.81407  0.081871   \n",
       "nmi     1807.407035  1810.839196  1810.743719               1.81407  1.550242   \n",
       "nrmse   1807.407035  1810.839196  1810.743719               1.81407  0.848114   \n",
       "ssim    1807.407035  1810.839196  1810.743719               1.81407  0.274879   \n",
       "ws      1807.407035  1810.839196  1810.743719               1.81407  0.001131   \n",
       "\n",
       "             ex2  \n",
       "metric            \n",
       "cos     0.015940  \n",
       "kl      0.098554  \n",
       "nmi     1.549734  \n",
       "nrmse   0.847016  \n",
       "ssim    0.273449  \n",
       "ws      0.001113  "
      ]
     },
     "execution_count": 13,
     "metadata": {},
     "output_type": "execute_result"
    }
   ],
   "source": [
    "acc_data.groupby(\"metric\").mean()"
   ]
  },
  {
   "cell_type": "code",
   "execution_count": 14,
   "id": "317a7c88",
   "metadata": {},
   "outputs": [
    {
     "data": {
      "text/plain": [
       "0.015459832239509256"
      ]
     },
     "execution_count": 14,
     "metadata": {},
     "output_type": "execute_result"
    }
   ],
   "source": [
    "acc_data[acc_data.metric==\"cos\"][[\"ex1\", \"ex2\"]].mean().mean()"
   ]
  },
  {
   "cell_type": "code",
   "execution_count": 15,
   "id": "5a3a93f5",
   "metadata": {},
   "outputs": [],
   "source": [
    "means = {key: acc_data[acc_data.metric==key][[\"ex1\", \"ex2\"]].mean().mean() for key in dist_metrics}\n",
    "\n",
    "def get_dist_accuracy(dist_1, dist_2, label, mean_dist):\n",
    "    if label == 1:\n",
    "        return int(dist_1<dist_2)\n",
    "    elif label == 2:\n",
    "        return int(dist_1>dist_2)\n",
    "    elif label == 0:\n",
    "        return int(dist_1>mean_dist and dist_2>mean_dist)\n",
    "    elif label == 3:\n",
    "        return int(abs(np.log10(dist_1)-np.log10(dist_2))<0.5)\n",
    "    else:\n",
    "        raise Exception(\"Annotated score not valid.\")"
   ]
  },
  {
   "cell_type": "code",
   "execution_count": 16,
   "id": "ab6b6d14",
   "metadata": {},
   "outputs": [
    {
     "data": {
      "text/html": [
       "<div>\n",
       "<style scoped>\n",
       "    .dataframe tbody tr th:only-of-type {\n",
       "        vertical-align: middle;\n",
       "    }\n",
       "\n",
       "    .dataframe tbody tr th {\n",
       "        vertical-align: top;\n",
       "    }\n",
       "\n",
       "    .dataframe thead th {\n",
       "        text-align: right;\n",
       "    }\n",
       "</style>\n",
       "<table border=\"1\" class=\"dataframe\">\n",
       "  <thead>\n",
       "    <tr style=\"text-align: right;\">\n",
       "      <th></th>\n",
       "      <th>lama_ix</th>\n",
       "      <th>sample_ix_1</th>\n",
       "      <th>sample_ix_2</th>\n",
       "      <th>token_type</th>\n",
       "      <th>example_more_similar</th>\n",
       "      <th>metric</th>\n",
       "      <th>ex1</th>\n",
       "      <th>ex2</th>\n",
       "      <th>score</th>\n",
       "    </tr>\n",
       "  </thead>\n",
       "  <tbody>\n",
       "    <tr>\n",
       "      <th>0</th>\n",
       "      <td>7</td>\n",
       "      <td>9</td>\n",
       "      <td>13</td>\n",
       "      <td>candidate</td>\n",
       "      <td>1</td>\n",
       "      <td>cos</td>\n",
       "      <td>0.004174</td>\n",
       "      <td>0.006637</td>\n",
       "      <td>1.0</td>\n",
       "    </tr>\n",
       "    <tr>\n",
       "      <th>1</th>\n",
       "      <td>7</td>\n",
       "      <td>9</td>\n",
       "      <td>13</td>\n",
       "      <td>candidate</td>\n",
       "      <td>1</td>\n",
       "      <td>ws</td>\n",
       "      <td>0.000512</td>\n",
       "      <td>0.000633</td>\n",
       "      <td>1.0</td>\n",
       "    </tr>\n",
       "    <tr>\n",
       "      <th>2</th>\n",
       "      <td>7</td>\n",
       "      <td>9</td>\n",
       "      <td>13</td>\n",
       "      <td>candidate</td>\n",
       "      <td>1</td>\n",
       "      <td>kl</td>\n",
       "      <td>0.018716</td>\n",
       "      <td>0.038002</td>\n",
       "      <td>1.0</td>\n",
       "    </tr>\n",
       "    <tr>\n",
       "      <th>3</th>\n",
       "      <td>7</td>\n",
       "      <td>9</td>\n",
       "      <td>13</td>\n",
       "      <td>candidate</td>\n",
       "      <td>1</td>\n",
       "      <td>ssim</td>\n",
       "      <td>0.178567</td>\n",
       "      <td>0.593005</td>\n",
       "      <td>1.0</td>\n",
       "    </tr>\n",
       "    <tr>\n",
       "      <th>4</th>\n",
       "      <td>7</td>\n",
       "      <td>9</td>\n",
       "      <td>13</td>\n",
       "      <td>candidate</td>\n",
       "      <td>1</td>\n",
       "      <td>nrmse</td>\n",
       "      <td>0.516961</td>\n",
       "      <td>0.849109</td>\n",
       "      <td>1.0</td>\n",
       "    </tr>\n",
       "  </tbody>\n",
       "</table>\n",
       "</div>"
      ],
      "text/plain": [
       "   lama_ix  sample_ix_1  sample_ix_2 token_type  example_more_similar metric  \\\n",
       "0        7            9           13  candidate                     1    cos   \n",
       "1        7            9           13  candidate                     1     ws   \n",
       "2        7            9           13  candidate                     1     kl   \n",
       "3        7            9           13  candidate                     1   ssim   \n",
       "4        7            9           13  candidate                     1  nrmse   \n",
       "\n",
       "        ex1       ex2  score  \n",
       "0  0.004174  0.006637    1.0  \n",
       "1  0.000512  0.000633    1.0  \n",
       "2  0.018716  0.038002    1.0  \n",
       "3  0.178567  0.593005    1.0  \n",
       "4  0.516961  0.849109    1.0  "
      ]
     },
     "execution_count": 16,
     "metadata": {},
     "output_type": "execute_result"
    }
   ],
   "source": [
    "acc_data[\"score\"] = None\n",
    "for key in dist_metrics:\n",
    "    key_mask = acc_data.metric==key\n",
    "    acc_data.loc[key_mask, \"score\"] = acc_data[key_mask].apply(lambda row: get_dist_accuracy(row.ex1, \n",
    "                                                                                                                 row.ex2, \n",
    "                                                                                                                 row.example_more_similar, \n",
    "                                                                                                                 means[key]), \n",
    "                                                                                   axis=1\n",
    "                                                                                  )\n",
    "acc_data[\"score\"] = acc_data.score.astype(\"float\")\n",
    "acc_data.head()"
   ]
  },
  {
   "cell_type": "code",
   "execution_count": 17,
   "id": "ac16601f",
   "metadata": {},
   "outputs": [
    {
     "data": {
      "text/plain": [
       "token_type  metric\n",
       "any         cos       0.562500\n",
       "            kl        0.604167\n",
       "            nmi       0.552083\n",
       "            nrmse     0.645833\n",
       "            ssim      0.593750\n",
       "            ws        0.541667\n",
       "candidate   cos       0.864078\n",
       "            kl        0.873786\n",
       "            nmi       0.504854\n",
       "            nrmse     0.854369\n",
       "            ssim      0.766990\n",
       "            ws        0.893204\n",
       "Name: score, dtype: float64"
      ]
     },
     "execution_count": 17,
     "metadata": {},
     "output_type": "execute_result"
    }
   ],
   "source": [
    "acc_data.groupby([\"token_type\", \"metric\"]).score.mean()"
   ]
  },
  {
   "cell_type": "code",
   "execution_count": 18,
   "id": "32fd264d",
   "metadata": {},
   "outputs": [
    {
     "data": {
      "text/html": [
       "<div>\n",
       "<style scoped>\n",
       "    .dataframe tbody tr th:only-of-type {\n",
       "        vertical-align: middle;\n",
       "    }\n",
       "\n",
       "    .dataframe tbody tr th {\n",
       "        vertical-align: top;\n",
       "    }\n",
       "\n",
       "    .dataframe thead th {\n",
       "        text-align: right;\n",
       "    }\n",
       "</style>\n",
       "<table border=\"1\" class=\"dataframe\">\n",
       "  <thead>\n",
       "    <tr style=\"text-align: right;\">\n",
       "      <th></th>\n",
       "      <th></th>\n",
       "      <th>mean</th>\n",
       "      <th>count</th>\n",
       "    </tr>\n",
       "    <tr>\n",
       "      <th>metric</th>\n",
       "      <th>token_type</th>\n",
       "      <th></th>\n",
       "      <th></th>\n",
       "    </tr>\n",
       "  </thead>\n",
       "  <tbody>\n",
       "    <tr>\n",
       "      <th rowspan=\"2\" valign=\"top\">cos</th>\n",
       "      <th>any</th>\n",
       "      <td>0.742857</td>\n",
       "      <td>35</td>\n",
       "    </tr>\n",
       "    <tr>\n",
       "      <th>candidate</th>\n",
       "      <td>0.946429</td>\n",
       "      <td>56</td>\n",
       "    </tr>\n",
       "    <tr>\n",
       "      <th rowspan=\"2\" valign=\"top\">kl</th>\n",
       "      <th>any</th>\n",
       "      <td>0.685714</td>\n",
       "      <td>35</td>\n",
       "    </tr>\n",
       "    <tr>\n",
       "      <th>candidate</th>\n",
       "      <td>0.892857</td>\n",
       "      <td>56</td>\n",
       "    </tr>\n",
       "    <tr>\n",
       "      <th rowspan=\"2\" valign=\"top\">nmi</th>\n",
       "      <th>any</th>\n",
       "      <td>0.342857</td>\n",
       "      <td>35</td>\n",
       "    </tr>\n",
       "    <tr>\n",
       "      <th>candidate</th>\n",
       "      <td>0.160714</td>\n",
       "      <td>56</td>\n",
       "    </tr>\n",
       "    <tr>\n",
       "      <th rowspan=\"2\" valign=\"top\">nrmse</th>\n",
       "      <th>any</th>\n",
       "      <td>0.657143</td>\n",
       "      <td>35</td>\n",
       "    </tr>\n",
       "    <tr>\n",
       "      <th>candidate</th>\n",
       "      <td>0.821429</td>\n",
       "      <td>56</td>\n",
       "    </tr>\n",
       "    <tr>\n",
       "      <th rowspan=\"2\" valign=\"top\">ssim</th>\n",
       "      <th>any</th>\n",
       "      <td>0.714286</td>\n",
       "      <td>35</td>\n",
       "    </tr>\n",
       "    <tr>\n",
       "      <th>candidate</th>\n",
       "      <td>0.839286</td>\n",
       "      <td>56</td>\n",
       "    </tr>\n",
       "    <tr>\n",
       "      <th rowspan=\"2\" valign=\"top\">ws</th>\n",
       "      <th>any</th>\n",
       "      <td>0.628571</td>\n",
       "      <td>35</td>\n",
       "    </tr>\n",
       "    <tr>\n",
       "      <th>candidate</th>\n",
       "      <td>0.910714</td>\n",
       "      <td>56</td>\n",
       "    </tr>\n",
       "  </tbody>\n",
       "</table>\n",
       "</div>"
      ],
      "text/plain": [
       "                       mean  count\n",
       "metric token_type                 \n",
       "cos    any         0.742857     35\n",
       "       candidate   0.946429     56\n",
       "kl     any         0.685714     35\n",
       "       candidate   0.892857     56\n",
       "nmi    any         0.342857     35\n",
       "       candidate   0.160714     56\n",
       "nrmse  any         0.657143     35\n",
       "       candidate   0.821429     56\n",
       "ssim   any         0.714286     35\n",
       "       candidate   0.839286     56\n",
       "ws     any         0.628571     35\n",
       "       candidate   0.910714     56"
      ]
     },
     "execution_count": 18,
     "metadata": {},
     "output_type": "execute_result"
    }
   ],
   "source": [
    "tmp_data = acc_data.copy()\n",
    "tmp_data[\"example_more_similar\"] = tmp_data.example_more_similar.replace([1,2], \"1 or 2\")\n",
    "tmp_data[tmp_data.example_more_similar==\"1 or 2\"].groupby([\"metric\", \"token_type\"]).score.agg([\"mean\", \"count\"]) #.agg([\"mean\", \"std\"])"
   ]
  },
  {
   "cell_type": "code",
   "execution_count": 19,
   "id": "77c4e7d7",
   "metadata": {},
   "outputs": [
    {
     "data": {
      "text/html": [
       "<div>\n",
       "<style scoped>\n",
       "    .dataframe tbody tr th:only-of-type {\n",
       "        vertical-align: middle;\n",
       "    }\n",
       "\n",
       "    .dataframe tbody tr th {\n",
       "        vertical-align: top;\n",
       "    }\n",
       "\n",
       "    .dataframe thead th {\n",
       "        text-align: right;\n",
       "    }\n",
       "</style>\n",
       "<table border=\"1\" class=\"dataframe\">\n",
       "  <thead>\n",
       "    <tr style=\"text-align: right;\">\n",
       "      <th></th>\n",
       "      <th></th>\n",
       "      <th>mean</th>\n",
       "      <th>count</th>\n",
       "    </tr>\n",
       "    <tr>\n",
       "      <th>metric</th>\n",
       "      <th>token_type</th>\n",
       "      <th></th>\n",
       "      <th></th>\n",
       "    </tr>\n",
       "  </thead>\n",
       "  <tbody>\n",
       "    <tr>\n",
       "      <th rowspan=\"2\" valign=\"top\">cos</th>\n",
       "      <th>any</th>\n",
       "      <td>0.071429</td>\n",
       "      <td>28</td>\n",
       "    </tr>\n",
       "    <tr>\n",
       "      <th>candidate</th>\n",
       "      <td>0.400000</td>\n",
       "      <td>5</td>\n",
       "    </tr>\n",
       "    <tr>\n",
       "      <th rowspan=\"2\" valign=\"top\">kl</th>\n",
       "      <th>any</th>\n",
       "      <td>0.321429</td>\n",
       "      <td>28</td>\n",
       "    </tr>\n",
       "    <tr>\n",
       "      <th>candidate</th>\n",
       "      <td>0.600000</td>\n",
       "      <td>5</td>\n",
       "    </tr>\n",
       "    <tr>\n",
       "      <th rowspan=\"2\" valign=\"top\">nmi</th>\n",
       "      <th>any</th>\n",
       "      <td>0.285714</td>\n",
       "      <td>28</td>\n",
       "    </tr>\n",
       "    <tr>\n",
       "      <th>candidate</th>\n",
       "      <td>0.200000</td>\n",
       "      <td>5</td>\n",
       "    </tr>\n",
       "    <tr>\n",
       "      <th rowspan=\"2\" valign=\"top\">nrmse</th>\n",
       "      <th>any</th>\n",
       "      <td>0.500000</td>\n",
       "      <td>28</td>\n",
       "    </tr>\n",
       "    <tr>\n",
       "      <th>candidate</th>\n",
       "      <td>0.600000</td>\n",
       "      <td>5</td>\n",
       "    </tr>\n",
       "    <tr>\n",
       "      <th rowspan=\"2\" valign=\"top\">ssim</th>\n",
       "      <th>any</th>\n",
       "      <td>0.500000</td>\n",
       "      <td>28</td>\n",
       "    </tr>\n",
       "    <tr>\n",
       "      <th>candidate</th>\n",
       "      <td>0.800000</td>\n",
       "      <td>5</td>\n",
       "    </tr>\n",
       "    <tr>\n",
       "      <th rowspan=\"2\" valign=\"top\">ws</th>\n",
       "      <th>any</th>\n",
       "      <td>0.035714</td>\n",
       "      <td>28</td>\n",
       "    </tr>\n",
       "    <tr>\n",
       "      <th>candidate</th>\n",
       "      <td>0.400000</td>\n",
       "      <td>5</td>\n",
       "    </tr>\n",
       "  </tbody>\n",
       "</table>\n",
       "</div>"
      ],
      "text/plain": [
       "                       mean  count\n",
       "metric token_type                 \n",
       "cos    any         0.071429     28\n",
       "       candidate   0.400000      5\n",
       "kl     any         0.321429     28\n",
       "       candidate   0.600000      5\n",
       "nmi    any         0.285714     28\n",
       "       candidate   0.200000      5\n",
       "nrmse  any         0.500000     28\n",
       "       candidate   0.600000      5\n",
       "ssim   any         0.500000     28\n",
       "       candidate   0.800000      5\n",
       "ws     any         0.035714     28\n",
       "       candidate   0.400000      5"
      ]
     },
     "execution_count": 19,
     "metadata": {},
     "output_type": "execute_result"
    }
   ],
   "source": [
    "tmp_data[tmp_data.example_more_similar==0].groupby([\"metric\", \"token_type\"]).score.agg([\"mean\", \"count\"]) #.agg([\"mean\", \"std\"])"
   ]
  },
  {
   "cell_type": "code",
   "execution_count": 20,
   "id": "e567336a",
   "metadata": {},
   "outputs": [
    {
     "data": {
      "text/html": [
       "<div>\n",
       "<style scoped>\n",
       "    .dataframe tbody tr th:only-of-type {\n",
       "        vertical-align: middle;\n",
       "    }\n",
       "\n",
       "    .dataframe tbody tr th {\n",
       "        vertical-align: top;\n",
       "    }\n",
       "\n",
       "    .dataframe thead th {\n",
       "        text-align: right;\n",
       "    }\n",
       "</style>\n",
       "<table border=\"1\" class=\"dataframe\">\n",
       "  <thead>\n",
       "    <tr style=\"text-align: right;\">\n",
       "      <th></th>\n",
       "      <th></th>\n",
       "      <th>mean</th>\n",
       "      <th>count</th>\n",
       "    </tr>\n",
       "    <tr>\n",
       "      <th>metric</th>\n",
       "      <th>token_type</th>\n",
       "      <th></th>\n",
       "      <th></th>\n",
       "    </tr>\n",
       "  </thead>\n",
       "  <tbody>\n",
       "    <tr>\n",
       "      <th rowspan=\"2\" valign=\"top\">cos</th>\n",
       "      <th>any</th>\n",
       "      <td>0.787879</td>\n",
       "      <td>33</td>\n",
       "    </tr>\n",
       "    <tr>\n",
       "      <th>candidate</th>\n",
       "      <td>0.809524</td>\n",
       "      <td>42</td>\n",
       "    </tr>\n",
       "    <tr>\n",
       "      <th rowspan=\"2\" valign=\"top\">kl</th>\n",
       "      <th>any</th>\n",
       "      <td>0.757576</td>\n",
       "      <td>33</td>\n",
       "    </tr>\n",
       "    <tr>\n",
       "      <th>candidate</th>\n",
       "      <td>0.880952</td>\n",
       "      <td>42</td>\n",
       "    </tr>\n",
       "    <tr>\n",
       "      <th rowspan=\"2\" valign=\"top\">nmi</th>\n",
       "      <th>any</th>\n",
       "      <td>1.000000</td>\n",
       "      <td>33</td>\n",
       "    </tr>\n",
       "    <tr>\n",
       "      <th>candidate</th>\n",
       "      <td>1.000000</td>\n",
       "      <td>42</td>\n",
       "    </tr>\n",
       "    <tr>\n",
       "      <th rowspan=\"2\" valign=\"top\">nrmse</th>\n",
       "      <th>any</th>\n",
       "      <td>0.757576</td>\n",
       "      <td>33</td>\n",
       "    </tr>\n",
       "    <tr>\n",
       "      <th>candidate</th>\n",
       "      <td>0.928571</td>\n",
       "      <td>42</td>\n",
       "    </tr>\n",
       "    <tr>\n",
       "      <th rowspan=\"2\" valign=\"top\">ssim</th>\n",
       "      <th>any</th>\n",
       "      <td>0.545455</td>\n",
       "      <td>33</td>\n",
       "    </tr>\n",
       "    <tr>\n",
       "      <th>candidate</th>\n",
       "      <td>0.666667</td>\n",
       "      <td>42</td>\n",
       "    </tr>\n",
       "    <tr>\n",
       "      <th rowspan=\"2\" valign=\"top\">ws</th>\n",
       "      <th>any</th>\n",
       "      <td>0.878788</td>\n",
       "      <td>33</td>\n",
       "    </tr>\n",
       "    <tr>\n",
       "      <th>candidate</th>\n",
       "      <td>0.928571</td>\n",
       "      <td>42</td>\n",
       "    </tr>\n",
       "  </tbody>\n",
       "</table>\n",
       "</div>"
      ],
      "text/plain": [
       "                       mean  count\n",
       "metric token_type                 \n",
       "cos    any         0.787879     33\n",
       "       candidate   0.809524     42\n",
       "kl     any         0.757576     33\n",
       "       candidate   0.880952     42\n",
       "nmi    any         1.000000     33\n",
       "       candidate   1.000000     42\n",
       "nrmse  any         0.757576     33\n",
       "       candidate   0.928571     42\n",
       "ssim   any         0.545455     33\n",
       "       candidate   0.666667     42\n",
       "ws     any         0.878788     33\n",
       "       candidate   0.928571     42"
      ]
     },
     "execution_count": 20,
     "metadata": {},
     "output_type": "execute_result"
    }
   ],
   "source": [
    "tmp_data[tmp_data.example_more_similar==3].groupby([\"metric\", \"token_type\"]).score.agg([\"mean\", \"count\"]) #.agg([\"mean\", \"std\"])"
   ]
  },
  {
   "cell_type": "markdown",
   "id": "39c35bed",
   "metadata": {},
   "source": [
    "## Measure metrics across different annotated labels"
   ]
  },
  {
   "cell_type": "code",
   "execution_count": 62,
   "id": "724de5b7",
   "metadata": {},
   "outputs": [],
   "source": [
    "tmp_data = acc_data.copy()\n",
    "#tmp_data[\"example_more_similar\"] = tmp_data.example_more_similar.replace([1,2], \"1 or 2\")"
   ]
  },
  {
   "cell_type": "markdown",
   "id": "b494d37e",
   "metadata": {},
   "source": [
    "For 0 label (none similar)"
   ]
  },
  {
   "cell_type": "code",
   "execution_count": 42,
   "id": "6b9e0fa6",
   "metadata": {},
   "outputs": [
    {
     "data": {
      "text/plain": [
       "0.97367414525577"
      ]
     },
     "execution_count": 42,
     "metadata": {},
     "output_type": "execute_result"
    }
   ],
   "source": [
    "1-tmp_data[(tmp_data.example_more_similar==0) & (tmp_data.metric==\"cos\") & (tmp_data.token_type==\"candidate\")][[\"ex1\",\"ex2\"]].mean().mean() #.agg([\"mean\", \"std\"])"
   ]
  },
  {
   "cell_type": "code",
   "execution_count": 55,
   "id": "33a7e6b7",
   "metadata": {},
   "outputs": [
    {
     "data": {
      "text/plain": [
       "0.01973091035465779"
      ]
     },
     "execution_count": 55,
     "metadata": {},
     "output_type": "execute_result"
    }
   ],
   "source": [
    "tmp_data[(tmp_data.example_more_similar==0) & (tmp_data.metric==\"cos\") & (tmp_data.token_type==\"candidate\")][[\"ex1\",\"ex2\"]].std().mean() #.agg([\"mean\", \"std\"])"
   ]
  },
  {
   "cell_type": "markdown",
   "id": "422c12de",
   "metadata": {},
   "source": [
    "For 1 or 2 label"
   ]
  },
  {
   "cell_type": "code",
   "execution_count": 47,
   "id": "4507b4b7",
   "metadata": {},
   "outputs": [
    {
     "data": {
      "text/plain": [
       "0.9758833419861032"
      ]
     },
     "execution_count": 47,
     "metadata": {},
     "output_type": "execute_result"
    }
   ],
   "source": [
    "1-tmp_data[(tmp_data.example_more_similar==\"1 or 2\") & (tmp_data.metric==\"cos\") & (tmp_data.token_type==\"candidate\")][[\"ex1\",\"ex2\"]].mean().mean() #.agg([\"mean\", \"std\"])"
   ]
  },
  {
   "cell_type": "code",
   "execution_count": 57,
   "id": "c67af297",
   "metadata": {},
   "outputs": [
    {
     "data": {
      "text/plain": [
       "0.03121260390966916"
      ]
     },
     "execution_count": 57,
     "metadata": {},
     "output_type": "execute_result"
    }
   ],
   "source": [
    "(1-tmp_data[(tmp_data.example_more_similar==\"1 or 2\") & (tmp_data.metric==\"cos\") & (tmp_data.token_type==\"candidate\")][[\"ex1\",\"ex2\"]]).std().mean()"
   ]
  },
  {
   "cell_type": "code",
   "execution_count": 66,
   "id": "49a3c3ac",
   "metadata": {},
   "outputs": [],
   "source": [
    "more_similar_dist = tmp_data[(tmp_data.example_more_similar.isin([1,2])) & (tmp_data.metric==\"cos\") & (tmp_data.token_type==\"candidate\")].apply(lambda row: row[f\"ex{str(row.example_more_similar)}\"], axis=1)\n",
    "less_similar_dist = tmp_data[(tmp_data.example_more_similar.isin([1,2])) & (tmp_data.metric==\"cos\") & (tmp_data.token_type==\"candidate\")].apply(lambda row: row[f\"ex{str(1 if row.example_more_similar==2 else 2)}\"], axis=1)"
   ]
  },
  {
   "cell_type": "code",
   "execution_count": 70,
   "id": "f10e95e4",
   "metadata": {},
   "outputs": [
    {
     "data": {
      "text/plain": [
       "0.9865833797853212"
      ]
     },
     "execution_count": 70,
     "metadata": {},
     "output_type": "execute_result"
    }
   ],
   "source": [
    "1-more_similar_dist.mean()"
   ]
  },
  {
   "cell_type": "code",
   "execution_count": 73,
   "id": "76e1ec78",
   "metadata": {},
   "outputs": [
    {
     "data": {
      "text/plain": [
       "0.02339890059583658"
      ]
     },
     "execution_count": 73,
     "metadata": {},
     "output_type": "execute_result"
    }
   ],
   "source": [
    "more_similar_dist.std()"
   ]
  },
  {
   "cell_type": "code",
   "execution_count": 71,
   "id": "f57192d6",
   "metadata": {},
   "outputs": [
    {
     "data": {
      "text/plain": [
       "0.965183304186885"
      ]
     },
     "execution_count": 71,
     "metadata": {},
     "output_type": "execute_result"
    }
   ],
   "source": [
    "1-less_similar_dist.mean()"
   ]
  },
  {
   "cell_type": "code",
   "execution_count": 72,
   "id": "eacbb606",
   "metadata": {},
   "outputs": [
    {
     "data": {
      "text/plain": [
       "0.03569417734819922"
      ]
     },
     "execution_count": 72,
     "metadata": {},
     "output_type": "execute_result"
    }
   ],
   "source": [
    "less_similar_dist.std()"
   ]
  },
  {
   "cell_type": "markdown",
   "id": "65bc5d29",
   "metadata": {},
   "source": [
    "For 3 label (both equally similar)"
   ]
  },
  {
   "cell_type": "code",
   "execution_count": 48,
   "id": "b186e1ce",
   "metadata": {},
   "outputs": [
    {
     "data": {
      "text/plain": [
       "0.9842481930678935"
      ]
     },
     "execution_count": 48,
     "metadata": {},
     "output_type": "execute_result"
    }
   ],
   "source": [
    "1-tmp_data[(tmp_data.example_more_similar==3) & (tmp_data.metric==\"cos\") & (tmp_data.token_type==\"candidate\")][[\"ex1\",\"ex2\"]].mean().mean() #.agg([\"mean\", \"std\"])"
   ]
  },
  {
   "cell_type": "code",
   "execution_count": 51,
   "id": "84dfa194",
   "metadata": {},
   "outputs": [
    {
     "data": {
      "text/plain": [
       "0.01629056215975238"
      ]
     },
     "execution_count": 51,
     "metadata": {},
     "output_type": "execute_result"
    }
   ],
   "source": [
    "tmp_data[(tmp_data.example_more_similar==3) & (tmp_data.metric==\"cos\") & (tmp_data.token_type==\"candidate\")][[\"ex1\",\"ex2\"]].std().mean() #.agg([\"mean\", \"std\"])"
   ]
  },
  {
   "cell_type": "markdown",
   "id": "cd94ca45",
   "metadata": {},
   "source": [
    "For all labels"
   ]
  },
  {
   "cell_type": "code",
   "execution_count": 52,
   "id": "644a8180",
   "metadata": {},
   "outputs": [
    {
     "data": {
      "text/plain": [
       "0.025988484332879036"
      ]
     },
     "execution_count": 52,
     "metadata": {},
     "output_type": "execute_result"
    }
   ],
   "source": [
    "tmp_data[(tmp_data.metric==\"cos\") & (tmp_data.token_type==\"candidate\")][[\"ex1\",\"ex2\"]].std().mean()"
   ]
  },
  {
   "cell_type": "code",
   "execution_count": 54,
   "id": "2cddab1d",
   "metadata": {},
   "outputs": [
    {
     "data": {
      "text/plain": [
       "0.9791870095762345"
      ]
     },
     "execution_count": 54,
     "metadata": {},
     "output_type": "execute_result"
    }
   ],
   "source": [
    "1-tmp_data[(tmp_data.metric==\"cos\") & (tmp_data.token_type==\"candidate\")][[\"ex1\",\"ex2\"]].mean().mean()"
   ]
  },
  {
   "cell_type": "markdown",
   "id": "bcf26681",
   "metadata": {},
   "source": [
    "### Error cases"
   ]
  },
  {
   "cell_type": "code",
   "execution_count": 24,
   "id": "1c8581ce",
   "metadata": {},
   "outputs": [
    {
     "ename": "AttributeError",
     "evalue": "'DataFrame' object has no attribute 'cos_dist_score'",
     "output_type": "error",
     "traceback": [
      "\u001b[0;31m---------------------------------------------------------------------------\u001b[0m",
      "\u001b[0;31mAttributeError\u001b[0m                            Traceback (most recent call last)",
      "Input \u001b[0;32mIn [24]\u001b[0m, in \u001b[0;36m<module>\u001b[0;34m\u001b[0m\n\u001b[1;32m      1\u001b[0m tmp_data \u001b[38;5;241m=\u001b[39m acc_data[acc_data\u001b[38;5;241m.\u001b[39mexample_more_similar\u001b[38;5;241m.\u001b[39misin([\u001b[38;5;241m1\u001b[39m,\u001b[38;5;241m2\u001b[39m])]\u001b[38;5;241m.\u001b[39mcopy()\n\u001b[0;32m----> 2\u001b[0m cos_dist_error_ix \u001b[38;5;241m=\u001b[39m \u001b[38;5;28mset\u001b[39m(tmp_data[\u001b[43mtmp_data\u001b[49m\u001b[38;5;241;43m.\u001b[39;49m\u001b[43mcos_dist_score\u001b[49m\u001b[38;5;241m==\u001b[39m\u001b[38;5;241m0\u001b[39m]\u001b[38;5;241m.\u001b[39mindex)\n\u001b[1;32m      3\u001b[0m ws_dist_error_ix \u001b[38;5;241m=\u001b[39m \u001b[38;5;28mset\u001b[39m(tmp_data[tmp_data\u001b[38;5;241m.\u001b[39mws_dist_score\u001b[38;5;241m==\u001b[39m\u001b[38;5;241m0\u001b[39m]\u001b[38;5;241m.\u001b[39mindex)\n\u001b[1;32m      4\u001b[0m kl_dist_error_ix \u001b[38;5;241m=\u001b[39m \u001b[38;5;28mset\u001b[39m(tmp_data[tmp_data\u001b[38;5;241m.\u001b[39mkl_dist_score\u001b[38;5;241m==\u001b[39m\u001b[38;5;241m0\u001b[39m]\u001b[38;5;241m.\u001b[39mindex)\n",
      "File \u001b[0;32m/apps/Arch/software/SciPy-bundle/2021.05-foss-2021a/lib/python3.9/site-packages/pandas/core/generic.py:5465\u001b[0m, in \u001b[0;36mNDFrame.__getattr__\u001b[0;34m(self, name)\u001b[0m\n\u001b[1;32m   5463\u001b[0m \u001b[38;5;28;01mif\u001b[39;00m \u001b[38;5;28mself\u001b[39m\u001b[38;5;241m.\u001b[39m_info_axis\u001b[38;5;241m.\u001b[39m_can_hold_identifiers_and_holds_name(name):\n\u001b[1;32m   5464\u001b[0m     \u001b[38;5;28;01mreturn\u001b[39;00m \u001b[38;5;28mself\u001b[39m[name]\n\u001b[0;32m-> 5465\u001b[0m \u001b[38;5;28;01mreturn\u001b[39;00m \u001b[38;5;28;43mobject\u001b[39;49m\u001b[38;5;241;43m.\u001b[39;49m\u001b[38;5;21;43m__getattribute__\u001b[39;49m\u001b[43m(\u001b[49m\u001b[38;5;28;43mself\u001b[39;49m\u001b[43m,\u001b[49m\u001b[43m \u001b[49m\u001b[43mname\u001b[49m\u001b[43m)\u001b[49m\n",
      "\u001b[0;31mAttributeError\u001b[0m: 'DataFrame' object has no attribute 'cos_dist_score'"
     ]
    }
   ],
   "source": [
    "tmp_data = acc_data[acc_data.example_more_similar.isin([1,2])].copy()\n",
    "cos_dist_error_ix = set(tmp_data[tmp_data.cos_dist_score==0].index)\n",
    "ws_dist_error_ix = set(tmp_data[tmp_data.ws_dist_score==0].index)\n",
    "kl_dist_error_ix = set(tmp_data[tmp_data.kl_dist_score==0].index)\n",
    "\n",
    "common_error_ix = (cos_dist_error_ix.intersection(ws_dist_error_ix).union(\n",
    "    cos_dist_error_ix.intersection(kl_dist_error_ix).union(\n",
    "        ws_dist_error_ix.intersection(kl_dist_error_ix)))\n",
    "                  )\n",
    "print(f\"There are {len(common_error_ix)} common error cases.\")\n",
    "print(f\"Total number of samples is {len(tmp_data)}.\")"
   ]
  },
  {
   "cell_type": "code",
   "execution_count": null,
   "id": "0b32b18d",
   "metadata": {},
   "outputs": [],
   "source": [
    "len(cos_dist_error_ix)"
   ]
  },
  {
   "cell_type": "code",
   "execution_count": null,
   "id": "5058f1ae",
   "metadata": {},
   "outputs": [],
   "source": [
    "len(ws_dist_error_ix)"
   ]
  },
  {
   "cell_type": "code",
   "execution_count": null,
   "id": "aa11e39d",
   "metadata": {},
   "outputs": [],
   "source": [
    "len(kl_dist_error_ix)"
   ]
  },
  {
   "cell_type": "code",
   "execution_count": null,
   "id": "df3cef20",
   "metadata": {},
   "outputs": [],
   "source": [
    "common_error_ix"
   ]
  },
  {
   "cell_type": "code",
   "execution_count": null,
   "id": "06c1867a",
   "metadata": {},
   "outputs": [],
   "source": [
    "cos_dist_error_ix-common_error_ix"
   ]
  },
  {
   "cell_type": "code",
   "execution_count": null,
   "id": "e32b2db7",
   "metadata": {},
   "outputs": [],
   "source": [
    "ws_dist_error_ix-common_error_ix"
   ]
  },
  {
   "cell_type": "code",
   "execution_count": null,
   "id": "f07f9ae6",
   "metadata": {},
   "outputs": [],
   "source": [
    "kl_dist_error_ix-common_error_ix"
   ]
  },
  {
   "cell_type": "markdown",
   "id": "fbba8fa9",
   "metadata": {},
   "source": [
    "## Plot error cases"
   ]
  },
  {
   "cell_type": "code",
   "execution_count": null,
   "id": "3ae2ed01",
   "metadata": {},
   "outputs": [],
   "source": [
    "def plot_trace_heatmap_from_values(differences, low_score, high_score, answer, kind, window, labels, ax,\n",
    "                                   savepdf, title, xlabel, modelname):\n",
    "    with plt.rc_context():\n",
    "        #fig, ax = plt.subplots(figsize=(3.5, 2), dpi=200)\n",
    "        h = ax.pcolor(\n",
    "            differences,\n",
    "            cmap={None: \"Purples\", \"None\": \"Purples\", \"mlp\": \"Greens\", \"attn\": \"Reds\"}[\n",
    "                kind\n",
    "            ],\n",
    "            vmin=low_score,\n",
    "            vmax=high_score\n",
    "        )\n",
    "        ax.invert_yaxis()\n",
    "        ax.set_yticks([0.5 + i for i in range(len(differences))])\n",
    "        ax.set_xticks([0.5 + i for i in range(0, differences.shape[1] - 6, 5)])\n",
    "        ax.set_xticklabels(list(range(0, differences.shape[1] - 6, 5)))\n",
    "        ax.set_yticklabels(labels, fontsize=8)\n",
    "        cb = plt.colorbar(h, ax=ax)\n",
    "        cb.ax.tick_params(labelsize=8)\n",
    "        if title is not None:\n",
    "            ax.set_title(title)\n",
    "        if xlabel is not None:\n",
    "            ax.set_xlabel(xlabel)\n",
    "        elif answer is not None:\n",
    "            # The following should be cb.ax.set_xlabel, but this is broken in matplotlib 3.5.1.\n",
    "            cb.ax.set_title(f\"p({str(answer).strip()})\", y=-0.16, fontsize=8)\n",
    "        if savepdf:\n",
    "            os.makedirs(os.path.dirname(savepdf), exist_ok=True)\n",
    "            plt.savefig(savepdf, bbox_inches=\"tight\")\n",
    "            plt.close()\n",
    "        #else:\n",
    "        #    plt.show()\n",
    "            \n",
    "def plot_trace_heatmap(result, ax, savepdf=None, title=None, xlabel=None, modelname=None):\n",
    "    differences = result[\"scores\"]\n",
    "    low_score = result[\"low_score\"]\n",
    "    high_score = None #result[\"high_score\"]\n",
    "    answer = result[\"answer\"]\n",
    "    kind = (\n",
    "        None\n",
    "        if (not result[\"kind\"] or result[\"kind\"] == \"None\")\n",
    "        else str(result[\"kind\"])\n",
    "    )\n",
    "    window = result.get(\"window\", 10)\n",
    "    labels = list(result[\"input_tokens\"])\n",
    "    for i in range(*result[\"subject_range\"]):\n",
    "        labels[i] = labels[i] + \"*\"\n",
    "\n",
    "    plot_trace_heatmap_from_values(differences, low_score, high_score, answer, kind, window, labels, ax,\n",
    "                                   savepdf, title, xlabel, modelname)\n",
    " "
   ]
  },
  {
   "cell_type": "code",
   "execution_count": null,
   "id": "136bd2d4",
   "metadata": {
    "scrolled": false
   },
   "outputs": [],
   "source": [
    "ix = 4\n",
    "row = acc_data.loc[ix]\n",
    "print(\"=========================================================================================================\")\n",
    "print(f\"SAMPLE {ix} - Example {row.example_more_similar} more similar\")\n",
    "print(\"=========================================================================================================\")\n",
    "\n",
    "if row.token_type == \"any\":\n",
    "    token_ix = 0\n",
    "    answer = queries.loc[row.lama_ix][\"top10_tokens\"][token_ix]\n",
    "elif row.token_type == \"candidate\":\n",
    "    answer = queries.loc[row.lama_ix][\"candidate_prediction\"]\n",
    "    token_ix = queries.loc[row.lama_ix][\"top10_tokens\"].index(answer)\n",
    "\n",
    "if row.lama_ix < results1_subj_limit:\n",
    "    results_folder = results_folders[0]\n",
    "else:\n",
    "    results_folder = results_folders[1]\n",
    "results_lama = np.load(os.path.join(results_folder, f\"cases/{row.lama_ix}_any_mlp.npz\"), allow_pickle=True)\n",
    "\n",
    "for ix, sample_ix in enumerate([row.sample_ix_1, row.sample_ix_2]):\n",
    "    cos_correct = \"✅\" if row.cos_dist_score==1 else \"❌\"\n",
    "    cos_str = f\"cos_dist_ex{ix+1}\"\n",
    "    ws_correct = \"✅\" if row.ws_dist_score==1 else \"❌\"\n",
    "    ws_str = f\"ws_dist_ex{ix+1}\"\n",
    "    kl_correct = \"✅\" if row.kl_dist_score==1 else \"❌\"\n",
    "    kl_str = f\"kl_dist_ex{ix+1}\"\n",
    "    print(\"---------------------------------------------------------------------------------------------------------\")\n",
    "    print(f\"Example {ix+1} (top {row.token_type} token) cos dist: {row[cos_str]:.4f}{cos_correct}, ws dist: {row[ws_str]:.5f}{ws_correct}, kl dist: {row[kl_str]:.4f}{kl_correct}\")\n",
    "    print(\"---------------------------------------------------------------------------------------------------------\")\n",
    "\n",
    "    proc_results_lama = get_results_for_token_ix(results_lama, token_ix, answer)\n",
    "    proc_results_lama = get_results_for_subject(proc_results_lama)\n",
    "    \n",
    "    if sample_ix < results1_subj_limit:\n",
    "        results_folder = results_folders[0]\n",
    "    else:\n",
    "        results_folder = results_folders[1]\n",
    "    results = np.load(os.path.join(results_folder, f\"cases/{sample_ix}_any_mlp.npz\"), allow_pickle=True)\n",
    "    results = get_results_for_token_ix(results, token_ix, answer)\n",
    "    results = get_results_for_subject(results)\n",
    "    \n",
    "    fig, axs = plt.subplots(1, 2, figsize=(8, 2), dpi=140)\n",
    "    plot_trace_heatmap(proc_results_lama, axs[0])\n",
    "    axs[0].set_title(queries.iloc[row.lama_ix].prompt)\n",
    "    axs[0].title.set_size(10)\n",
    "    plot_trace_heatmap(results, axs[1])\n",
    "    axs[1].set_title(queries.iloc[sample_ix].prompt)\n",
    "    axs[1].title.set_size(10)\n",
    "    plt.show()"
   ]
  },
  {
   "cell_type": "markdown",
   "id": "4227e1f6",
   "metadata": {},
   "source": [
    "## Further investigations"
   ]
  },
  {
   "cell_type": "markdown",
   "id": "1a741249",
   "metadata": {},
   "source": [
    "### Histograms"
   ]
  },
  {
   "cell_type": "code",
   "execution_count": null,
   "id": "0a030127",
   "metadata": {},
   "outputs": [],
   "source": [
    "annotated_data.cos_dist_ex1.hist()\n",
    "plt.show()"
   ]
  },
  {
   "cell_type": "code",
   "execution_count": null,
   "id": "c4b5a30e",
   "metadata": {},
   "outputs": [],
   "source": [
    "annotated_data.ws_dist_ex1.hist()\n",
    "plt.show()"
   ]
  },
  {
   "cell_type": "code",
   "execution_count": null,
   "id": "9d1d0451",
   "metadata": {},
   "outputs": [],
   "source": [
    "annotated_data.kl_dist_ex1.hist()\n",
    "plt.show()"
   ]
  },
  {
   "cell_type": "markdown",
   "id": "66f3b76d",
   "metadata": {},
   "source": [
    "### Score correlations"
   ]
  },
  {
   "cell_type": "code",
   "execution_count": null,
   "id": "44c956e7",
   "metadata": {},
   "outputs": [],
   "source": [
    "annotated_data[[\"cos_dist_ex1\", \"ws_dist_ex1\", \"kl_dist_ex1\"]].corr()"
   ]
  },
  {
   "cell_type": "code",
   "execution_count": null,
   "id": "f5e63641",
   "metadata": {},
   "outputs": [],
   "source": [
    "annotated_data[[\"cos_dist_ex2\", \"ws_dist_ex2\", \"kl_dist_ex2\"]].corr()"
   ]
  },
  {
   "cell_type": "markdown",
   "id": "37816ebc",
   "metadata": {},
   "source": [
    "### Correlation with annotations"
   ]
  },
  {
   "cell_type": "markdown",
   "id": "ec9941e1",
   "metadata": {},
   "source": [
    "Get distance differences for pairs."
   ]
  },
  {
   "cell_type": "code",
   "execution_count": null,
   "id": "9e8a6d4e",
   "metadata": {},
   "outputs": [],
   "source": [
    "dist_dict = {\"cos\": [\"cos_dist_ex1\", \"cos_dist_ex2\"], \n",
    "             \"ws\": [\"ws_dist_ex1\", \"ws_dist_ex2\"], \n",
    "             \"kl\": [\"kl_dist_ex1\", \"kl_dist_ex2\"]\n",
    "            }\n",
    "data = annotated_data.copy()\n",
    "for key, value in dist_dict.items():\n",
    "    data[f\"{key}_dist_diff\"] = data[value[0]]-data[value[1]]\n",
    "data"
   ]
  },
  {
   "cell_type": "markdown",
   "id": "34cc61a5",
   "metadata": {},
   "source": [
    "Get correlations for 1 and 2 annotations."
   ]
  },
  {
   "cell_type": "code",
   "execution_count": null,
   "id": "2dcc4f51",
   "metadata": {},
   "outputs": [],
   "source": [
    "sub_data = data[data.example_more_similar.isin([1, 2])].copy()\n",
    "sub_data[\"ex1_more_similar\"] = sub_data[\"example_more_similar\"].replace(2, 0)\n",
    "sub_data[sub_data.token_type==\"candidate\"][[f\"{key}_dist_diff\" for key in dist_dict.keys()]+[\"ex1_more_similar\"]].corr()"
   ]
  },
  {
   "cell_type": "code",
   "execution_count": null,
   "id": "4fc9679e",
   "metadata": {},
   "outputs": [],
   "source": [
    "sub_data[sub_data.token_type==\"any\"][[f\"{key}_dist_diff\" for key in dist_dict.keys()]+[\"ex1_more_similar\"]].corr()"
   ]
  },
  {
   "cell_type": "markdown",
   "id": "a0b23f75",
   "metadata": {},
   "source": [
    "Also check cases for which the samples are both very dissimilar, or equally similar/dissimilar to LAMA"
   ]
  },
  {
   "cell_type": "code",
   "execution_count": null,
   "id": "ac034e7f",
   "metadata": {},
   "outputs": [],
   "source": [
    "data.example_more_similar.value_counts()"
   ]
  },
  {
   "cell_type": "code",
   "execution_count": null,
   "id": "83bd3a66",
   "metadata": {},
   "outputs": [],
   "source": [
    "data.groupby([\"token_type\", \"example_more_similar\"]).agg({\"cos_dist_diff\": [\"mean\",\"std\"], \n",
    "                                                          \"ws_dist_diff\": [\"mean\",\"std\"], \n",
    "                                                          \"kl_dist_diff\": [\"mean\",\"std\"]})"
   ]
  },
  {
   "cell_type": "code",
   "execution_count": null,
   "id": "5fa70d3d",
   "metadata": {},
   "outputs": [],
   "source": [
    "data.groupby([\"token_type\", \"example_more_similar\"]).agg({\"cos_dist_ex1\": [\"mean\",\"std\"], \n",
    "                                                          \"ws_dist_ex1\": [\"mean\",\"std\"],\n",
    "                                                          \"kl_dist_ex1\": [\"mean\",\"std\"]})"
   ]
  }
 ],
 "metadata": {
  "kernelspec": {
   "display_name": "Python 3 (ipykernel)",
   "language": "python",
   "name": "python3"
  },
  "language_info": {
   "codemirror_mode": {
    "name": "ipython",
    "version": 3
   },
   "file_extension": ".py",
   "mimetype": "text/x-python",
   "name": "python",
   "nbconvert_exporter": "python",
   "pygments_lexer": "ipython3",
   "version": "3.9.5"
  }
 },
 "nbformat": 4,
 "nbformat_minor": 5
}
