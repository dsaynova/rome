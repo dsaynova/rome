{
 "cells": [
  {
   "cell_type": "markdown",
   "id": "8b32ce6f",
   "metadata": {},
   "source": [
    "# Get accuracy and consistency \n",
    "For GPT2-XL, LLaMA and Atlas-base."
   ]
  },
  {
   "cell_type": "code",
   "execution_count": 4,
   "id": "cae89740",
   "metadata": {},
   "outputs": [],
   "source": [
    "import json\n",
    "import pandas as pd\n",
    "import numpy as np\n",
    "from matplotlib import pyplot as plt\n",
    "import seaborn as sns\n",
    "import os\n",
    "import math\n",
    "\n",
    "from experiments.causal_trace import plot_trace_heatmap"
   ]
  },
  {
   "cell_type": "markdown",
   "id": "4cbf99ca",
   "metadata": {},
   "source": [
    "## Load the data"
   ]
  },
  {
   "cell_type": "code",
   "execution_count": 55,
   "id": "8070e914",
   "metadata": {},
   "outputs": [],
   "source": [
    "relations = [\"P19\", \"P20\", \"P27\", \"P101\", \"P495\", \"740\", \"P1376\"]"
   ]
  },
  {
   "cell_type": "markdown",
   "id": "30b4e946",
   "metadata": {},
   "source": [
    "### GPT-2 XL and LLaMA-7B"
   ]
  },
  {
   "cell_type": "code",
   "execution_count": null,
   "id": "45f2f005",
   "metadata": {},
   "outputs": [],
   "source": [
    "data = pd.DataFrame()\n",
    "\n",
    "# read gpt2 preds\n",
    "for relation in relations:\n",
    "    with open(f\"/cephyr/users/lovhag/Alvis/projects/rome/data/{relation}_gpt2_xl_preds.jsonl\") as f:\n",
    "        for line in f:\n",
    "            tmp_line = json.loads(line)\n",
    "            tmp_line[\"model\"] = \"gpt2\"\n",
    "            tmp_line[\"relation\"] = relation\n",
    "            data = data.append(tmp_line, ignore_index=True)\n",
    "            \n",
    "# read llama preds\n",
    "for relation in relations:\n",
    "    with open(f\"/cephyr/users/lovhag/Alvis/projects/rome/data/results/llama7B/{relation}_Llama_2_7b_hf_preds.jsonl\") as f:\n",
    "        for line in f:\n",
    "            tmp_line = json.loads(line)\n",
    "            tmp_line[\"model\"] = \"llama7b\"\n",
    "            tmp_line[\"relation\"] = relation\n",
    "            data = data.append(tmp_line, ignore_index=True)\n",
    "        \n",
    "data.head()"
   ]
  },
  {
   "cell_type": "markdown",
   "id": "49424139",
   "metadata": {},
   "source": [
    "### Atlas-base\n",
    "Only read the results for which the templates are compatible with ARMs.\n",
    "\n",
    "> Comment: We could also load results with confidences given, but these are only across the options and not comparable to the confidences of GPT2-XL or LLaMA."
   ]
  },
  {
   "cell_type": "code",
   "execution_count": 12,
   "id": "16fd58b0",
   "metadata": {},
   "outputs": [],
   "source": [
    "def template_ends_with_mask(template):\n",
    "    return template.replace(\".\",\"\").strip()[-3:]==\"[Y]\""
   ]
  },
  {
   "cell_type": "code",
   "execution_count": 58,
   "id": "f559a93e",
   "metadata": {},
   "outputs": [],
   "source": [
    "atlas_base_results_folder = \"/cephyr/users/lovhag/Alvis/projects/atlas/data/experiments/pararel-eval-zero-shot-base-no-space-likelihood-no-eos-with-3\"\n",
    "atlas_base_files = {\"P19\": os.path.join(atlas_base_results_folder, \"P19-base-2017-1115963/P19-step-0.jsonl\"),\n",
    "                    \"P20\": os.path.join(atlas_base_results_folder, \"P20-base-2017-1115971/P20-step-0.jsonl\"),\n",
    "                    \"P27\": os.path.join(atlas_base_results_folder, \"P27-base-2017-1115970/P27-step-0.jsonl\"),\n",
    "                    \"P101\": os.path.join(atlas_base_results_folder, \"P101-base-2017-1115964/P101-step-0.jsonl\"),\n",
    "                    \"P495\": os.path.join(atlas_base_results_folder, \"P495-base-2017-1115952/P495-step-0.jsonl\"),\n",
    "                    \"P740\": os.path.join(atlas_base_results_folder, \"P740-base-2017-1115956/P740-step-0.jsonl\"),\n",
    "                    \"P1376\": os.path.join(atlas_base_results_folder, \"P1376-base-2017-1115967/P1376-step-0.jsonl\")\n",
    "                    }"
   ]
  },
  {
   "cell_type": "code",
   "execution_count": 59,
   "id": "ef3124b2",
   "metadata": {},
   "outputs": [
    {
     "data": {
      "text/html": [
       "<div>\n",
       "<style scoped>\n",
       "    .dataframe tbody tr th:only-of-type {\n",
       "        vertical-align: middle;\n",
       "    }\n",
       "\n",
       "    .dataframe tbody tr th {\n",
       "        vertical-align: top;\n",
       "    }\n",
       "\n",
       "    .dataframe thead th {\n",
       "        text-align: right;\n",
       "    }\n",
       "</style>\n",
       "<table border=\"1\" class=\"dataframe\">\n",
       "  <thead>\n",
       "    <tr style=\"text-align: right;\">\n",
       "      <th></th>\n",
       "      <th>attribute</th>\n",
       "      <th>prediction</th>\n",
       "      <th>candidate_prediction</th>\n",
       "      <th>template</th>\n",
       "      <th>prompt</th>\n",
       "      <th>subject</th>\n",
       "    </tr>\n",
       "  </thead>\n",
       "  <tbody>\n",
       "    <tr>\n",
       "      <th>0</th>\n",
       "      <td>French</td>\n",
       "      <td>French French French. The French language -Jules</td>\n",
       "      <td>French</td>\n",
       "      <td>The native language of {} is</td>\n",
       "      <td>The native language of Louis Jules Trochu is</td>\n",
       "      <td>Louis Jules Trochu</td>\n",
       "    </tr>\n",
       "    <tr>\n",
       "      <th>1</th>\n",
       "      <td>French</td>\n",
       "      <td>French Italian French. She is Italian -French ...</td>\n",
       "      <td>French</td>\n",
       "      <td>The native language of {} is</td>\n",
       "      <td>The native language of Valeria Bruni Tedeschi is</td>\n",
       "      <td>Valeria Bruni Tedeschi</td>\n",
       "    </tr>\n",
       "    <tr>\n",
       "      <th>2</th>\n",
       "      <td>French</td>\n",
       "      <td>French French French. The French language Jacq...</td>\n",
       "      <td>French</td>\n",
       "      <td>The native language of {} is</td>\n",
       "      <td>The native language of Pierre Messmer is</td>\n",
       "      <td>Pierre Messmer</td>\n",
       "    </tr>\n",
       "    <tr>\n",
       "      <th>3</th>\n",
       "      <td>French</td>\n",
       "      <td>French French French d'Anjou. he was born Fren...</td>\n",
       "      <td>French</td>\n",
       "      <td>The native language of {} is</td>\n",
       "      <td>The native language of Roger Nimier is</td>\n",
       "      <td>Roger Nimier</td>\n",
       "    </tr>\n",
       "    <tr>\n",
       "      <th>4</th>\n",
       "      <td>Russian</td>\n",
       "      <td>Russian Russian Russian. The Russian language ...</td>\n",
       "      <td>Russian</td>\n",
       "      <td>The native language of {} is</td>\n",
       "      <td>The native language of Andrey Malakhov is</td>\n",
       "      <td>Andrey Malakhov</td>\n",
       "    </tr>\n",
       "  </tbody>\n",
       "</table>\n",
       "</div>"
      ],
      "text/plain": [
       "  attribute                                         prediction  \\\n",
       "0    French  French French French. The French language -Jules    \n",
       "1    French  French Italian French. She is Italian -French ...   \n",
       "2    French  French French French. The French language Jacq...   \n",
       "3    French  French French French d'Anjou. he was born Fren...   \n",
       "4   Russian  Russian Russian Russian. The Russian language ...   \n",
       "\n",
       "  candidate_prediction                      template  \\\n",
       "0               French  The native language of {} is   \n",
       "1               French  The native language of {} is   \n",
       "2               French  The native language of {} is   \n",
       "3               French  The native language of {} is   \n",
       "4              Russian  The native language of {} is   \n",
       "\n",
       "                                             prompt                 subject  \n",
       "0      The native language of Louis Jules Trochu is      Louis Jules Trochu  \n",
       "1  The native language of Valeria Bruni Tedeschi is  Valeria Bruni Tedeschi  \n",
       "2          The native language of Pierre Messmer is          Pierre Messmer  \n",
       "3            The native language of Roger Nimier is            Roger Nimier  \n",
       "4         The native language of Andrey Malakhov is         Andrey Malakhov  "
      ]
     },
     "execution_count": 59,
     "metadata": {},
     "output_type": "execute_result"
    }
   ],
   "source": [
    "atlas_base_data = pd.DataFrame()\n",
    "\n",
    "for relation in relations:\n",
    "    with open(atlas_base_files[relation]) as f:\n",
    "        for line in f:\n",
    "            tmp_data = json.loads(line)\n",
    "            if template_ends_with_mask(tmp_data[\"pattern\"]):\n",
    "                del tmp_data[\"passages\"]\n",
    "                del tmp_data[\"metadata\"]\n",
    "                tmp_data[\"relation\"] = relation\n",
    "                atlas_base_data = atlas_base_data.append(tmp_data, ignore_index=True)\n",
    "\n",
    "atlas_base_data[\"answers\"] = atlas_base_data.answers.apply(lambda val: val[0])\n",
    "atlas_base_data[\"pattern\"] = atlas_base_data.pattern.apply(lambda val: val.replace(\"[X]\", \"{}\").replace(\" [Y].\",\"\").replace(\" [Y]\",\"\"))\n",
    "atlas_base_data[\"query\"] = atlas_base_data[\"query\"].apply(lambda val: val.replace(\"<extra_id_0>.\",\"\").replace(\"<extra_id_0>\",\"\"))\n",
    "            \n",
    "atlas_base_data = atlas_base_data.rename(columns = {\"answers\": \"attribute\", \n",
    "                                         \"generation\": \"prediction\",\n",
    "                                         \"generation_by_choice\": \"candidate_prediction\",\n",
    "                                         \"pattern\": \"template\",\n",
    "                                         \"query\": \"prompt\",\n",
    "                                         \"sub_label\": \"subject\"\n",
    "                                         }\n",
    "                                        )\n",
    "atlas_base_data.head()"
   ]
  },
  {
   "cell_type": "markdown",
   "id": "7ff5e05a",
   "metadata": {},
   "source": [
    "Can confirm that all data query values are the same!"
   ]
  },
  {
   "cell_type": "code",
   "execution_count": 60,
   "id": "21a2ae0b",
   "metadata": {},
   "outputs": [
    {
     "data": {
      "text/html": [
       "<div>\n",
       "<style scoped>\n",
       "    .dataframe tbody tr th:only-of-type {\n",
       "        vertical-align: middle;\n",
       "    }\n",
       "\n",
       "    .dataframe tbody tr th {\n",
       "        vertical-align: top;\n",
       "    }\n",
       "\n",
       "    .dataframe thead tr th {\n",
       "        text-align: left;\n",
       "    }\n",
       "</style>\n",
       "<table border=\"1\" class=\"dataframe\">\n",
       "  <thead>\n",
       "    <tr>\n",
       "      <th></th>\n",
       "      <th colspan=\"2\" halign=\"left\">candidate_prediction</th>\n",
       "      <th colspan=\"2\" halign=\"left\">prediction</th>\n",
       "    </tr>\n",
       "    <tr>\n",
       "      <th></th>\n",
       "      <th>self</th>\n",
       "      <th>other</th>\n",
       "      <th>self</th>\n",
       "      <th>other</th>\n",
       "    </tr>\n",
       "  </thead>\n",
       "  <tbody>\n",
       "    <tr>\n",
       "      <th>0</th>\n",
       "      <td>Hindi</td>\n",
       "      <td>Hindi</td>\n",
       "      <td>Mar</td>\n",
       "      <td>Hindi Hindi Hindi a former President of India,...</td>\n",
       "    </tr>\n",
       "    <tr>\n",
       "      <th>1</th>\n",
       "      <td>Hindi</td>\n",
       "      <td>English</td>\n",
       "      <td>Mar</td>\n",
       "      <td>Bengali English Bengali he is the President.</td>\n",
       "    </tr>\n",
       "    <tr>\n",
       "      <th>2</th>\n",
       "      <td>Dutch</td>\n",
       "      <td>Dutch</td>\n",
       "      <td>the</td>\n",
       "      <td>Dutch Dutch Dutch a Dutch writer of poetry was...</td>\n",
       "    </tr>\n",
       "    <tr>\n",
       "      <th>3</th>\n",
       "      <td>Dutch</td>\n",
       "      <td>Dutch</td>\n",
       "      <td>the</td>\n",
       "      <td>Dutch Dutch Dutch a Dutch writer, Aagje Deken</td>\n",
       "    </tr>\n",
       "    <tr>\n",
       "      <th>4</th>\n",
       "      <td>Italian</td>\n",
       "      <td>Italian</td>\n",
       "      <td>Italian</td>\n",
       "      <td>Italian Italian Italian a racecar driver, Varz...</td>\n",
       "    </tr>\n",
       "    <tr>\n",
       "      <th>...</th>\n",
       "      <td>...</td>\n",
       "      <td>...</td>\n",
       "      <td>...</td>\n",
       "      <td>...</td>\n",
       "    </tr>\n",
       "    <tr>\n",
       "      <th>1829</th>\n",
       "      <td>German</td>\n",
       "      <td>Swedish</td>\n",
       "      <td>the</td>\n",
       "      <td>Swedish Swedish Swedish, although it is not sp...</td>\n",
       "    </tr>\n",
       "    <tr>\n",
       "      <th>1830</th>\n",
       "      <td>Russian</td>\n",
       "      <td>Russian</td>\n",
       "      <td>Russian</td>\n",
       "      <td>Russian Russian Russian. The Russian language ...</td>\n",
       "    </tr>\n",
       "    <tr>\n",
       "      <th>1831</th>\n",
       "      <td>Russian</td>\n",
       "      <td>Russian</td>\n",
       "      <td>Russian</td>\n",
       "      <td>Russian Russian Russian. The Russian language ...</td>\n",
       "    </tr>\n",
       "    <tr>\n",
       "      <th>1832</th>\n",
       "      <td>Russian</td>\n",
       "      <td>Russian</td>\n",
       "      <td>Uzbek</td>\n",
       "      <td>Chechen Chechen Chechen  елим ан</td>\n",
       "    </tr>\n",
       "    <tr>\n",
       "      <th>1833</th>\n",
       "      <td>Russian</td>\n",
       "      <td>Russian</td>\n",
       "      <td>Uzbek</td>\n",
       "      <td>Chechen Chechen Chechen  елим ан</td>\n",
       "    </tr>\n",
       "  </tbody>\n",
       "</table>\n",
       "<p>1834 rows × 4 columns</p>\n",
       "</div>"
      ],
      "text/plain": [
       "     candidate_prediction          prediction  \\\n",
       "                     self    other       self   \n",
       "0                   Hindi    Hindi        Mar   \n",
       "1                   Hindi  English        Mar   \n",
       "2                   Dutch    Dutch        the   \n",
       "3                   Dutch    Dutch        the   \n",
       "4                 Italian  Italian    Italian   \n",
       "...                   ...      ...        ...   \n",
       "1829               German  Swedish        the   \n",
       "1830              Russian  Russian    Russian   \n",
       "1831              Russian  Russian    Russian   \n",
       "1832              Russian  Russian      Uzbek   \n",
       "1833              Russian  Russian      Uzbek   \n",
       "\n",
       "                                                         \n",
       "                                                  other  \n",
       "0     Hindi Hindi Hindi a former President of India,...  \n",
       "1         Bengali English Bengali he is the President.   \n",
       "2     Dutch Dutch Dutch a Dutch writer of poetry was...  \n",
       "3        Dutch Dutch Dutch a Dutch writer, Aagje Deken   \n",
       "4     Italian Italian Italian a racecar driver, Varz...  \n",
       "...                                                 ...  \n",
       "1829  Swedish Swedish Swedish, although it is not sp...  \n",
       "1830  Russian Russian Russian. The Russian language ...  \n",
       "1831  Russian Russian Russian. The Russian language ...  \n",
       "1832                  Chechen Chechen Chechen  елим ан   \n",
       "1833                  Chechen Chechen Chechen  елим ан   \n",
       "\n",
       "[1834 rows x 4 columns]"
      ]
     },
     "execution_count": 60,
     "metadata": {},
     "output_type": "execute_result"
    }
   ],
   "source": [
    "gpt2_data_to_comp = gpt2_data.drop(columns=[\"candidate_p\", \"candidate_rank\", \"gold_p\", \"gold_rank\", \"known_id\", \"prediction_p\", \"relation_id\"]\n",
    "              ).sort_index(axis=1).sort_values(by=[\"subject\", \"template\"], ignore_index=True)\n",
    "atlas_base_data_to_comp = atlas_base_data.sort_index(axis=1).sort_values(by=[\"subject\", \"template\"], ignore_index=True)\n",
    "\n",
    "\n",
    "gpt2_data_to_comp.compare(atlas_base_data_to_comp, align_axis=\"columns\")"
   ]
  },
  {
   "cell_type": "markdown",
   "id": "08ad37d3",
   "metadata": {},
   "source": [
    "## Get accuracy and consistency"
   ]
  },
  {
   "cell_type": "code",
   "execution_count": 61,
   "id": "b97206e5",
   "metadata": {},
   "outputs": [],
   "source": [
    "# accuracy across all paraphrases\n",
    "\n",
    "def get_accuracy(data, pred_type):\n",
    "    return (data.attribute==data[pred_type].apply(lambda val: val.strip())).sum()/len(data)    \n",
    "\n",
    "def get_consistency(data, pred_type):\n",
    "    def get_consistency_per_attribute(vals):\n",
    "        num_cons = 0\n",
    "        for i in range(len(vals)-1):\n",
    "            num_cons += sum(vals[i]==vals[i+1:])\n",
    "        return num_cons, math.comb(len(vals), 2)\n",
    "    \n",
    "    num_cons = 0\n",
    "    num_tot = 0\n",
    "    for subject in data.subject.unique():\n",
    "        tmp_num_cons, tmp_num_tot = get_consistency_per_attribute(data[data.subject==subject][pred_type].reset_index(drop=True))\n",
    "        num_cons += tmp_num_cons\n",
    "        num_tot += tmp_num_tot\n",
    "        \n",
    "    return num_cons/num_tot"
   ]
  },
  {
   "cell_type": "code",
   "execution_count": 62,
   "id": "131ea278",
   "metadata": {},
   "outputs": [
    {
     "data": {
      "text/plain": [
       "template\n",
       "The mother tongue of {} is      0.724100\n",
       "The native language of {} is    0.728462\n",
       "dtype: float64"
      ]
     },
     "execution_count": 62,
     "metadata": {},
     "output_type": "execute_result"
    }
   ],
   "source": [
    "gpt2_data.groupby(by=\"template\").apply(lambda val: get_accuracy(val, \"prediction\"))"
   ]
  },
  {
   "cell_type": "code",
   "execution_count": 63,
   "id": "bf0d252b",
   "metadata": {},
   "outputs": [
    {
     "data": {
      "text/plain": [
       "template\n",
       "The mother tongue of {} is      0.0\n",
       "The native language of {} is    0.0\n",
       "dtype: float64"
      ]
     },
     "execution_count": 63,
     "metadata": {},
     "output_type": "execute_result"
    }
   ],
   "source": [
    "atlas_base_data.groupby(by=\"template\").apply(lambda val: get_accuracy(val, \"prediction\"))"
   ]
  },
  {
   "cell_type": "code",
   "execution_count": 64,
   "id": "15d34fd8",
   "metadata": {},
   "outputs": [
    {
     "data": {
      "text/plain": [
       "template\n",
       "The mother tongue of {} is      0.763359\n",
       "The native language of {} is    0.765540\n",
       "dtype: float64"
      ]
     },
     "execution_count": 64,
     "metadata": {},
     "output_type": "execute_result"
    }
   ],
   "source": [
    "gpt2_data.groupby(by=\"template\").apply(lambda val: get_accuracy(val, \"candidate_prediction\"))"
   ]
  },
  {
   "cell_type": "code",
   "execution_count": 65,
   "id": "2f3bde00",
   "metadata": {},
   "outputs": [
    {
     "data": {
      "text/plain": [
       "template\n",
       "The mother tongue of {} is      0.931298\n",
       "The native language of {} is    0.947655\n",
       "dtype: float64"
      ]
     },
     "execution_count": 65,
     "metadata": {},
     "output_type": "execute_result"
    }
   ],
   "source": [
    "atlas_base_data.groupby(by=\"template\").apply(lambda val: get_accuracy(val, \"candidate_prediction\"))"
   ]
  },
  {
   "cell_type": "code",
   "execution_count": 66,
   "id": "b651f585",
   "metadata": {},
   "outputs": [
    {
     "name": "stdout",
     "output_type": "stream",
     "text": [
      "GPT2 candidate consistency: 0.95092693565976\n",
      "Atlas-base candidate consistency: 0.960741548527808\n"
     ]
    }
   ],
   "source": [
    "print(f\"GPT2 candidate consistency: {get_consistency(gpt2_data, 'candidate_prediction')}\")\n",
    "print(f\"Atlas-base candidate consistency: {get_consistency(atlas_base_data, 'candidate_prediction')}\")"
   ]
  }
 ],
 "metadata": {
  "kernelspec": {
   "display_name": "Python 3 (ipykernel)",
   "language": "python",
   "name": "python3"
  },
  "language_info": {
   "codemirror_mode": {
    "name": "ipython",
    "version": 3
   },
   "file_extension": ".py",
   "mimetype": "text/x-python",
   "name": "python",
   "nbconvert_exporter": "python",
   "pygments_lexer": "ipython3",
   "version": "3.9.5"
  }
 },
 "nbformat": 4,
 "nbformat_minor": 5
}
