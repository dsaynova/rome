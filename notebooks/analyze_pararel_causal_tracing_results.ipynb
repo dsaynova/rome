{
 "cells": [
  {
   "cell_type": "markdown",
   "id": "26c64dfd",
   "metadata": {},
   "source": [
    "# Analyze ParaRel causal tracing results"
   ]
  },
  {
   "cell_type": "code",
   "execution_count": 1,
   "id": "9c1af8cd",
   "metadata": {},
   "outputs": [],
   "source": [
    "import json\n",
    "import pandas as pd\n",
    "import numpy as np\n",
    "from matplotlib import pyplot as plt\n",
    "\n",
    "from experiments.causal_trace import plot_trace_heatmap"
   ]
  },
  {
   "cell_type": "code",
   "execution_count": 2,
   "id": "9f907cb4",
   "metadata": {},
   "outputs": [],
   "source": [
    "query_file = \"/cephyr/users/lovhag/Alvis/projects/rome/data/P19_gpt2_xl_preds.jsonl\"\n",
    "results_folder = \"/cephyr/users/lovhag/Alvis/projects/rome/results/ns3_r0_gpt2-xl/causal_trace_pararel/cases\""
   ]
  },
  {
   "cell_type": "markdown",
   "id": "1df99deb",
   "metadata": {},
   "source": [
    "## Load the queries"
   ]
  },
  {
   "cell_type": "code",
   "execution_count": 3,
   "id": "5f2063f3",
   "metadata": {},
   "outputs": [
    {
     "data": {
      "text/html": [
       "<div>\n",
       "<style scoped>\n",
       "    .dataframe tbody tr th:only-of-type {\n",
       "        vertical-align: middle;\n",
       "    }\n",
       "\n",
       "    .dataframe tbody tr th {\n",
       "        vertical-align: top;\n",
       "    }\n",
       "\n",
       "    .dataframe thead th {\n",
       "        text-align: right;\n",
       "    }\n",
       "</style>\n",
       "<table border=\"1\" class=\"dataframe\">\n",
       "  <thead>\n",
       "    <tr style=\"text-align: right;\">\n",
       "      <th></th>\n",
       "      <th>attribute</th>\n",
       "      <th>candidate_p</th>\n",
       "      <th>candidate_prediction</th>\n",
       "      <th>candidate_rank</th>\n",
       "      <th>gold_p</th>\n",
       "      <th>gold_rank</th>\n",
       "      <th>known_id</th>\n",
       "      <th>prediction</th>\n",
       "      <th>prediction_p</th>\n",
       "      <th>prompt</th>\n",
       "      <th>relation_id</th>\n",
       "      <th>subject</th>\n",
       "      <th>template</th>\n",
       "    </tr>\n",
       "  </thead>\n",
       "  <tbody>\n",
       "    <tr>\n",
       "      <th>0</th>\n",
       "      <td>Alexandra</td>\n",
       "      <td>0.001767</td>\n",
       "      <td>Chicago</td>\n",
       "      <td>39.0</td>\n",
       "      <td>1.400000e-07</td>\n",
       "      <td>20169.0</td>\n",
       "      <td>0.0</td>\n",
       "      <td>the</td>\n",
       "      <td>0.370901</td>\n",
       "      <td>Allan Peiper was born in</td>\n",
       "      <td>P19</td>\n",
       "      <td>Allan Peiper</td>\n",
       "      <td>{} was born in</td>\n",
       "    </tr>\n",
       "    <tr>\n",
       "      <th>1</th>\n",
       "      <td>Alexandra</td>\n",
       "      <td>0.040801</td>\n",
       "      <td>Chicago</td>\n",
       "      <td>1.0</td>\n",
       "      <td>6.400000e-07</td>\n",
       "      <td>15598.0</td>\n",
       "      <td>1.0</td>\n",
       "      <td>the</td>\n",
       "      <td>0.273378</td>\n",
       "      <td>Allan Peiper is originally from</td>\n",
       "      <td>P19</td>\n",
       "      <td>Allan Peiper</td>\n",
       "      <td>{} is originally from</td>\n",
       "    </tr>\n",
       "    <tr>\n",
       "      <th>2</th>\n",
       "      <td>Alexandra</td>\n",
       "      <td>0.009765</td>\n",
       "      <td>Chicago</td>\n",
       "      <td>7.0</td>\n",
       "      <td>3.000000e-07</td>\n",
       "      <td>17909.0</td>\n",
       "      <td>2.0</td>\n",
       "      <td>the</td>\n",
       "      <td>0.323059</td>\n",
       "      <td>Allan Peiper was originally from</td>\n",
       "      <td>P19</td>\n",
       "      <td>Allan Peiper</td>\n",
       "      <td>{} was originally from</td>\n",
       "    </tr>\n",
       "    <tr>\n",
       "      <th>3</th>\n",
       "      <td>Alexandra</td>\n",
       "      <td>0.000129</td>\n",
       "      <td>Chicago</td>\n",
       "      <td>458.0</td>\n",
       "      <td>2.000000e-08</td>\n",
       "      <td>36370.0</td>\n",
       "      <td>3.0</td>\n",
       "      <td>the</td>\n",
       "      <td>0.496370</td>\n",
       "      <td>Allan Peiper is native to</td>\n",
       "      <td>P19</td>\n",
       "      <td>Allan Peiper</td>\n",
       "      <td>{} is native to</td>\n",
       "    </tr>\n",
       "    <tr>\n",
       "      <th>4</th>\n",
       "      <td>Alexandra</td>\n",
       "      <td>0.000130</td>\n",
       "      <td>Spain</td>\n",
       "      <td>482.0</td>\n",
       "      <td>7.000000e-08</td>\n",
       "      <td>29934.0</td>\n",
       "      <td>4.0</td>\n",
       "      <td>the</td>\n",
       "      <td>0.449806</td>\n",
       "      <td>Allan Peiper was native to</td>\n",
       "      <td>P19</td>\n",
       "      <td>Allan Peiper</td>\n",
       "      <td>{} was native to</td>\n",
       "    </tr>\n",
       "  </tbody>\n",
       "</table>\n",
       "</div>"
      ],
      "text/plain": [
       "   attribute  candidate_p candidate_prediction  candidate_rank        gold_p  \\\n",
       "0  Alexandra     0.001767              Chicago            39.0  1.400000e-07   \n",
       "1  Alexandra     0.040801              Chicago             1.0  6.400000e-07   \n",
       "2  Alexandra     0.009765              Chicago             7.0  3.000000e-07   \n",
       "3  Alexandra     0.000129              Chicago           458.0  2.000000e-08   \n",
       "4  Alexandra     0.000130                Spain           482.0  7.000000e-08   \n",
       "\n",
       "   gold_rank  known_id prediction  prediction_p  \\\n",
       "0    20169.0       0.0        the      0.370901   \n",
       "1    15598.0       1.0        the      0.273378   \n",
       "2    17909.0       2.0        the      0.323059   \n",
       "3    36370.0       3.0        the      0.496370   \n",
       "4    29934.0       4.0        the      0.449806   \n",
       "\n",
       "                             prompt relation_id       subject  \\\n",
       "0          Allan Peiper was born in         P19  Allan Peiper   \n",
       "1   Allan Peiper is originally from         P19  Allan Peiper   \n",
       "2  Allan Peiper was originally from         P19  Allan Peiper   \n",
       "3         Allan Peiper is native to         P19  Allan Peiper   \n",
       "4        Allan Peiper was native to         P19  Allan Peiper   \n",
       "\n",
       "                 template  \n",
       "0          {} was born in  \n",
       "1   {} is originally from  \n",
       "2  {} was originally from  \n",
       "3         {} is native to  \n",
       "4        {} was native to  "
      ]
     },
     "execution_count": 3,
     "metadata": {},
     "output_type": "execute_result"
    }
   ],
   "source": [
    "queries = pd.DataFrame()\n",
    "with open(query_file) as f:\n",
    "    for line in f:\n",
    "        queries = queries.append(json.loads(line), ignore_index=True)\n",
    "        \n",
    "queries.head()"
   ]
  },
  {
   "cell_type": "markdown",
   "id": "296e67f1",
   "metadata": {},
   "source": [
    "### Analyze query data\n",
    "\n",
    "What to analyze specifically?"
   ]
  },
  {
   "cell_type": "markdown",
   "id": "fdebe023",
   "metadata": {},
   "source": [
    "What can we say about the candidate rankings and gold rankings?"
   ]
  },
  {
   "cell_type": "code",
   "execution_count": 4,
   "id": "da3238a7",
   "metadata": {},
   "outputs": [
    {
     "data": {
      "image/png": "[encoded data removed]",
      "text/plain": [
       "<Figure size 432x288 with 2 Axes>"
      ]
     },
     "metadata": {
      "needs_background": "light"
     },
     "output_type": "display_data"
    },
    {
     "data": {
      "image/png": "[encoded data removed]",
      "text/plain": [
       "<Figure size 432x288 with 2 Axes>"
      ]
     },
     "metadata": {
      "needs_background": "light"
     },
     "output_type": "display_data"
    },
    {
     "name": "stdout",
     "output_type": "stream",
     "text": [
      "Total number of samples: 5453\n"
     ]
    }
   ],
   "source": [
    "hist2 = queries.hist(column=[\"candidate_rank\", \"gold_rank\"], sharey=True)\n",
    "plt.suptitle(\"Overview\")\n",
    "plt.show()\n",
    "\n",
    "hist = queries.hist(column=[\"candidate_rank\", \"gold_rank\"], sharey=True, range=[0,200])\n",
    "plt.suptitle(\"Zoomed in\")\n",
    "plt.show()\n",
    "print(f\"Total number of samples: {len(queries)}\")"
   ]
  },
  {
   "cell_type": "markdown",
   "id": "4efb55f9",
   "metadata": {},
   "source": [
    "## Load the causal tracing results"
   ]
  },
  {
   "cell_type": "code",
   "execution_count": 6,
   "id": "d78343fa",
   "metadata": {},
   "outputs": [],
   "source": [
    "results = np.load(\"/cephyr/users/lovhag/Alvis/projects/rome/data/results/gpt2-xl/causal_trace_pararel_1557225/cases/0_any.npz\", allow_pickle=True)"
   ]
  },
  {
   "cell_type": "code",
   "execution_count": 11,
   "id": "9fda8774",
   "metadata": {},
   "outputs": [
    {
     "data": {
      "text/plain": [
       "{'scores': array([[0.14224863, 0.14200114, 0.13937525, 0.12456983, 0.12145109,\n",
       "         0.11614361, 0.11690114, 0.12581626, 0.12810296, 0.12850493,\n",
       "         0.128569  , 0.12921654, 0.12976107, 0.1289017 , 0.1291825 ,\n",
       "         0.12934469, 0.12934397, 0.1291701 , 0.12913848, 0.12884484,\n",
       "         0.12872083, 0.12905526, 0.12915997, 0.12946701, 0.12953798,\n",
       "         0.12930611, 0.12958074, 0.12947713, 0.12937042, 0.12947133,\n",
       "         0.12952158, 0.12939592, 0.12918334, 0.1292812 , 0.12926601,\n",
       "         0.12904294, 0.12907474, 0.1289218 , 0.12878925, 0.12870155,\n",
       "         0.12870581, 0.12862544, 0.12864974, 0.12870157, 0.12877554,\n",
       "         0.12884954, 0.12883763, 0.12891498],\n",
       "        [0.13378465, 0.1391238 , 0.12703173, 0.11411332, 0.09580653,\n",
       "         0.07784909, 0.07316283, 0.07074521, 0.07050457, 0.07301632,\n",
       "         0.07574222, 0.07865351, 0.08383738, 0.09865558, 0.1096954 ,\n",
       "         0.11525483, 0.11631043, 0.11482785, 0.11509333, 0.11511228,\n",
       "         0.11527444, 0.1157568 , 0.11736838, 0.11849201, 0.12213305,\n",
       "         0.12214597, 0.12232329, 0.12253034, 0.12329046, 0.12547387,\n",
       "         0.12748392, 0.12820809, 0.12861256, 0.12864195, 0.12908989,\n",
       "         0.12861113, 0.12867561, 0.12840614, 0.12883201, 0.1288965 ,\n",
       "         0.12858471, 0.12855232, 0.12897837, 0.12933767, 0.12930004,\n",
       "         0.12936632, 0.1291235 , 0.12891498],\n",
       "        [0.12766974, 0.12543742, 0.12627363, 0.12618971, 0.12895964,\n",
       "         0.12732367, 0.12549245, 0.11699577, 0.11450899, 0.11362528,\n",
       "         0.10765636, 0.1042076 , 0.10141581, 0.10296454, 0.11095996,\n",
       "         0.11785674, 0.1195237 , 0.12057897, 0.12282049, 0.1228612 ,\n",
       "         0.12149644, 0.12309759, 0.12619689, 0.1268972 , 0.12749825,\n",
       "         0.12886511, 0.12861462, 0.1282872 , 0.12901108, 0.12902047,\n",
       "         0.12865579, 0.1291066 , 0.1289587 , 0.12909165, 0.12868035,\n",
       "         0.12864111, 0.12893929, 0.12949659, 0.1297714 , 0.1295907 ,\n",
       "         0.12960045, 0.12932576, 0.12941657, 0.12940185, 0.12914181,\n",
       "         0.12924035, 0.1291463 , 0.12891498],\n",
       "        [0.11178087, 0.10585368, 0.10512867, 0.1029601 , 0.10468962,\n",
       "         0.10936902, 0.10753808, 0.10201649, 0.09952946, 0.09614   ,\n",
       "         0.09335696, 0.087181  , 0.08732121, 0.08215847, 0.08732883,\n",
       "         0.08926522, 0.09330722, 0.10300324, 0.10427791, 0.10645814,\n",
       "         0.10656505, 0.10747919, 0.10841572, 0.11046982, 0.11633658,\n",
       "         0.1179499 , 0.11817434, 0.11955196, 0.11992516, 0.12175343,\n",
       "         0.12221676, 0.1234612 , 0.12674081, 0.12668093, 0.12699996,\n",
       "         0.1272795 , 0.1276075 , 0.1274431 , 0.1271067 , 0.12718442,\n",
       "         0.12790452, 0.12797265, 0.12869923, 0.12856877, 0.12851663,\n",
       "         0.12879223, 0.12887466, 0.12891498],\n",
       "        [0.12775584, 0.12409629, 0.12079275, 0.12068351, 0.11762965,\n",
       "         0.11144567, 0.10803341, 0.1020622 , 0.10233676, 0.09956528,\n",
       "         0.1002376 , 0.10213192, 0.1034774 , 0.09725462, 0.10128726,\n",
       "         0.10205901, 0.10050052, 0.1016994 , 0.1070649 , 0.11411301,\n",
       "         0.11857875, 0.1230736 , 0.12216569, 0.12392765, 0.12522028,\n",
       "         0.12634979, 0.12595539, 0.12632586, 0.12640624, 0.1270902 ,\n",
       "         0.12761854, 0.12897925, 0.12931827, 0.1293947 , 0.12941954,\n",
       "         0.1295763 , 0.12979989, 0.12983738, 0.12996583, 0.12997906,\n",
       "         0.13014257, 0.12994738, 0.12953708, 0.12965547, 0.12970619,\n",
       "         0.12959343, 0.12973128, 0.12891498],\n",
       "        [0.12789136, 0.12511788, 0.12433113, 0.12528531, 0.12581258,\n",
       "         0.12373406, 0.1216846 , 0.12104877, 0.12072206, 0.11823883,\n",
       "         0.11580165, 0.11773088, 0.11719475, 0.11492181, 0.1112669 ,\n",
       "         0.11182865, 0.11165529, 0.10736994, 0.10582802, 0.09949101,\n",
       "         0.10428777, 0.10737327, 0.11132278, 0.11354833, 0.11409567,\n",
       "         0.11444887, 0.11608322, 0.11928833, 0.12032562, 0.1197814 ,\n",
       "         0.11803909, 0.11826812, 0.11705355, 0.11904795, 0.12105844,\n",
       "         0.12171258, 0.12293007, 0.12476356, 0.12485204, 0.1255105 ,\n",
       "         0.12837376, 0.12797959, 0.12860772, 0.12857509, 0.12856309,\n",
       "         0.12854993, 0.12863074, 0.12891498],\n",
       "        [0.12778223, 0.12587625, 0.12502372, 0.1236667 , 0.12227899,\n",
       "         0.12173548, 0.12131619, 0.12066455, 0.11917215, 0.1165751 ,\n",
       "         0.11460688, 0.11116753, 0.10910659, 0.10742009, 0.10228489,\n",
       "         0.09843608, 0.0964184 , 0.09251625, 0.08976133, 0.08863016,\n",
       "         0.0866028 , 0.0764661 , 0.06932921, 0.06368463, 0.05955394,\n",
       "         0.05755896, 0.05677882, 0.05400812, 0.05183695, 0.04995297,\n",
       "         0.04638736, 0.04485499, 0.04280858, 0.04093095, 0.03986527,\n",
       "         0.04003553, 0.03934499, 0.03881792, 0.03878529, 0.03834176,\n",
       "         0.03676738, 0.0373735 , 0.03706712, 0.0375908 , 0.03752644,\n",
       "         0.03737302, 0.03744156, 0.03803416]], dtype=float32),\n",
       " 'low_score': array(0.12891498),\n",
       " 'input_ids': array([3237,  272, 2631, 9346,  373, 4642,  287]),\n",
       " 'input_tokens': array(['All', 'an', ' Pe', 'iper', ' was', ' born', ' in'], dtype='<U5'),\n",
       " 'subject_range': array([0, 4]),\n",
       " 'window': array(10),\n",
       " 'kind': array('', dtype='<U1'),\n",
       " 'answer': array(' the', dtype='<U4')}"
      ]
     },
     "execution_count": 11,
     "metadata": {},
     "output_type": "execute_result"
    }
   ],
   "source": [
    "res = dict(results)\n",
    "res"
   ]
  },
  {
   "cell_type": "code",
   "execution_count": 10,
   "id": "cc00bcce",
   "metadata": {},
   "outputs": [
    {
     "data": {
      "text/plain": [
       "(7, 48)"
      ]
     },
     "execution_count": 10,
     "metadata": {},
     "output_type": "execute_result"
    }
   ],
   "source": [
    "res[\"scores\"].shape"
   ]
  },
  {
   "cell_type": "code",
   "execution_count": 27,
   "id": "ab18ee12",
   "metadata": {},
   "outputs": [
    {
     "name": "stderr",
     "output_type": "stream",
     "text": [
      "findfont: Font family ['Times New Roman'] not found. Falling back to DejaVu Sans.\n",
      "findfont: Font family ['Times New Roman'] not found. Falling back to DejaVu Sans.\n"
     ]
    },
    {
     "data": {
      "image/png": "[encoded data removed]",
      "text/plain": [
       "<Figure size 700x400 with 2 Axes>"
      ]
     },
     "metadata": {
      "needs_background": "light"
     },
     "output_type": "display_data"
    }
   ],
   "source": [
    "plot_trace_heatmap(results)"
   ]
  },
  {
   "cell_type": "markdown",
   "id": "e51a2e36",
   "metadata": {},
   "source": [
    "## Analyze causal tracing results\n",
    "\n",
    "- When the model is consistent, can we observe that it treats the queries similarly? (Compared to the case when the model is not consistent)\n",
    "    - Consider heatmaps\n",
    "    - Consider direct effect of corrupting the subject"
   ]
  },
  {
   "cell_type": "code",
   "execution_count": null,
   "id": "94cf44d7",
   "metadata": {},
   "outputs": [],
   "source": []
  }
 ],
 "metadata": {
  "kernelspec": {
   "display_name": "Python 3 (ipykernel)",
   "language": "python",
   "name": "python3"
  },
  "language_info": {
   "codemirror_mode": {
    "name": "ipython",
    "version": 3
   },
   "file_extension": ".py",
   "mimetype": "text/x-python",
   "name": "python",
   "nbconvert_exporter": "python",
   "pygments_lexer": "ipython3",
   "version": "3.9.5"
  }
 },
 "nbformat": 4,
 "nbformat_minor": 5
}
