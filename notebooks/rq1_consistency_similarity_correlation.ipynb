{
 "cells": [
  {
   "cell_type": "markdown",
   "id": "8411f875",
   "metadata": {},
   "source": [
    "# Examine the correlation between consistency and importance pattern similarity"
   ]
  },
  {
   "cell_type": "code",
   "execution_count": 1,
   "id": "57a9ce72",
   "metadata": {},
   "outputs": [],
   "source": [
    "import json\n",
    "import pandas as pd\n",
    "import numpy as np\n",
    "from matplotlib import pyplot as plt\n",
    "import seaborn as sns\n",
    "import os\n",
    "import math\n",
    "import scipy\n",
    "import random\n",
    "from tqdm import tqdm\n",
    "\n",
    "from experiments.causal_trace import plot_trace_heatmap, plot_trace_heatmap_from_values, plot_normalized_trace_heatmap_from_values"
   ]
  },
  {
   "cell_type": "code",
   "execution_count": 2,
   "id": "d9970774",
   "metadata": {},
   "outputs": [],
   "source": [
    "relations = [\"P19\", \"P20\", \"P27\", \"P101\", \"P495\", \"P740\", \"P1376\"]\n",
    "model_name = \"gpt2_xl\"\n",
    "\n",
    "data_folder = \"/cephyr/users/lovhag/Alvis/projects/rome/data/RQ1\""
   ]
  },
  {
   "cell_type": "code",
   "execution_count": 3,
   "id": "26e0ad5b",
   "metadata": {
    "scrolled": true
   },
   "outputs": [
    {
     "data": {
      "text/html": [
       "<div>\n",
       "<style scoped>\n",
       "    .dataframe tbody tr th:only-of-type {\n",
       "        vertical-align: middle;\n",
       "    }\n",
       "\n",
       "    .dataframe tbody tr th {\n",
       "        vertical-align: top;\n",
       "    }\n",
       "\n",
       "    .dataframe thead th {\n",
       "        text-align: right;\n",
       "    }\n",
       "</style>\n",
       "<table border=\"1\" class=\"dataframe\">\n",
       "  <thead>\n",
       "    <tr style=\"text-align: right;\">\n",
       "      <th></th>\n",
       "      <th>sample_ix</th>\n",
       "      <th>lama_ix</th>\n",
       "      <th>subject</th>\n",
       "      <th>lama_template</th>\n",
       "      <th>sample_template</th>\n",
       "      <th>lama_answer</th>\n",
       "      <th>sample_answer</th>\n",
       "      <th>correct_answer</th>\n",
       "      <th>lama_correct</th>\n",
       "      <th>sample_correct</th>\n",
       "      <th>lama_te</th>\n",
       "      <th>sample_te</th>\n",
       "      <th>is_consistent</th>\n",
       "      <th>pairwise_sim</th>\n",
       "      <th>pred_type</th>\n",
       "      <th>relation</th>\n",
       "    </tr>\n",
       "  </thead>\n",
       "  <tbody>\n",
       "    <tr>\n",
       "      <th>0</th>\n",
       "      <td>1</td>\n",
       "      <td>0</td>\n",
       "      <td>Allan Peiper</td>\n",
       "      <td>{} was born in</td>\n",
       "      <td>{} is originally from</td>\n",
       "      <td>New</td>\n",
       "      <td>the</td>\n",
       "      <td>Alexandra</td>\n",
       "      <td>False</td>\n",
       "      <td>False</td>\n",
       "      <td>0.023766</td>\n",
       "      <td>0.021967</td>\n",
       "      <td>False</td>\n",
       "      <td>0.998697</td>\n",
       "      <td>any</td>\n",
       "      <td>P19</td>\n",
       "    </tr>\n",
       "    <tr>\n",
       "      <th>1</th>\n",
       "      <td>1</td>\n",
       "      <td>0</td>\n",
       "      <td>Allan Peiper</td>\n",
       "      <td>{} was born in</td>\n",
       "      <td>{} is originally from</td>\n",
       "      <td>London</td>\n",
       "      <td>Canada</td>\n",
       "      <td>Alexandra</td>\n",
       "      <td>False</td>\n",
       "      <td>False</td>\n",
       "      <td>0.017587</td>\n",
       "      <td>0.003975</td>\n",
       "      <td>False</td>\n",
       "      <td>0.995587</td>\n",
       "      <td>candidate</td>\n",
       "      <td>P19</td>\n",
       "    </tr>\n",
       "    <tr>\n",
       "      <th>2</th>\n",
       "      <td>2</td>\n",
       "      <td>0</td>\n",
       "      <td>Allan Peiper</td>\n",
       "      <td>{} was born in</td>\n",
       "      <td>{} was originally from</td>\n",
       "      <td>New</td>\n",
       "      <td>the</td>\n",
       "      <td>Alexandra</td>\n",
       "      <td>False</td>\n",
       "      <td>False</td>\n",
       "      <td>0.023766</td>\n",
       "      <td>0.018423</td>\n",
       "      <td>False</td>\n",
       "      <td>0.998855</td>\n",
       "      <td>any</td>\n",
       "      <td>P19</td>\n",
       "    </tr>\n",
       "    <tr>\n",
       "      <th>3</th>\n",
       "      <td>2</td>\n",
       "      <td>0</td>\n",
       "      <td>Allan Peiper</td>\n",
       "      <td>{} was born in</td>\n",
       "      <td>{} was originally from</td>\n",
       "      <td>London</td>\n",
       "      <td>Canada</td>\n",
       "      <td>Alexandra</td>\n",
       "      <td>False</td>\n",
       "      <td>False</td>\n",
       "      <td>0.017587</td>\n",
       "      <td>0.003594</td>\n",
       "      <td>False</td>\n",
       "      <td>0.996345</td>\n",
       "      <td>candidate</td>\n",
       "      <td>P19</td>\n",
       "    </tr>\n",
       "    <tr>\n",
       "      <th>4</th>\n",
       "      <td>3</td>\n",
       "      <td>0</td>\n",
       "      <td>Allan Peiper</td>\n",
       "      <td>{} was born in</td>\n",
       "      <td>{} is native to</td>\n",
       "      <td>New</td>\n",
       "      <td>the</td>\n",
       "      <td>Alexandra</td>\n",
       "      <td>False</td>\n",
       "      <td>False</td>\n",
       "      <td>0.023766</td>\n",
       "      <td>0.022872</td>\n",
       "      <td>False</td>\n",
       "      <td>0.994816</td>\n",
       "      <td>any</td>\n",
       "      <td>P19</td>\n",
       "    </tr>\n",
       "    <tr>\n",
       "      <th>...</th>\n",
       "      <td>...</td>\n",
       "      <td>...</td>\n",
       "      <td>...</td>\n",
       "      <td>...</td>\n",
       "      <td>...</td>\n",
       "      <td>...</td>\n",
       "      <td>...</td>\n",
       "      <td>...</td>\n",
       "      <td>...</td>\n",
       "      <td>...</td>\n",
       "      <td>...</td>\n",
       "      <td>...</td>\n",
       "      <td>...</td>\n",
       "      <td>...</td>\n",
       "      <td>...</td>\n",
       "      <td>...</td>\n",
       "    </tr>\n",
       "    <tr>\n",
       "      <th>63055</th>\n",
       "      <td>1023</td>\n",
       "      <td>1020</td>\n",
       "      <td>Rumbek</td>\n",
       "      <td>{} is the capital of</td>\n",
       "      <td>{}, the capital city of</td>\n",
       "      <td>Slovenia</td>\n",
       "      <td>Ukraine</td>\n",
       "      <td>Lakes</td>\n",
       "      <td>False</td>\n",
       "      <td>False</td>\n",
       "      <td>0.011378</td>\n",
       "      <td>0.003583</td>\n",
       "      <td>False</td>\n",
       "      <td>0.993998</td>\n",
       "      <td>candidate</td>\n",
       "      <td>P1376</td>\n",
       "    </tr>\n",
       "    <tr>\n",
       "      <th>63056</th>\n",
       "      <td>1024</td>\n",
       "      <td>1020</td>\n",
       "      <td>Rumbek</td>\n",
       "      <td>{} is the capital of</td>\n",
       "      <td>{}, that is the capital of</td>\n",
       "      <td>the</td>\n",
       "      <td>the</td>\n",
       "      <td>Lakes</td>\n",
       "      <td>False</td>\n",
       "      <td>False</td>\n",
       "      <td>0.025886</td>\n",
       "      <td>0.025681</td>\n",
       "      <td>True</td>\n",
       "      <td>0.999859</td>\n",
       "      <td>any</td>\n",
       "      <td>P1376</td>\n",
       "    </tr>\n",
       "    <tr>\n",
       "      <th>63057</th>\n",
       "      <td>1024</td>\n",
       "      <td>1020</td>\n",
       "      <td>Rumbek</td>\n",
       "      <td>{} is the capital of</td>\n",
       "      <td>{}, that is the capital of</td>\n",
       "      <td>Slovenia</td>\n",
       "      <td>Ukraine</td>\n",
       "      <td>Lakes</td>\n",
       "      <td>False</td>\n",
       "      <td>False</td>\n",
       "      <td>0.011378</td>\n",
       "      <td>0.006395</td>\n",
       "      <td>False</td>\n",
       "      <td>0.992868</td>\n",
       "      <td>candidate</td>\n",
       "      <td>P1376</td>\n",
       "    </tr>\n",
       "    <tr>\n",
       "      <th>63058</th>\n",
       "      <td>1025</td>\n",
       "      <td>1020</td>\n",
       "      <td>Rumbek</td>\n",
       "      <td>{} is the capital of</td>\n",
       "      <td>{}, that is the capital city of</td>\n",
       "      <td>the</td>\n",
       "      <td>the</td>\n",
       "      <td>Lakes</td>\n",
       "      <td>False</td>\n",
       "      <td>False</td>\n",
       "      <td>0.025886</td>\n",
       "      <td>0.051186</td>\n",
       "      <td>True</td>\n",
       "      <td>0.999690</td>\n",
       "      <td>any</td>\n",
       "      <td>P1376</td>\n",
       "    </tr>\n",
       "    <tr>\n",
       "      <th>63059</th>\n",
       "      <td>1025</td>\n",
       "      <td>1020</td>\n",
       "      <td>Rumbek</td>\n",
       "      <td>{} is the capital of</td>\n",
       "      <td>{}, that is the capital city of</td>\n",
       "      <td>Slovenia</td>\n",
       "      <td>Ukraine</td>\n",
       "      <td>Lakes</td>\n",
       "      <td>False</td>\n",
       "      <td>False</td>\n",
       "      <td>0.011378</td>\n",
       "      <td>0.004991</td>\n",
       "      <td>False</td>\n",
       "      <td>0.994676</td>\n",
       "      <td>candidate</td>\n",
       "      <td>P1376</td>\n",
       "    </tr>\n",
       "  </tbody>\n",
       "</table>\n",
       "<p>63060 rows × 16 columns</p>\n",
       "</div>"
      ],
      "text/plain": [
       "       sample_ix  lama_ix       subject         lama_template  \\\n",
       "0              1        0  Allan Peiper        {} was born in   \n",
       "1              1        0  Allan Peiper        {} was born in   \n",
       "2              2        0  Allan Peiper        {} was born in   \n",
       "3              2        0  Allan Peiper        {} was born in   \n",
       "4              3        0  Allan Peiper        {} was born in   \n",
       "...          ...      ...           ...                   ...   \n",
       "63055       1023     1020        Rumbek  {} is the capital of   \n",
       "63056       1024     1020        Rumbek  {} is the capital of   \n",
       "63057       1024     1020        Rumbek  {} is the capital of   \n",
       "63058       1025     1020        Rumbek  {} is the capital of   \n",
       "63059       1025     1020        Rumbek  {} is the capital of   \n",
       "\n",
       "                       sample_template lama_answer sample_answer  \\\n",
       "0                {} is originally from         New           the   \n",
       "1                {} is originally from      London        Canada   \n",
       "2               {} was originally from         New           the   \n",
       "3               {} was originally from      London        Canada   \n",
       "4                      {} is native to         New           the   \n",
       "...                                ...         ...           ...   \n",
       "63055          {}, the capital city of    Slovenia       Ukraine   \n",
       "63056       {}, that is the capital of         the           the   \n",
       "63057       {}, that is the capital of    Slovenia       Ukraine   \n",
       "63058  {}, that is the capital city of         the           the   \n",
       "63059  {}, that is the capital city of    Slovenia       Ukraine   \n",
       "\n",
       "      correct_answer  lama_correct  sample_correct   lama_te  sample_te  \\\n",
       "0          Alexandra         False           False  0.023766   0.021967   \n",
       "1          Alexandra         False           False  0.017587   0.003975   \n",
       "2          Alexandra         False           False  0.023766   0.018423   \n",
       "3          Alexandra         False           False  0.017587   0.003594   \n",
       "4          Alexandra         False           False  0.023766   0.022872   \n",
       "...              ...           ...             ...       ...        ...   \n",
       "63055          Lakes         False           False  0.011378   0.003583   \n",
       "63056          Lakes         False           False  0.025886   0.025681   \n",
       "63057          Lakes         False           False  0.011378   0.006395   \n",
       "63058          Lakes         False           False  0.025886   0.051186   \n",
       "63059          Lakes         False           False  0.011378   0.004991   \n",
       "\n",
       "       is_consistent  pairwise_sim  pred_type relation  \n",
       "0              False      0.998697        any      P19  \n",
       "1              False      0.995587  candidate      P19  \n",
       "2              False      0.998855        any      P19  \n",
       "3              False      0.996345  candidate      P19  \n",
       "4              False      0.994816        any      P19  \n",
       "...              ...           ...        ...      ...  \n",
       "63055          False      0.993998  candidate    P1376  \n",
       "63056           True      0.999859        any    P1376  \n",
       "63057          False      0.992868  candidate    P1376  \n",
       "63058           True      0.999690        any    P1376  \n",
       "63059          False      0.994676  candidate    P1376  \n",
       "\n",
       "[63060 rows x 16 columns]"
      ]
     },
     "execution_count": 3,
     "metadata": {},
     "output_type": "execute_result"
    }
   ],
   "source": [
    "data = pd.DataFrame()\n",
    "\n",
    "for relation in relations:\n",
    "    tmp_data = pd.read_csv(os.path.join(data_folder, model_name, f\"{relation}.csv\"))\n",
    "    tmp_data[\"relation\"] = relation\n",
    "    data = data.append(tmp_data, ignore_index=True)\n",
    "        \n",
    "data"
   ]
  },
  {
   "cell_type": "code",
   "execution_count": 4,
   "id": "2dcf3d96",
   "metadata": {},
   "outputs": [
    {
     "data": {
      "text/plain": [
       "any          45517\n",
       "candidate    17543\n",
       "Name: pred_type, dtype: int64"
      ]
     },
     "execution_count": 4,
     "metadata": {},
     "output_type": "execute_result"
    }
   ],
   "source": [
    "data.pred_type.value_counts()"
   ]
  },
  {
   "cell_type": "markdown",
   "id": "132711f1",
   "metadata": {},
   "source": [
    "## Similarity values measured before filtering objects and TE thresholding"
   ]
  },
  {
   "cell_type": "code",
   "execution_count": 5,
   "id": "b7d74964",
   "metadata": {},
   "outputs": [
    {
     "data": {
      "image/png": "[encoded data removed]",
      "text/plain": [
       "<Figure size 288x144 with 1 Axes>"
      ]
     },
     "metadata": {
      "needs_background": "light"
     },
     "output_type": "display_data"
    }
   ],
   "source": [
    "plt.figure(figsize=(4,2))\n",
    "sns.histplot(data=data[data.pred_type==\"any\"], x=\"pairwise_sim\", hue=\"is_consistent\", bins=100)\n",
    "plt.xlim([0.9, 1])\n",
    "plt.xlabel(\"Pairwise similarity\")\n",
    "plt.ylabel(\"#samples\")\n",
    "plt.legend(title='Consistent', loc='upper left', labels=['True', 'False'])\n",
    "plt.savefig(\"/cephyr/users/lovhag/Alvis/projects/rome/images/sim_cons_any_te_any_obj.svg\")\n",
    "plt.show()"
   ]
  },
  {
   "cell_type": "code",
   "execution_count": 6,
   "id": "3ea9a1b2",
   "metadata": {},
   "outputs": [
    {
     "data": {
      "text/plain": [
       "0.9922016037678018"
      ]
     },
     "execution_count": 6,
     "metadata": {},
     "output_type": "execute_result"
    }
   ],
   "source": [
    "data[data.pred_type==\"any\"].pairwise_sim.mean()"
   ]
  },
  {
   "cell_type": "code",
   "execution_count": 7,
   "id": "38ab9fce",
   "metadata": {},
   "outputs": [
    {
     "data": {
      "text/plain": [
       "0.4215492606163025"
      ]
     },
     "execution_count": 7,
     "metadata": {},
     "output_type": "execute_result"
    }
   ],
   "source": [
    "data[data.pred_type==\"any\"].pairwise_sim.min()"
   ]
  },
  {
   "cell_type": "code",
   "execution_count": 8,
   "id": "34408755",
   "metadata": {},
   "outputs": [
    {
     "data": {
      "text/plain": [
       "0.016303083396867445"
      ]
     },
     "execution_count": 8,
     "metadata": {},
     "output_type": "execute_result"
    }
   ],
   "source": [
    "data[data.pred_type==\"any\"].pairwise_sim.std()"
   ]
  },
  {
   "cell_type": "markdown",
   "id": "bf7950db",
   "metadata": {},
   "source": [
    "## Get similarities and corresponding consistency values for pairwise comparisons between the LAMA template and other templates"
   ]
  },
  {
   "cell_type": "markdown",
   "id": "ee71462a",
   "metadata": {},
   "source": [
    "**Important step:** Remove forbidden predictions to make certain we are only considering fact recall processes.\n",
    "\n",
    "> Thoughts: Is \"works in the field of [digital]\" or \"works in the field of [human]\" ok?"
   ]
  },
  {
   "cell_type": "code",
   "execution_count": 9,
   "id": "bd42f465",
   "metadata": {},
   "outputs": [
    {
     "name": "stdout",
     "output_type": "stream",
     "text": [
      "Removing the forbidden predictions for the LAMA paraphrases...\n",
      "the              28327\n",
      "a                 2814\n",
      "public             282\n",
      "response            64\n",
      "collaboration       32\n",
      "\"                   24\n",
      "honor               16\n",
      "partnership         16\n",
      "order               16\n",
      "AD                   7\n",
      "open                 6\n",
      "H                    5\n",
      "Name: lama_answer, dtype: int64\n"
     ]
    },
    {
     "data": {
      "text/html": [
       "<div>\n",
       "<style scoped>\n",
       "    .dataframe tbody tr th:only-of-type {\n",
       "        vertical-align: middle;\n",
       "    }\n",
       "\n",
       "    .dataframe tbody tr th {\n",
       "        vertical-align: top;\n",
       "    }\n",
       "\n",
       "    .dataframe thead th {\n",
       "        text-align: right;\n",
       "    }\n",
       "</style>\n",
       "<table border=\"1\" class=\"dataframe\">\n",
       "  <thead>\n",
       "    <tr style=\"text-align: right;\">\n",
       "      <th></th>\n",
       "      <th>sample_ix</th>\n",
       "      <th>lama_ix</th>\n",
       "      <th>subject</th>\n",
       "      <th>lama_template</th>\n",
       "      <th>sample_template</th>\n",
       "      <th>lama_answer</th>\n",
       "      <th>sample_answer</th>\n",
       "      <th>correct_answer</th>\n",
       "      <th>lama_correct</th>\n",
       "      <th>sample_correct</th>\n",
       "      <th>lama_te</th>\n",
       "      <th>sample_te</th>\n",
       "      <th>is_consistent</th>\n",
       "      <th>pairwise_sim</th>\n",
       "      <th>pred_type</th>\n",
       "      <th>relation</th>\n",
       "    </tr>\n",
       "  </thead>\n",
       "  <tbody>\n",
       "    <tr>\n",
       "      <th>0</th>\n",
       "      <td>1</td>\n",
       "      <td>0</td>\n",
       "      <td>Allan Peiper</td>\n",
       "      <td>{} was born in</td>\n",
       "      <td>{} is originally from</td>\n",
       "      <td>New</td>\n",
       "      <td>the</td>\n",
       "      <td>Alexandra</td>\n",
       "      <td>False</td>\n",
       "      <td>False</td>\n",
       "      <td>0.023766</td>\n",
       "      <td>0.021967</td>\n",
       "      <td>False</td>\n",
       "      <td>0.998697</td>\n",
       "      <td>any</td>\n",
       "      <td>P19</td>\n",
       "    </tr>\n",
       "    <tr>\n",
       "      <th>1</th>\n",
       "      <td>1</td>\n",
       "      <td>0</td>\n",
       "      <td>Allan Peiper</td>\n",
       "      <td>{} was born in</td>\n",
       "      <td>{} is originally from</td>\n",
       "      <td>London</td>\n",
       "      <td>Canada</td>\n",
       "      <td>Alexandra</td>\n",
       "      <td>False</td>\n",
       "      <td>False</td>\n",
       "      <td>0.017587</td>\n",
       "      <td>0.003975</td>\n",
       "      <td>False</td>\n",
       "      <td>0.995587</td>\n",
       "      <td>candidate</td>\n",
       "      <td>P19</td>\n",
       "    </tr>\n",
       "    <tr>\n",
       "      <th>2</th>\n",
       "      <td>2</td>\n",
       "      <td>0</td>\n",
       "      <td>Allan Peiper</td>\n",
       "      <td>{} was born in</td>\n",
       "      <td>{} was originally from</td>\n",
       "      <td>New</td>\n",
       "      <td>the</td>\n",
       "      <td>Alexandra</td>\n",
       "      <td>False</td>\n",
       "      <td>False</td>\n",
       "      <td>0.023766</td>\n",
       "      <td>0.018423</td>\n",
       "      <td>False</td>\n",
       "      <td>0.998855</td>\n",
       "      <td>any</td>\n",
       "      <td>P19</td>\n",
       "    </tr>\n",
       "    <tr>\n",
       "      <th>3</th>\n",
       "      <td>2</td>\n",
       "      <td>0</td>\n",
       "      <td>Allan Peiper</td>\n",
       "      <td>{} was born in</td>\n",
       "      <td>{} was originally from</td>\n",
       "      <td>London</td>\n",
       "      <td>Canada</td>\n",
       "      <td>Alexandra</td>\n",
       "      <td>False</td>\n",
       "      <td>False</td>\n",
       "      <td>0.017587</td>\n",
       "      <td>0.003594</td>\n",
       "      <td>False</td>\n",
       "      <td>0.996345</td>\n",
       "      <td>candidate</td>\n",
       "      <td>P19</td>\n",
       "    </tr>\n",
       "    <tr>\n",
       "      <th>4</th>\n",
       "      <td>3</td>\n",
       "      <td>0</td>\n",
       "      <td>Allan Peiper</td>\n",
       "      <td>{} was born in</td>\n",
       "      <td>{} is native to</td>\n",
       "      <td>New</td>\n",
       "      <td>the</td>\n",
       "      <td>Alexandra</td>\n",
       "      <td>False</td>\n",
       "      <td>False</td>\n",
       "      <td>0.023766</td>\n",
       "      <td>0.022872</td>\n",
       "      <td>False</td>\n",
       "      <td>0.994816</td>\n",
       "      <td>any</td>\n",
       "      <td>P19</td>\n",
       "    </tr>\n",
       "    <tr>\n",
       "      <th>...</th>\n",
       "      <td>...</td>\n",
       "      <td>...</td>\n",
       "      <td>...</td>\n",
       "      <td>...</td>\n",
       "      <td>...</td>\n",
       "      <td>...</td>\n",
       "      <td>...</td>\n",
       "      <td>...</td>\n",
       "      <td>...</td>\n",
       "      <td>...</td>\n",
       "      <td>...</td>\n",
       "      <td>...</td>\n",
       "      <td>...</td>\n",
       "      <td>...</td>\n",
       "      <td>...</td>\n",
       "      <td>...</td>\n",
       "    </tr>\n",
       "    <tr>\n",
       "      <th>31446</th>\n",
       "      <td>1021</td>\n",
       "      <td>1020</td>\n",
       "      <td>Rumbek</td>\n",
       "      <td>{} is the capital of</td>\n",
       "      <td>{} is the capital city of</td>\n",
       "      <td>Slovenia</td>\n",
       "      <td>Slovenia</td>\n",
       "      <td>Lakes</td>\n",
       "      <td>False</td>\n",
       "      <td>False</td>\n",
       "      <td>0.011378</td>\n",
       "      <td>0.007738</td>\n",
       "      <td>True</td>\n",
       "      <td>0.983722</td>\n",
       "      <td>candidate</td>\n",
       "      <td>P1376</td>\n",
       "    </tr>\n",
       "    <tr>\n",
       "      <th>31447</th>\n",
       "      <td>1022</td>\n",
       "      <td>1020</td>\n",
       "      <td>Rumbek</td>\n",
       "      <td>{} is the capital of</td>\n",
       "      <td>{}, the capital of</td>\n",
       "      <td>Slovenia</td>\n",
       "      <td>Ukraine</td>\n",
       "      <td>Lakes</td>\n",
       "      <td>False</td>\n",
       "      <td>False</td>\n",
       "      <td>0.011378</td>\n",
       "      <td>0.005172</td>\n",
       "      <td>False</td>\n",
       "      <td>0.996760</td>\n",
       "      <td>candidate</td>\n",
       "      <td>P1376</td>\n",
       "    </tr>\n",
       "    <tr>\n",
       "      <th>31448</th>\n",
       "      <td>1023</td>\n",
       "      <td>1020</td>\n",
       "      <td>Rumbek</td>\n",
       "      <td>{} is the capital of</td>\n",
       "      <td>{}, the capital city of</td>\n",
       "      <td>Slovenia</td>\n",
       "      <td>Ukraine</td>\n",
       "      <td>Lakes</td>\n",
       "      <td>False</td>\n",
       "      <td>False</td>\n",
       "      <td>0.011378</td>\n",
       "      <td>0.003583</td>\n",
       "      <td>False</td>\n",
       "      <td>0.993998</td>\n",
       "      <td>candidate</td>\n",
       "      <td>P1376</td>\n",
       "    </tr>\n",
       "    <tr>\n",
       "      <th>31449</th>\n",
       "      <td>1024</td>\n",
       "      <td>1020</td>\n",
       "      <td>Rumbek</td>\n",
       "      <td>{} is the capital of</td>\n",
       "      <td>{}, that is the capital of</td>\n",
       "      <td>Slovenia</td>\n",
       "      <td>Ukraine</td>\n",
       "      <td>Lakes</td>\n",
       "      <td>False</td>\n",
       "      <td>False</td>\n",
       "      <td>0.011378</td>\n",
       "      <td>0.006395</td>\n",
       "      <td>False</td>\n",
       "      <td>0.992868</td>\n",
       "      <td>candidate</td>\n",
       "      <td>P1376</td>\n",
       "    </tr>\n",
       "    <tr>\n",
       "      <th>31450</th>\n",
       "      <td>1025</td>\n",
       "      <td>1020</td>\n",
       "      <td>Rumbek</td>\n",
       "      <td>{} is the capital of</td>\n",
       "      <td>{}, that is the capital city of</td>\n",
       "      <td>Slovenia</td>\n",
       "      <td>Ukraine</td>\n",
       "      <td>Lakes</td>\n",
       "      <td>False</td>\n",
       "      <td>False</td>\n",
       "      <td>0.011378</td>\n",
       "      <td>0.004991</td>\n",
       "      <td>False</td>\n",
       "      <td>0.994676</td>\n",
       "      <td>candidate</td>\n",
       "      <td>P1376</td>\n",
       "    </tr>\n",
       "  </tbody>\n",
       "</table>\n",
       "<p>31451 rows × 16 columns</p>\n",
       "</div>"
      ],
      "text/plain": [
       "       sample_ix  lama_ix       subject         lama_template  \\\n",
       "0              1        0  Allan Peiper        {} was born in   \n",
       "1              1        0  Allan Peiper        {} was born in   \n",
       "2              2        0  Allan Peiper        {} was born in   \n",
       "3              2        0  Allan Peiper        {} was born in   \n",
       "4              3        0  Allan Peiper        {} was born in   \n",
       "...          ...      ...           ...                   ...   \n",
       "31446       1021     1020        Rumbek  {} is the capital of   \n",
       "31447       1022     1020        Rumbek  {} is the capital of   \n",
       "31448       1023     1020        Rumbek  {} is the capital of   \n",
       "31449       1024     1020        Rumbek  {} is the capital of   \n",
       "31450       1025     1020        Rumbek  {} is the capital of   \n",
       "\n",
       "                       sample_template lama_answer sample_answer  \\\n",
       "0                {} is originally from         New           the   \n",
       "1                {} is originally from      London        Canada   \n",
       "2               {} was originally from         New           the   \n",
       "3               {} was originally from      London        Canada   \n",
       "4                      {} is native to         New           the   \n",
       "...                                ...         ...           ...   \n",
       "31446        {} is the capital city of    Slovenia      Slovenia   \n",
       "31447               {}, the capital of    Slovenia       Ukraine   \n",
       "31448          {}, the capital city of    Slovenia       Ukraine   \n",
       "31449       {}, that is the capital of    Slovenia       Ukraine   \n",
       "31450  {}, that is the capital city of    Slovenia       Ukraine   \n",
       "\n",
       "      correct_answer  lama_correct  sample_correct   lama_te  sample_te  \\\n",
       "0          Alexandra         False           False  0.023766   0.021967   \n",
       "1          Alexandra         False           False  0.017587   0.003975   \n",
       "2          Alexandra         False           False  0.023766   0.018423   \n",
       "3          Alexandra         False           False  0.017587   0.003594   \n",
       "4          Alexandra         False           False  0.023766   0.022872   \n",
       "...              ...           ...             ...       ...        ...   \n",
       "31446          Lakes         False           False  0.011378   0.007738   \n",
       "31447          Lakes         False           False  0.011378   0.005172   \n",
       "31448          Lakes         False           False  0.011378   0.003583   \n",
       "31449          Lakes         False           False  0.011378   0.006395   \n",
       "31450          Lakes         False           False  0.011378   0.004991   \n",
       "\n",
       "       is_consistent  pairwise_sim  pred_type relation  \n",
       "0              False      0.998697        any      P19  \n",
       "1              False      0.995587  candidate      P19  \n",
       "2              False      0.998855        any      P19  \n",
       "3              False      0.996345  candidate      P19  \n",
       "4              False      0.994816        any      P19  \n",
       "...              ...           ...        ...      ...  \n",
       "31446           True      0.983722  candidate    P1376  \n",
       "31447          False      0.996760  candidate    P1376  \n",
       "31448          False      0.993998  candidate    P1376  \n",
       "31449          False      0.992868  candidate    P1376  \n",
       "31450          False      0.994676  candidate    P1376  \n",
       "\n",
       "[31451 rows x 16 columns]"
      ]
     },
     "execution_count": 9,
     "metadata": {},
     "output_type": "execute_result"
    }
   ],
   "source": [
    "forbidden_predictions = [\"a\", \"the\", \"collaboration\", \"response\", \"public\", '\"', \"order\", \"partnership\", \"honor\", \"AD\", \"open\", \"H\", \"age\", \"creating\", \"disgrace\", \"her\", \"his\", \"in\", \"left\", \"not\", \"providing\", \"tragedy\", \"which\", \"whom\"]\n",
    "print(\"Removing the forbidden predictions for the LAMA paraphrases...\")\n",
    "print(data[data.lama_answer.isin(forbidden_predictions)].lama_answer.value_counts())\n",
    "\n",
    "forbidden_mask = (data.lama_answer.isin(forbidden_predictions))# | (data.sample_answer.isin(forbidden_predictions))\n",
    "data = data[~(forbidden_mask)].reset_index(drop=True)\n",
    "data"
   ]
  },
  {
   "cell_type": "markdown",
   "id": "73f92f27",
   "metadata": {},
   "source": [
    "Check that the remaining predictions are ok..."
   ]
  },
  {
   "cell_type": "code",
   "execution_count": 10,
   "id": "196998b7",
   "metadata": {
    "scrolled": true
   },
   "outputs": [
    {
     "name": "stdout",
     "output_type": "stream",
     "text": [
      "18                3895\n",
      "London            2464\n",
      "Japan             1337\n",
      "France            1198\n",
      "Paris             1100\n",
      "Germany           1074\n",
      "Canada            1048\n",
      "computer           888\n",
      "2009               874\n",
      "India              828\n",
      "New                714\n",
      "Chicago            698\n",
      "Italy              685\n",
      "Rome               630\n",
      "Mexico             531\n",
      "2011               386\n",
      "Moscow             368\n",
      "Tokyo              343\n",
      "Sweden             327\n",
      "England            305\n",
      "psychology         300\n",
      "Poland             298\n",
      "2012               293\n",
      "medicine           246\n",
      "economics          234\n",
      "2008               211\n",
      "Berlin             210\n",
      "2010               198\n",
      "Denmark            188\n",
      "17                 178\n",
      "mathematics        168\n",
      "Brooklyn           168\n",
      "Israel             168\n",
      "Brazil             166\n",
      "Pakistan           165\n",
      "Finland            164\n",
      "Madrid             140\n",
      "physics            138\n",
      "digital            138\n",
      "Greece             136\n",
      "Iran               136\n",
      "Norway             136\n",
      "Australia          131\n",
      "Russia             127\n",
      "16                 124\n",
      "Athens             110\n",
      "environmental      108\n",
      "art                108\n",
      "Ireland            105\n",
      "philosophy         102\n",
      "1994                91\n",
      "Montreal            90\n",
      "human               90\n",
      "Ukraine             88\n",
      "Jerusalem           87\n",
      "Nigeria             86\n",
      "Belgium             86\n",
      "Vienna              85\n",
      "astronomy           84\n",
      "2013                84\n",
      "Mumbai              79\n",
      "Dublin              79\n",
      "Spain               78\n",
      "Philadelphia        76\n",
      "1991                75\n",
      "1997                72\n",
      "Taiwan              71\n",
      "Syria               70\n",
      "2007                68\n",
      "Egypt               67\n",
      "Seoul               67\n",
      "artificial          66\n",
      "1996                65\n",
      "Bangladesh          64\n",
      "Boston              62\n",
      "Romania             56\n",
      "1993                55\n",
      "information         54\n",
      "international       54\n",
      "1984                52\n",
      "Turkey              51\n",
      "Warsaw              49\n",
      "Singapore           49\n",
      "quantum             48\n",
      "Karachi             48\n",
      "Helsinki            48\n",
      "Islamic             48\n",
      "14                  48\n",
      "Baghdad             45\n",
      "Indonesia           44\n",
      "Stockholm           43\n",
      "Tehran              42\n",
      "aviation            42\n",
      "15                  40\n",
      "Thailand            40\n",
      "Kenya               40\n",
      "1979                39\n",
      "1988                39\n",
      "Switzerland         39\n",
      "Lisbon              37\n",
      "Atlanta             37\n",
      "history             36\n",
      "Beijing             36\n",
      "science             36\n",
      "Iraq                34\n",
      "Mali                34\n",
      "Detroit             32\n",
      "Portugal            32\n",
      "Cuba                32\n",
      "Mecca               31\n",
      "Manila              31\n",
      "music               30\n",
      "energy              30\n",
      "genetics            30\n",
      "anthropology        30\n",
      "theology            30\n",
      "1995                29\n",
      "Latvia              28\n",
      "Vietnam             28\n",
      "Ethiopia            28\n",
      "Malaysia            28\n",
      "1998                26\n",
      "Frankfurt           26\n",
      "1947                26\n",
      "1972                26\n",
      "1978                26\n",
      "2014                26\n",
      "1999                26\n",
      "Seattle             26\n",
      "1970                26\n",
      "2003                26\n",
      "Olympia             26\n",
      "Liverpool           26\n",
      "2004                26\n",
      "Sydney              25\n",
      "Havana              25\n",
      "Copenhagen          24\n",
      "film                24\n",
      "California          24\n",
      "photography         24\n",
      "cognitive           24\n",
      "political           24\n",
      "education           24\n",
      "Qatar               22\n",
      "Argentina           22\n",
      "Croatia             22\n",
      "2005                21\n",
      "Senegal             21\n",
      "12                  21\n",
      "Hungary             21\n",
      "1965                20\n",
      "Florence            20\n",
      "Yemen               20\n",
      "Istanbul            18\n",
      "nuclear             18\n",
      "evolution           18\n",
      "physiology          18\n",
      "ethics              18\n",
      "ecology             18\n",
      "Morocco             16\n",
      "Arkansas            16\n",
      "1954                16\n",
      "1963                16\n",
      "Jamaica             16\n",
      "Venezuela           16\n",
      "Azerbaijan          16\n",
      "Lebanon             16\n",
      "Albania             16\n",
      "Korea               16\n",
      "Ghana               16\n",
      "Scotland            16\n",
      "1922                16\n",
      "Nepal               16\n",
      "Cambodia            16\n",
      "Kerala              15\n",
      "Slovenia            15\n",
      "Catalonia           15\n",
      "Jordan              15\n",
      "West                15\n",
      "2006                14\n",
      "Palo                13\n",
      "1985                13\n",
      "1983                13\n",
      "1992                13\n",
      "1903                13\n",
      "Naples              13\n",
      "1904                13\n",
      "Toronto             13\n",
      "Vancouver           13\n",
      "1946                13\n",
      "Hamburg             13\n",
      "1976                13\n",
      "1886                13\n",
      "1953                13\n",
      "Houston             13\n",
      "Barcelona           13\n",
      "1919                13\n",
      "Munich              13\n",
      "Denver              13\n",
      "Cairo               13\n",
      "1974                13\n",
      "1964                13\n",
      "Budapest            12\n",
      "Glasgow             12\n",
      "statistics          12\n",
      "San                 12\n",
      "manga               12\n",
      "molecular           12\n",
      "Miami               12\n",
      "Amsterdam           12\n",
      "space               12\n",
      "Hong                12\n",
      "theoretical         12\n",
      "gender              12\n",
      "geography           12\n",
      "sociology           12\n",
      "Aleppo              12\n",
      "ge                  12\n",
      "health              12\n",
      "intelligence        12\n",
      "poetry              12\n",
      "Finnish             12\n",
      "neuro               12\n",
      "Prague              12\n",
      "climate             12\n",
      "architecture        12\n",
      "natural             12\n",
      "Bahrain             11\n",
      "Belarus             11\n",
      "Armenia             10\n",
      "Fiji                10\n",
      "Panama              10\n",
      "Zimbabwe            10\n",
      "Gujarat             10\n",
      "Sicily              10\n",
      "Rwanda              10\n",
      "Iowa                10\n",
      "Kansas              10\n",
      "China               10\n",
      "Maryland            10\n",
      "Pennsylvania        10\n",
      "Cyprus              10\n",
      "Bulgaria            10\n",
      "Connecticut         10\n",
      "Austria             10\n",
      "Oman                10\n",
      "Lithuania           10\n",
      "Somalia             10\n",
      "Florida             10\n",
      "Uganda              10\n",
      "Uruguay             10\n",
      "Sudan               10\n",
      "Tasmania            10\n",
      "Tanzania            10\n",
      "Queensland          10\n",
      "Laos                10\n",
      "Nicaragua           10\n",
      "Liberia             10\n",
      "Louisiana           10\n",
      "Ecuador             10\n",
      "Tunisia             10\n",
      "Tennessee           10\n",
      "Alberta             10\n",
      "Texas               10\n",
      "Angola              10\n",
      "Slovakia            10\n",
      "Quebec              10\n",
      "Algeria             10\n",
      "Honduras            10\n",
      "Hawaii              10\n",
      "Wales               10\n",
      "Guatemala           10\n",
      "Maharashtra         10\n",
      "Peru                10\n",
      "Kosovo              10\n",
      "Idaho               10\n",
      "Minnesota           10\n",
      "Georgia             10\n",
      "Estonia             10\n",
      "Manitoba            10\n",
      "Libya               10\n",
      "Massachusetts       10\n",
      "Guinea              10\n",
      "Victoria            10\n",
      "Indiana             10\n",
      "Greenland           10\n",
      "Haiti               10\n",
      "Niger               10\n",
      "Bihar               10\n",
      "6                    7\n",
      "January              7\n",
      "exile                7\n",
      "jail                 7\n",
      "Medina               7\n",
      "1962                 7\n",
      "Delhi                7\n",
      "April                7\n",
      "1945                 7\n",
      "1975                 7\n",
      "1943                 7\n",
      "323                  7\n",
      "office               7\n",
      "moral                6\n",
      "comedy               6\n",
      "Constantinople       6\n",
      "evolutionary         6\n",
      "Pittsburgh           6\n",
      "Kazakhstan           6\n",
      "Virginia             6\n",
      "pale                 6\n",
      "jazz                 6\n",
      "wildlife             6\n",
      "Milan                6\n",
      "nutrition            6\n",
      "country              6\n",
      "financial            6\n",
      "investigative        6\n",
      "radiation            6\n",
      "feminism             6\n",
      "Pr                   6\n",
      "counter              6\n",
      "finance              6\n",
      "Kiev                 6\n",
      "Cincinnati           6\n",
      "mythology            6\n",
      "politics             6\n",
      "animal               6\n",
      "archae               6\n",
      "religion             6\n",
      "journalism           6\n",
      "sports               6\n",
      "Rio                  6\n",
      "radio                6\n",
      "women                6\n",
      "plant                6\n",
      "Manchester           6\n",
      "Buenos               6\n",
      "chemical             6\n",
      "cart                 6\n",
      "forensic             6\n",
      "Chinese              6\n",
      "Luxembourg           6\n",
      "Jewish               6\n",
      "virus                6\n",
      "planetary            6\n",
      "meteor               6\n",
      "LGBT                 6\n",
      "chemistry            6\n",
      "Beirut               6\n",
      "tax                  6\n",
      "microbi              6\n",
      "law                  6\n",
      "sexual               6\n",
      "orth                 6\n",
      "Dallas               6\n",
      "Iceland              6\n",
      "Wyoming              5\n",
      "East                 5\n",
      "Kuwait               5\n",
      "Colorado             5\n",
      "Michigan             5\n",
      "Chad                 5\n",
      "Philippines          5\n",
      "Netherlands          5\n",
      "Oklahoma             5\n",
      "Bav                  5\n",
      "Bolivia              5\n",
      "Punjab               5\n",
      "Madagascar           5\n",
      "Chile                5\n",
      "Samoa                5\n",
      "Dubai                5\n",
      "Alaska               5\n",
      "Utah                 5\n",
      "Name: lama_answer, dtype: int64\n"
     ]
    }
   ],
   "source": [
    "pd.options.display.max_rows = 4000\n",
    "print(data.lama_answer.value_counts())#.add(data.sample_answer.value_counts(), fill_value=0).head(1000)"
   ]
  },
  {
   "cell_type": "code",
   "execution_count": 11,
   "id": "80691f60",
   "metadata": {},
   "outputs": [
    {
     "data": {
      "text/html": [
       "<div>\n",
       "<style scoped>\n",
       "    .dataframe tbody tr th:only-of-type {\n",
       "        vertical-align: middle;\n",
       "    }\n",
       "\n",
       "    .dataframe tbody tr th {\n",
       "        vertical-align: top;\n",
       "    }\n",
       "\n",
       "    .dataframe thead th {\n",
       "        text-align: right;\n",
       "    }\n",
       "</style>\n",
       "<table border=\"1\" class=\"dataframe\">\n",
       "  <thead>\n",
       "    <tr style=\"text-align: right;\">\n",
       "      <th></th>\n",
       "      <th>sample_ix</th>\n",
       "      <th>lama_ix</th>\n",
       "      <th>subject</th>\n",
       "      <th>lama_template</th>\n",
       "      <th>sample_template</th>\n",
       "      <th>lama_answer</th>\n",
       "      <th>sample_answer</th>\n",
       "      <th>correct_answer</th>\n",
       "      <th>lama_correct</th>\n",
       "      <th>sample_correct</th>\n",
       "      <th>lama_te</th>\n",
       "      <th>sample_te</th>\n",
       "      <th>is_consistent</th>\n",
       "      <th>pairwise_sim</th>\n",
       "      <th>pred_type</th>\n",
       "      <th>relation</th>\n",
       "    </tr>\n",
       "  </thead>\n",
       "  <tbody>\n",
       "    <tr>\n",
       "      <th>0</th>\n",
       "      <td>1</td>\n",
       "      <td>0</td>\n",
       "      <td>Allan Peiper</td>\n",
       "      <td>{} was born in</td>\n",
       "      <td>{} is originally from</td>\n",
       "      <td>New</td>\n",
       "      <td>the</td>\n",
       "      <td>Alexandra</td>\n",
       "      <td>False</td>\n",
       "      <td>False</td>\n",
       "      <td>0.023766</td>\n",
       "      <td>0.021967</td>\n",
       "      <td>False</td>\n",
       "      <td>0.998697</td>\n",
       "      <td>any</td>\n",
       "      <td>P19</td>\n",
       "    </tr>\n",
       "    <tr>\n",
       "      <th>2</th>\n",
       "      <td>2</td>\n",
       "      <td>0</td>\n",
       "      <td>Allan Peiper</td>\n",
       "      <td>{} was born in</td>\n",
       "      <td>{} was originally from</td>\n",
       "      <td>New</td>\n",
       "      <td>the</td>\n",
       "      <td>Alexandra</td>\n",
       "      <td>False</td>\n",
       "      <td>False</td>\n",
       "      <td>0.023766</td>\n",
       "      <td>0.018423</td>\n",
       "      <td>False</td>\n",
       "      <td>0.998855</td>\n",
       "      <td>any</td>\n",
       "      <td>P19</td>\n",
       "    </tr>\n",
       "    <tr>\n",
       "      <th>4</th>\n",
       "      <td>3</td>\n",
       "      <td>0</td>\n",
       "      <td>Allan Peiper</td>\n",
       "      <td>{} was born in</td>\n",
       "      <td>{} is native to</td>\n",
       "      <td>New</td>\n",
       "      <td>the</td>\n",
       "      <td>Alexandra</td>\n",
       "      <td>False</td>\n",
       "      <td>False</td>\n",
       "      <td>0.023766</td>\n",
       "      <td>0.022872</td>\n",
       "      <td>False</td>\n",
       "      <td>0.994816</td>\n",
       "      <td>any</td>\n",
       "      <td>P19</td>\n",
       "    </tr>\n",
       "    <tr>\n",
       "      <th>6</th>\n",
       "      <td>4</td>\n",
       "      <td>0</td>\n",
       "      <td>Allan Peiper</td>\n",
       "      <td>{} was born in</td>\n",
       "      <td>{} was native to</td>\n",
       "      <td>New</td>\n",
       "      <td>the</td>\n",
       "      <td>Alexandra</td>\n",
       "      <td>False</td>\n",
       "      <td>False</td>\n",
       "      <td>0.023766</td>\n",
       "      <td>0.016975</td>\n",
       "      <td>False</td>\n",
       "      <td>0.996224</td>\n",
       "      <td>any</td>\n",
       "      <td>P19</td>\n",
       "    </tr>\n",
       "    <tr>\n",
       "      <th>8</th>\n",
       "      <td>5</td>\n",
       "      <td>0</td>\n",
       "      <td>Allan Peiper</td>\n",
       "      <td>{} was born in</td>\n",
       "      <td>{} originated from</td>\n",
       "      <td>New</td>\n",
       "      <td>the</td>\n",
       "      <td>Alexandra</td>\n",
       "      <td>False</td>\n",
       "      <td>False</td>\n",
       "      <td>0.023766</td>\n",
       "      <td>0.015993</td>\n",
       "      <td>False</td>\n",
       "      <td>0.983260</td>\n",
       "      <td>any</td>\n",
       "      <td>P19</td>\n",
       "    </tr>\n",
       "    <tr>\n",
       "      <th>...</th>\n",
       "      <td>...</td>\n",
       "      <td>...</td>\n",
       "      <td>...</td>\n",
       "      <td>...</td>\n",
       "      <td>...</td>\n",
       "      <td>...</td>\n",
       "      <td>...</td>\n",
       "      <td>...</td>\n",
       "      <td>...</td>\n",
       "      <td>...</td>\n",
       "      <td>...</td>\n",
       "      <td>...</td>\n",
       "      <td>...</td>\n",
       "      <td>...</td>\n",
       "      <td>...</td>\n",
       "      <td>...</td>\n",
       "    </tr>\n",
       "    <tr>\n",
       "      <th>31144</th>\n",
       "      <td>773</td>\n",
       "      <td>768</td>\n",
       "      <td>Bamako</td>\n",
       "      <td>{} is the capital of</td>\n",
       "      <td>{}, that is the capital city of</td>\n",
       "      <td>Mali</td>\n",
       "      <td>the</td>\n",
       "      <td>Mali</td>\n",
       "      <td>True</td>\n",
       "      <td>False</td>\n",
       "      <td>0.523068</td>\n",
       "      <td>0.308704</td>\n",
       "      <td>False</td>\n",
       "      <td>0.977363</td>\n",
       "      <td>any</td>\n",
       "      <td>P1376</td>\n",
       "    </tr>\n",
       "    <tr>\n",
       "      <th>31171</th>\n",
       "      <td>793</td>\n",
       "      <td>792</td>\n",
       "      <td>Harrisburg</td>\n",
       "      <td>{} is the capital of</td>\n",
       "      <td>{} is the capital city of</td>\n",
       "      <td>Pennsylvania</td>\n",
       "      <td>the</td>\n",
       "      <td>Pennsylvania</td>\n",
       "      <td>True</td>\n",
       "      <td>False</td>\n",
       "      <td>0.379509</td>\n",
       "      <td>0.357757</td>\n",
       "      <td>False</td>\n",
       "      <td>0.993783</td>\n",
       "      <td>any</td>\n",
       "      <td>P1376</td>\n",
       "    </tr>\n",
       "    <tr>\n",
       "      <th>31336</th>\n",
       "      <td>931</td>\n",
       "      <td>930</td>\n",
       "      <td>Nashville</td>\n",
       "      <td>{} is the capital of</td>\n",
       "      <td>{} is the capital city of</td>\n",
       "      <td>Tennessee</td>\n",
       "      <td>the</td>\n",
       "      <td>Tennessee</td>\n",
       "      <td>True</td>\n",
       "      <td>False</td>\n",
       "      <td>0.476995</td>\n",
       "      <td>0.394561</td>\n",
       "      <td>False</td>\n",
       "      <td>0.980626</td>\n",
       "      <td>any</td>\n",
       "      <td>P1376</td>\n",
       "    </tr>\n",
       "    <tr>\n",
       "      <th>31372</th>\n",
       "      <td>958</td>\n",
       "      <td>954</td>\n",
       "      <td>Saint Paul</td>\n",
       "      <td>{} is the capital of</td>\n",
       "      <td>{}, that is the capital of</td>\n",
       "      <td>Minnesota</td>\n",
       "      <td>the</td>\n",
       "      <td>Minnesota</td>\n",
       "      <td>True</td>\n",
       "      <td>False</td>\n",
       "      <td>0.427549</td>\n",
       "      <td>0.257020</td>\n",
       "      <td>False</td>\n",
       "      <td>0.989695</td>\n",
       "      <td>any</td>\n",
       "      <td>P1376</td>\n",
       "    </tr>\n",
       "    <tr>\n",
       "      <th>31374</th>\n",
       "      <td>959</td>\n",
       "      <td>954</td>\n",
       "      <td>Saint Paul</td>\n",
       "      <td>{} is the capital of</td>\n",
       "      <td>{}, that is the capital city of</td>\n",
       "      <td>Minnesota</td>\n",
       "      <td>the</td>\n",
       "      <td>Minnesota</td>\n",
       "      <td>True</td>\n",
       "      <td>False</td>\n",
       "      <td>0.427549</td>\n",
       "      <td>0.258469</td>\n",
       "      <td>False</td>\n",
       "      <td>0.992605</td>\n",
       "      <td>any</td>\n",
       "      <td>P1376</td>\n",
       "    </tr>\n",
       "  </tbody>\n",
       "</table>\n",
       "<p>8901 rows × 16 columns</p>\n",
       "</div>"
      ],
      "text/plain": [
       "       sample_ix  lama_ix       subject         lama_template  \\\n",
       "0              1        0  Allan Peiper        {} was born in   \n",
       "2              2        0  Allan Peiper        {} was born in   \n",
       "4              3        0  Allan Peiper        {} was born in   \n",
       "6              4        0  Allan Peiper        {} was born in   \n",
       "8              5        0  Allan Peiper        {} was born in   \n",
       "...          ...      ...           ...                   ...   \n",
       "31144        773      768        Bamako  {} is the capital of   \n",
       "31171        793      792    Harrisburg  {} is the capital of   \n",
       "31336        931      930     Nashville  {} is the capital of   \n",
       "31372        958      954    Saint Paul  {} is the capital of   \n",
       "31374        959      954    Saint Paul  {} is the capital of   \n",
       "\n",
       "                       sample_template   lama_answer sample_answer  \\\n",
       "0                {} is originally from           New           the   \n",
       "2               {} was originally from           New           the   \n",
       "4                      {} is native to           New           the   \n",
       "6                     {} was native to           New           the   \n",
       "8                   {} originated from           New           the   \n",
       "...                                ...           ...           ...   \n",
       "31144  {}, that is the capital city of          Mali           the   \n",
       "31171        {} is the capital city of  Pennsylvania           the   \n",
       "31336        {} is the capital city of     Tennessee           the   \n",
       "31372       {}, that is the capital of     Minnesota           the   \n",
       "31374  {}, that is the capital city of     Minnesota           the   \n",
       "\n",
       "      correct_answer  lama_correct  sample_correct   lama_te  sample_te  \\\n",
       "0          Alexandra         False           False  0.023766   0.021967   \n",
       "2          Alexandra         False           False  0.023766   0.018423   \n",
       "4          Alexandra         False           False  0.023766   0.022872   \n",
       "6          Alexandra         False           False  0.023766   0.016975   \n",
       "8          Alexandra         False           False  0.023766   0.015993   \n",
       "...              ...           ...             ...       ...        ...   \n",
       "31144           Mali          True           False  0.523068   0.308704   \n",
       "31171   Pennsylvania          True           False  0.379509   0.357757   \n",
       "31336      Tennessee          True           False  0.476995   0.394561   \n",
       "31372      Minnesota          True           False  0.427549   0.257020   \n",
       "31374      Minnesota          True           False  0.427549   0.258469   \n",
       "\n",
       "       is_consistent  pairwise_sim pred_type relation  \n",
       "0              False      0.998697       any      P19  \n",
       "2              False      0.998855       any      P19  \n",
       "4              False      0.994816       any      P19  \n",
       "6              False      0.996224       any      P19  \n",
       "8              False      0.983260       any      P19  \n",
       "...              ...           ...       ...      ...  \n",
       "31144          False      0.977363       any    P1376  \n",
       "31171          False      0.993783       any    P1376  \n",
       "31336          False      0.980626       any    P1376  \n",
       "31372          False      0.989695       any    P1376  \n",
       "31374          False      0.992605       any    P1376  \n",
       "\n",
       "[8901 rows x 16 columns]"
      ]
     },
     "execution_count": 11,
     "metadata": {},
     "output_type": "execute_result"
    }
   ],
   "source": [
    "test_token = \"the\"\n",
    "data[(data.sample_answer==test_token) | (data.lama_answer==test_token)]"
   ]
  },
  {
   "cell_type": "markdown",
   "id": "2b9726ef",
   "metadata": {},
   "source": [
    "## Similarity values measured before TE thresholding"
   ]
  },
  {
   "cell_type": "code",
   "execution_count": 12,
   "id": "224b4dac",
   "metadata": {},
   "outputs": [
    {
     "data": {
      "image/png": "[encoded data removed]",
      "text/plain": [
       "<Figure size 288x144 with 1 Axes>"
      ]
     },
     "metadata": {
      "needs_background": "light"
     },
     "output_type": "display_data"
    }
   ],
   "source": [
    "plt.figure(figsize=(4,2))\n",
    "sns.histplot(data=data[data.pred_type==\"any\"], x=\"pairwise_sim\", hue=\"is_consistent\", bins=80)\n",
    "plt.xlim([0.8,1])\n",
    "plt.xlabel(\"Pairwise similarity\")\n",
    "plt.ylabel(\"#samples\")\n",
    "plt.legend(title='Consistent', loc='upper left', labels=['True', 'False'])\n",
    "plt.savefig(\"/cephyr/users/lovhag/Alvis/projects/rome/images/sim_cons_any_te.svg\")\n",
    "plt.show()"
   ]
  },
  {
   "cell_type": "code",
   "execution_count": 13,
   "id": "d4d839cc",
   "metadata": {},
   "outputs": [
    {
     "data": {
      "text/plain": [
       "0.98230348727838"
      ]
     },
     "execution_count": 13,
     "metadata": {},
     "output_type": "execute_result"
    }
   ],
   "source": [
    "data[data.pred_type==\"any\"].pairwise_sim.mean()"
   ]
  },
  {
   "cell_type": "code",
   "execution_count": 14,
   "id": "0e47df33",
   "metadata": {},
   "outputs": [
    {
     "data": {
      "text/plain": [
       "0.4215492606163025"
      ]
     },
     "execution_count": 14,
     "metadata": {},
     "output_type": "execute_result"
    }
   ],
   "source": [
    "data[data.pred_type==\"any\"].pairwise_sim.min()"
   ]
  },
  {
   "cell_type": "code",
   "execution_count": 15,
   "id": "e412be60",
   "metadata": {},
   "outputs": [
    {
     "data": {
      "text/plain": [
       "0.026020105593205667"
      ]
     },
     "execution_count": 15,
     "metadata": {},
     "output_type": "execute_result"
    }
   ],
   "source": [
    "data[data.pred_type==\"any\"].pairwise_sim.std()"
   ]
  },
  {
   "cell_type": "markdown",
   "id": "72bcdcc3",
   "metadata": {},
   "source": [
    "## TE and consistency interaction"
   ]
  },
  {
   "cell_type": "code",
   "execution_count": 16,
   "id": "36981827",
   "metadata": {},
   "outputs": [
    {
     "data": {
      "image/png": "[encoded data removed]",
      "text/plain": [
       "<Figure size 432x288 with 1 Axes>"
      ]
     },
     "metadata": {
      "needs_background": "light"
     },
     "output_type": "display_data"
    }
   ],
   "source": [
    "sns.boxplot(data=data, x=\"is_consistent\", y=\"sample_te\", hue=\"pred_type\")\n",
    "plt.show()"
   ]
  },
  {
   "cell_type": "code",
   "execution_count": 17,
   "id": "e48265e2",
   "metadata": {},
   "outputs": [
    {
     "data": {
      "image/png": "[encoded data removed]",
      "text/plain": [
       "<Figure size 288x144 with 1 Axes>"
      ]
     },
     "metadata": {
      "needs_background": "light"
     },
     "output_type": "display_data"
    }
   ],
   "source": [
    "plt.figure(figsize=(4,2))\n",
    "ax = sns.boxplot(data=data, x=\"is_consistent\", y=\"lama_te\", hue=\"pred_type\")\n",
    "plt.xlabel(\"Consistent\")\n",
    "plt.ylabel(\"TE\")\n",
    "handles, _ = ax.get_legend_handles_labels()\n",
    "ax.legend(handles, [\"Top\", \"Top candidate\"])\n",
    "plt.savefig(\"/cephyr/users/lovhag/Alvis/projects/rome/images/te_cons.svg\")\n",
    "plt.show()"
   ]
  },
  {
   "cell_type": "code",
   "execution_count": 18,
   "id": "94e00ee6",
   "metadata": {},
   "outputs": [
    {
     "data": {
      "text/plain": [
       "pred_type  is_consistent\n",
       "any        False            10463\n",
       "           True              3445\n",
       "candidate  False             5692\n",
       "           True             11851\n",
       "Name: sample_te, dtype: int64"
      ]
     },
     "execution_count": 18,
     "metadata": {},
     "output_type": "execute_result"
    }
   ],
   "source": [
    "data.groupby([\"pred_type\", \"is_consistent\"]).sample_te.count()"
   ]
  },
  {
   "cell_type": "markdown",
   "id": "80a1e33b",
   "metadata": {},
   "source": [
    "## TE threshold"
   ]
  },
  {
   "cell_type": "markdown",
   "id": "36ec8e1e",
   "metadata": {},
   "source": [
    "To ensure that we only measure fact associations for a memory recall process, we restrict our analysis to samples for which perturbing the subject yields a lower probability of the traced object compared to the unperturbed case. I.e. the total effect as defined by Meng et al. is positive.\n",
    "\n",
    "> We need to be able to show that we can perform causal tracing also for incorrect predictions. The ROME CT results by the ROME authors had a mean TE of 0.229, with minimum around -0.2 and maximum around 1. We match this by thresholding the TE of our CT results to be above 0.1."
   ]
  },
  {
   "cell_type": "code",
   "execution_count": 19,
   "id": "107d4a08",
   "metadata": {},
   "outputs": [
    {
     "name": "stdout",
     "output_type": "stream",
     "text": [
      "5548 data samples have a TE above 0.1\n"
     ]
    }
   ],
   "source": [
    "te_thresh = 0.1\n",
    "data = data[(data.sample_te>te_thresh) & (data.lama_te>te_thresh)]\n",
    "print(f\"{len(data)} data samples have a TE above 0.1\")"
   ]
  },
  {
   "cell_type": "code",
   "execution_count": 20,
   "id": "cbdb86e2",
   "metadata": {},
   "outputs": [
    {
     "data": {
      "image/png": "[encoded data removed]",
      "text/plain": [
       "<Figure size 720x288 with 1 Axes>"
      ]
     },
     "metadata": {
      "needs_background": "light"
     },
     "output_type": "display_data"
    }
   ],
   "source": [
    "plt.figure(figsize=(10,4))\n",
    "sns.histplot(data=data, x=\"sample_te\", hue=\"pred_type\")\n",
    "plt.show()"
   ]
  },
  {
   "cell_type": "code",
   "execution_count": 21,
   "id": "fa618474",
   "metadata": {},
   "outputs": [
    {
     "data": {
      "text/html": [
       "<div>\n",
       "<style scoped>\n",
       "    .dataframe tbody tr th:only-of-type {\n",
       "        vertical-align: middle;\n",
       "    }\n",
       "\n",
       "    .dataframe tbody tr th {\n",
       "        vertical-align: top;\n",
       "    }\n",
       "\n",
       "    .dataframe thead tr th {\n",
       "        text-align: left;\n",
       "    }\n",
       "\n",
       "    .dataframe thead tr:last-of-type th {\n",
       "        text-align: right;\n",
       "    }\n",
       "</style>\n",
       "<table border=\"1\" class=\"dataframe\">\n",
       "  <thead>\n",
       "    <tr>\n",
       "      <th></th>\n",
       "      <th colspan=\"2\" halign=\"left\">sample_te</th>\n",
       "      <th colspan=\"2\" halign=\"left\">lama_te</th>\n",
       "    </tr>\n",
       "    <tr>\n",
       "      <th></th>\n",
       "      <th>mean</th>\n",
       "      <th>count</th>\n",
       "      <th>mean</th>\n",
       "      <th>count</th>\n",
       "    </tr>\n",
       "    <tr>\n",
       "      <th>pred_type</th>\n",
       "      <th></th>\n",
       "      <th></th>\n",
       "      <th></th>\n",
       "      <th></th>\n",
       "    </tr>\n",
       "  </thead>\n",
       "  <tbody>\n",
       "    <tr>\n",
       "      <th>any</th>\n",
       "      <td>0.380810</td>\n",
       "      <td>2544</td>\n",
       "      <td>0.430536</td>\n",
       "      <td>2544</td>\n",
       "    </tr>\n",
       "    <tr>\n",
       "      <th>candidate</th>\n",
       "      <td>0.352712</td>\n",
       "      <td>3004</td>\n",
       "      <td>0.375312</td>\n",
       "      <td>3004</td>\n",
       "    </tr>\n",
       "  </tbody>\n",
       "</table>\n",
       "</div>"
      ],
      "text/plain": [
       "          sample_te         lama_te      \n",
       "               mean count      mean count\n",
       "pred_type                                \n",
       "any        0.380810  2544  0.430536  2544\n",
       "candidate  0.352712  3004  0.375312  3004"
      ]
     },
     "execution_count": 21,
     "metadata": {},
     "output_type": "execute_result"
    }
   ],
   "source": [
    "data.groupby(\"pred_type\")[[\"sample_te\", \"lama_te\"]].agg([\"mean\", \"count\"])"
   ]
  },
  {
   "cell_type": "code",
   "execution_count": 22,
   "id": "8794c9e5",
   "metadata": {},
   "outputs": [
    {
     "data": {
      "text/html": [
       "<div>\n",
       "<style scoped>\n",
       "    .dataframe tbody tr th:only-of-type {\n",
       "        vertical-align: middle;\n",
       "    }\n",
       "\n",
       "    .dataframe tbody tr th {\n",
       "        vertical-align: top;\n",
       "    }\n",
       "\n",
       "    .dataframe thead tr th {\n",
       "        text-align: left;\n",
       "    }\n",
       "\n",
       "    .dataframe thead tr:last-of-type th {\n",
       "        text-align: right;\n",
       "    }\n",
       "</style>\n",
       "<table border=\"1\" class=\"dataframe\">\n",
       "  <thead>\n",
       "    <tr>\n",
       "      <th></th>\n",
       "      <th colspan=\"2\" halign=\"left\">sample_te</th>\n",
       "      <th colspan=\"2\" halign=\"left\">lama_te</th>\n",
       "    </tr>\n",
       "    <tr>\n",
       "      <th></th>\n",
       "      <th>mean</th>\n",
       "      <th>count</th>\n",
       "      <th>mean</th>\n",
       "      <th>count</th>\n",
       "    </tr>\n",
       "    <tr>\n",
       "      <th>pred_type</th>\n",
       "      <th></th>\n",
       "      <th></th>\n",
       "      <th></th>\n",
       "      <th></th>\n",
       "    </tr>\n",
       "  </thead>\n",
       "  <tbody>\n",
       "    <tr>\n",
       "      <th>any</th>\n",
       "      <td>0.380810</td>\n",
       "      <td>2544</td>\n",
       "      <td>0.430536</td>\n",
       "      <td>2544</td>\n",
       "    </tr>\n",
       "    <tr>\n",
       "      <th>candidate</th>\n",
       "      <td>0.352712</td>\n",
       "      <td>3004</td>\n",
       "      <td>0.375312</td>\n",
       "      <td>3004</td>\n",
       "    </tr>\n",
       "  </tbody>\n",
       "</table>\n",
       "</div>"
      ],
      "text/plain": [
       "          sample_te         lama_te      \n",
       "               mean count      mean count\n",
       "pred_type                                \n",
       "any        0.380810  2544  0.430536  2544\n",
       "candidate  0.352712  3004  0.375312  3004"
      ]
     },
     "execution_count": 22,
     "metadata": {},
     "output_type": "execute_result"
    }
   ],
   "source": [
    "data.groupby(\"pred_type\")[[\"sample_te\", \"lama_te\"]].agg([\"mean\", \"count\"])"
   ]
  },
  {
   "cell_type": "markdown",
   "id": "6431a95f",
   "metadata": {},
   "source": [
    "The results for the LAMA template re-occurs for each paraphrase and needs to be de-duplicated."
   ]
  },
  {
   "cell_type": "code",
   "execution_count": 23,
   "id": "c215970c",
   "metadata": {},
   "outputs": [
    {
     "data": {
      "text/plain": [
       "0.4007626285231159"
      ]
     },
     "execution_count": 23,
     "metadata": {},
     "output_type": "execute_result"
    }
   ],
   "source": [
    "data[data.pred_type==\"any\"].groupby([\"lama_ix\", \"relation\"]).mean().lama_te.mean()"
   ]
  },
  {
   "cell_type": "code",
   "execution_count": 37,
   "id": "ad639bd6",
   "metadata": {},
   "outputs": [
    {
     "data": {
      "text/plain": [
       "0.35252481416588827"
      ]
     },
     "execution_count": 37,
     "metadata": {},
     "output_type": "execute_result"
    }
   ],
   "source": [
    "data[data.pred_type==\"candidate\"].groupby([\"lama_ix\", \"relation\"]).mean().lama_te.mean()"
   ]
  },
  {
   "cell_type": "code",
   "execution_count": 39,
   "id": "0f217b99",
   "metadata": {},
   "outputs": [
    {
     "data": {
      "text/plain": [
       "620"
      ]
     },
     "execution_count": 39,
     "metadata": {},
     "output_type": "execute_result"
    }
   ],
   "source": [
    "len(data[data.pred_type==\"candidate\"].groupby([\"lama_ix\", \"relation\"]).mean().lama_te)"
   ]
  },
  {
   "cell_type": "markdown",
   "id": "1d66f58e",
   "metadata": {},
   "source": [
    "## The makeup of the data"
   ]
  },
  {
   "cell_type": "code",
   "execution_count": 24,
   "id": "ef585639",
   "metadata": {},
   "outputs": [
    {
     "data": {
      "text/plain": [
       "P27      1300\n",
       "P1376     613\n",
       "P740      389\n",
       "P495       75\n",
       "P19        75\n",
       "P101       50\n",
       "P20        42\n",
       "Name: relation, dtype: int64"
      ]
     },
     "execution_count": 24,
     "metadata": {},
     "output_type": "execute_result"
    }
   ],
   "source": [
    "data[data.pred_type==\"any\"].relation.value_counts()"
   ]
  },
  {
   "cell_type": "code",
   "execution_count": 48,
   "id": "37a43906",
   "metadata": {},
   "outputs": [
    {
     "data": {
      "text/plain": [
       "P27      2135\n",
       "P1376     708\n",
       "P495       56\n",
       "P19        47\n",
       "P101       29\n",
       "P740       25\n",
       "P20         4\n",
       "Name: relation, dtype: int64"
      ]
     },
     "execution_count": 48,
     "metadata": {},
     "output_type": "execute_result"
    }
   ],
   "source": [
    "data[data.pred_type==\"candidate\"].relation.value_counts()"
   ]
  },
  {
   "cell_type": "code",
   "execution_count": 25,
   "id": "75fc1631",
   "metadata": {},
   "outputs": [
    {
     "data": {
      "image/png": "[encoded data removed]",
      "text/plain": [
       "<Figure size 720x288 with 1 Axes>"
      ]
     },
     "metadata": {
      "needs_background": "light"
     },
     "output_type": "display_data"
    }
   ],
   "source": [
    "plt.figure(figsize=(10,4))\n",
    "sns.histplot(data=data, x=\"sample_te\", hue=\"relation\", multiple=\"dodge\")\n",
    "plt.show()"
   ]
  },
  {
   "cell_type": "markdown",
   "id": "8cf7c04c",
   "metadata": {},
   "source": [
    "## Consistency results\n",
    "We are also interested in model consistency. We can here observe how the model is generally more consistent when we filter the output for candidates, but that it does not achieve perfect consistency. \n",
    "\n",
    "> Note that these consistency values only are measured for pairwise comparisons between the LAMA template and other paraphrases."
   ]
  },
  {
   "cell_type": "code",
   "execution_count": 26,
   "id": "5dca12e7",
   "metadata": {},
   "outputs": [
    {
     "data": {
      "text/html": [
       "<div>\n",
       "<style scoped>\n",
       "    .dataframe tbody tr th:only-of-type {\n",
       "        vertical-align: middle;\n",
       "    }\n",
       "\n",
       "    .dataframe tbody tr th {\n",
       "        vertical-align: top;\n",
       "    }\n",
       "\n",
       "    .dataframe thead th {\n",
       "        text-align: right;\n",
       "    }\n",
       "</style>\n",
       "<table border=\"1\" class=\"dataframe\">\n",
       "  <thead>\n",
       "    <tr style=\"text-align: right;\">\n",
       "      <th></th>\n",
       "      <th>mean</th>\n",
       "      <th>count</th>\n",
       "    </tr>\n",
       "    <tr>\n",
       "      <th>pred_type</th>\n",
       "      <th></th>\n",
       "      <th></th>\n",
       "    </tr>\n",
       "  </thead>\n",
       "  <tbody>\n",
       "    <tr>\n",
       "      <th>any</th>\n",
       "      <td>0.882075</td>\n",
       "      <td>2544</td>\n",
       "    </tr>\n",
       "    <tr>\n",
       "      <th>candidate</th>\n",
       "      <td>0.970373</td>\n",
       "      <td>3004</td>\n",
       "    </tr>\n",
       "  </tbody>\n",
       "</table>\n",
       "</div>"
      ],
      "text/plain": [
       "               mean  count\n",
       "pred_type                 \n",
       "any        0.882075   2544\n",
       "candidate  0.970373   3004"
      ]
     },
     "execution_count": 26,
     "metadata": {},
     "output_type": "execute_result"
    }
   ],
   "source": [
    "data.groupby(\"pred_type\").is_consistent.agg([\"mean\", \"count\"])"
   ]
  },
  {
   "cell_type": "markdown",
   "id": "9737a4b1",
   "metadata": {},
   "source": [
    "## Accuracy results\n",
    "We show that a high TE value can be measured even when the model is not correct. For all results below the TE is higher than 0.1."
   ]
  },
  {
   "cell_type": "code",
   "execution_count": 27,
   "id": "c8d58ebd",
   "metadata": {},
   "outputs": [
    {
     "data": {
      "text/html": [
       "<div>\n",
       "<style scoped>\n",
       "    .dataframe tbody tr th:only-of-type {\n",
       "        vertical-align: middle;\n",
       "    }\n",
       "\n",
       "    .dataframe tbody tr th {\n",
       "        vertical-align: top;\n",
       "    }\n",
       "\n",
       "    .dataframe thead tr th {\n",
       "        text-align: left;\n",
       "    }\n",
       "\n",
       "    .dataframe thead tr:last-of-type th {\n",
       "        text-align: right;\n",
       "    }\n",
       "</style>\n",
       "<table border=\"1\" class=\"dataframe\">\n",
       "  <thead>\n",
       "    <tr>\n",
       "      <th></th>\n",
       "      <th colspan=\"2\" halign=\"left\">lama_correct</th>\n",
       "      <th colspan=\"2\" halign=\"left\">sample_correct</th>\n",
       "    </tr>\n",
       "    <tr>\n",
       "      <th></th>\n",
       "      <th>mean</th>\n",
       "      <th>count</th>\n",
       "      <th>mean</th>\n",
       "      <th>count</th>\n",
       "    </tr>\n",
       "    <tr>\n",
       "      <th>pred_type</th>\n",
       "      <th></th>\n",
       "      <th></th>\n",
       "      <th></th>\n",
       "      <th></th>\n",
       "    </tr>\n",
       "  </thead>\n",
       "  <tbody>\n",
       "    <tr>\n",
       "      <th>any</th>\n",
       "      <td>0.683569</td>\n",
       "      <td>2544</td>\n",
       "      <td>0.617531</td>\n",
       "      <td>2544</td>\n",
       "    </tr>\n",
       "    <tr>\n",
       "      <th>candidate</th>\n",
       "      <td>0.812250</td>\n",
       "      <td>3004</td>\n",
       "      <td>0.800932</td>\n",
       "      <td>3004</td>\n",
       "    </tr>\n",
       "  </tbody>\n",
       "</table>\n",
       "</div>"
      ],
      "text/plain": [
       "          lama_correct       sample_correct      \n",
       "                  mean count           mean count\n",
       "pred_type                                        \n",
       "any           0.683569  2544       0.617531  2544\n",
       "candidate     0.812250  3004       0.800932  3004"
      ]
     },
     "execution_count": 27,
     "metadata": {},
     "output_type": "execute_result"
    }
   ],
   "source": [
    "data.groupby(\"pred_type\")[[\"lama_correct\", \"sample_correct\"]].agg([\"mean\", \"count\"])"
   ]
  },
  {
   "cell_type": "markdown",
   "id": "94482bad",
   "metadata": {},
   "source": [
    "Measure TE and correctness across LAMA templates. Since these are repeated pairwise we need to make sure that we do not double report them."
   ]
  },
  {
   "cell_type": "code",
   "execution_count": 28,
   "id": "1e6f349d",
   "metadata": {},
   "outputs": [
    {
     "data": {
      "text/plain": [
       "526"
      ]
     },
     "execution_count": 28,
     "metadata": {},
     "output_type": "execute_result"
    }
   ],
   "source": [
    "# number of LAMA queries across all included relations\n",
    "data[data.pred_type==\"any\"].groupby([\"lama_ix\", \"relation\"]).mean().lama_correct.count()"
   ]
  },
  {
   "cell_type": "code",
   "execution_count": 41,
   "id": "06c93834",
   "metadata": {},
   "outputs": [
    {
     "data": {
      "text/plain": [
       "485.0"
      ]
     },
     "execution_count": 41,
     "metadata": {},
     "output_type": "execute_result"
    }
   ],
   "source": [
    "# number of LAMA queries across all included relations\n",
    "data[data.pred_type==\"candidate\"].groupby([\"lama_ix\", \"relation\"]).mean().lama_correct.sum()"
   ]
  },
  {
   "cell_type": "code",
   "execution_count": 29,
   "id": "23acfed2",
   "metadata": {},
   "outputs": [
    {
     "data": {
      "image/png": "[encoded data removed]",
      "text/plain": [
       "<Figure size 720x288 with 1 Axes>"
      ]
     },
     "metadata": {
      "needs_background": "light"
     },
     "output_type": "display_data"
    },
    {
     "data": {
      "image/png": "[encoded data removed]",
      "text/plain": [
       "<Figure size 720x288 with 1 Axes>"
      ]
     },
     "metadata": {
      "needs_background": "light"
     },
     "output_type": "display_data"
    }
   ],
   "source": [
    "plt.figure(figsize=(10,4))\n",
    "sns.histplot(data=data[data.pred_type==\"any\"].groupby([\"lama_ix\", \"relation\"]).mean(), x=\"lama_te\", hue=\"lama_correct\")\n",
    "plt.title(\"For LAMA templates with no candidate filter\")\n",
    "plt.show()\n",
    "\n",
    "plt.figure(figsize=(10,4))\n",
    "sns.histplot(data=data[data.pred_type==\"candidate\"].groupby([\"lama_ix\", \"relation\"]).mean(), x=\"lama_te\", hue=\"lama_correct\")\n",
    "plt.title(\"For LAMA templates with pred filtered by candidates (also top pred)\")\n",
    "plt.show()"
   ]
  },
  {
   "cell_type": "code",
   "execution_count": 30,
   "id": "dd83d98a",
   "metadata": {},
   "outputs": [
    {
     "data": {
      "image/png": "[encoded data removed]",
      "text/plain": [
       "<Figure size 720x288 with 1 Axes>"
      ]
     },
     "metadata": {
      "needs_background": "light"
     },
     "output_type": "display_data"
    },
    {
     "data": {
      "image/png": "[encoded data removed]",
      "text/plain": [
       "<Figure size 720x288 with 1 Axes>"
      ]
     },
     "metadata": {
      "needs_background": "light"
     },
     "output_type": "display_data"
    }
   ],
   "source": [
    "plt.figure(figsize=(10,4))\n",
    "sns.histplot(data=data[data.pred_type==\"any\"], x=\"sample_te\", hue=\"sample_correct\")\n",
    "plt.title(\"For samples (not LAMA templates) with no candidate filter\")\n",
    "plt.show()\n",
    "\n",
    "plt.figure(figsize=(10,4))\n",
    "sns.histplot(data=data[data.pred_type==\"candidate\"], x=\"sample_te\", hue=\"sample_correct\")\n",
    "plt.title(\"For samples (not LAMA templates) with pred filtered by candidates (also top pred)\")\n",
    "plt.show()"
   ]
  },
  {
   "cell_type": "code",
   "execution_count": 44,
   "id": "c3fb98d3",
   "metadata": {},
   "outputs": [
    {
     "data": {
      "text/plain": [
       "0.21812908259359584"
      ]
     },
     "execution_count": 44,
     "metadata": {},
     "output_type": "execute_result"
    }
   ],
   "source": [
    "cols_subset = list(data.columns)\n",
    "cols_subset.remove(\"pred_type\")\n",
    "cand_dups = data.duplicated(cols_subset)\n",
    "#need to de-duplicate LAMA template results\n",
    "data[~(cand_dups) & (data.pred_type==\"candidate\")].groupby([\"lama_ix\", \"relation\"]).mean().lama_te.mean()"
   ]
  },
  {
   "cell_type": "markdown",
   "id": "74faae2f",
   "metadata": {},
   "source": [
    "## Evaluate RQ1"
   ]
  },
  {
   "cell_type": "markdown",
   "id": "e19cd0b9",
   "metadata": {},
   "source": [
    "We should be able to observe a correlation between consistent predictions and consistent fact recall, measured as similarity between extracted factual subject associations. \n",
    "\n",
    "We report the Spearman correlation between model consistency and extraction pattern similarity."
   ]
  },
  {
   "cell_type": "code",
   "execution_count": null,
   "id": "80e65258",
   "metadata": {},
   "outputs": [],
   "source": [
    "plt.figure(figsize=(10,4))\n",
    "sns.histplot(data=data[data.pred_type==\"any\"], x=\"pairwise_sim\", hue=\"is_consistent\")\n",
    "plt.show()\n",
    "\n",
    "plt.figure(figsize=(10,4))\n",
    "sns.histplot(data=data[(data.pred_type==\"any\") & (data.pairwise_sim<0.95)], x=\"pairwise_sim\", hue=\"is_consistent\")\n",
    "plt.show()"
   ]
  },
  {
   "cell_type": "code",
   "execution_count": null,
   "id": "a92b800b",
   "metadata": {},
   "outputs": [],
   "source": [
    "plt.figure(figsize=(4,2))\n",
    "sns.histplot(data=data[data.pred_type==\"any\"], x=\"pairwise_sim\", hue=\"is_consistent\", bins=80)\n",
    "plt.xlim([0.8,1])\n",
    "plt.xlabel(\"Pairwise similarity\")\n",
    "plt.ylabel(\"#samples\")\n",
    "plt.legend(title='Consistent', loc='upper left', labels=['True', 'False'])\n",
    "plt.savefig(\"/cephyr/users/lovhag/Alvis/projects/rome/images/sim_cons.svg\")\n",
    "plt.show()"
   ]
  },
  {
   "cell_type": "code",
   "execution_count": null,
   "id": "e75f8ede",
   "metadata": {},
   "outputs": [],
   "source": [
    "data[data.pred_type==\"any\"].pairwise_sim.mean()"
   ]
  },
  {
   "cell_type": "code",
   "execution_count": null,
   "id": "e7c45f9f",
   "metadata": {},
   "outputs": [],
   "source": [
    "data[data.pred_type==\"any\"].pairwise_sim.min()"
   ]
  },
  {
   "cell_type": "code",
   "execution_count": null,
   "id": "ea3ca88a",
   "metadata": {},
   "outputs": [],
   "source": [
    "data[data.pred_type==\"any\"].pairwise_sim.std()"
   ]
  },
  {
   "cell_type": "code",
   "execution_count": null,
   "id": "ba43a7ce",
   "metadata": {},
   "outputs": [],
   "source": [
    "plt.figure(figsize=(10,4))\n",
    "sns.histplot(data=data[data.pred_type==\"candidate\"], x=\"pairwise_sim\", hue=\"is_consistent\")\n",
    "plt.show()\n",
    "\n",
    "plt.figure(figsize=(10,4))\n",
    "sns.histplot(data=data[(data.pred_type==\"candidate\") & (data.pairwise_sim<0.95)], x=\"pairwise_sim\", hue=\"is_consistent\")\n",
    "plt.show()"
   ]
  },
  {
   "cell_type": "code",
   "execution_count": null,
   "id": "539bc447",
   "metadata": {},
   "outputs": [],
   "source": [
    "test_data = data[data.pred_type==\"any\"].copy()\n",
    "\n",
    "print(scipy.stats.spearmanr(test_data.is_consistent, \n",
    "                      test_data.pairwise_sim))\n",
    "print(f\"Number of samples: {len(test_data)}, of which {(len(test_data[test_data.is_consistent]))} are consistent.\")"
   ]
  },
  {
   "cell_type": "code",
   "execution_count": null,
   "id": "789590eb",
   "metadata": {},
   "outputs": [],
   "source": [
    "test_data = data[data.pred_type==\"candidate\"].copy()\n",
    "\n",
    "print(scipy.stats.spearmanr(test_data.is_consistent, \n",
    "                      test_data.pairwise_sim))\n",
    "print(f\"Number of samples: {len(test_data)}, of which {(len(test_data[test_data.is_consistent]))} are consistent.\")"
   ]
  },
  {
   "cell_type": "markdown",
   "id": "ccf1ba4a",
   "metadata": {},
   "source": [
    "## Error analysis"
   ]
  },
  {
   "cell_type": "code",
   "execution_count": null,
   "id": "d088866a",
   "metadata": {
    "scrolled": false
   },
   "outputs": [],
   "source": [
    "data[data.is_consistent==False].groupby([\"lama_answer\",\"sample_answer\"]).agg({\"lama_te\": \"mean\", \"sample_te\": \"mean\", \"pairwise_sim\": [\"mean\",\"count\"]})\n"
   ]
  },
  {
   "cell_type": "markdown",
   "id": "f6baa79a",
   "metadata": {},
   "source": [
    "Is it the case that the model for \"the\" or \"a\" sample predictions also ranks the LAMA predicted token highly?"
   ]
  },
  {
   "cell_type": "code",
   "execution_count": null,
   "id": "cc0d7edc",
   "metadata": {
    "scrolled": true
   },
   "outputs": [],
   "source": [
    "the_ixs = data[(data.is_consistent==False) & (data.sample_answer.isin(forbidden_predictions))][[\"relation\",\"sample_ix\"]]\n",
    "data_mask = data.apply(lambda row: row.sample_ix in list(the_ixs[the_ixs.relation==row.relation].sample_ix), axis=1)\n",
    "data[data_mask]"
   ]
  },
  {
   "cell_type": "code",
   "execution_count": null,
   "id": "5d03d788",
   "metadata": {},
   "outputs": [],
   "source": [
    "data[(data.is_consistent==True) & (data.pairwise_sim<0.95)].groupby([\"lama_answer\",\"sample_answer\"]).agg({\"lama_te\": \"mean\", \"sample_te\": \"mean\", \"pairwise_sim\": [\"mean\",\"count\"]})\n"
   ]
  }
 ],
 "metadata": {
  "kernelspec": {
   "display_name": "Python 3 (ipykernel)",
   "language": "python",
   "name": "python3"
  },
  "language_info": {
   "codemirror_mode": {
    "name": "ipython",
    "version": 3
   },
   "file_extension": ".py",
   "mimetype": "text/x-python",
   "name": "python",
   "nbconvert_exporter": "python",
   "pygments_lexer": "ipython3",
   "version": "3.9.5"
  }
 },
 "nbformat": 4,
 "nbformat_minor": 5
}
